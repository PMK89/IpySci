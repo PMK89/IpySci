{
 "cells": [
  {
   "cell_type": "markdown",
   "metadata": {},
   "source": [
    " <a name=\"Overview\"></a>\n",
    "# Overview\n",
    "\n",
    "[Global Imports](#GlobImp)\n",
    "\n",
    "[Global Classes](#GlobClas)\n",
    "\n",
    "[Global Variables and Functions](#GlobVarFunc)\n",
    "\n",
    "[Mathematical Functions](#MathFunc)\n",
    "\n",
    "[Graphical Output](#GraphOut)\n",
    "\n",
    "[Interactive Elements](#IntElem)\n",
    "\n",
    "[Layout](#Layout)"
   ]
  },
  {
   "cell_type": "markdown",
   "metadata": {},
   "source": [
    "<a name=\"GlobImp\"></a>\n",
    "# Global Imports"
   ]
  },
  {
   "cell_type": "code",
   "execution_count": 22,
   "metadata": {
    "collapsed": true,
    "extensions": {
     "jupyter_dashboards": {
      "version": 1,
      "views": {
       "grid_default": {
        "hidden": true
       },
       "report_default": {
        "hidden": true
       }
      }
     }
    }
   },
   "outputs": [],
   "source": [
    "%matplotlib inline\n",
    "import numpy as np\n",
    "import sympy as sp\n",
    "import matplotlib.pyplot as plt\n",
    "import bqplot as bqp\n",
    "import ipywidgets as widgets\n",
    "plt.style.use('ggplot')\n",
    "sp.init_printing()\n"
   ]
  },
  {
   "cell_type": "markdown",
   "metadata": {},
   "source": [
    " <a name=\"GlobClas\"></a>\n",
    "# Global Classes \n",
    "[Overview](#Overview)"
   ]
  },
  {
   "cell_type": "code",
   "execution_count": 36,
   "metadata": {
    "collapsed": true
   },
   "outputs": [],
   "source": [
    "# graphing classes\n",
    "\n",
    "# line class\n",
    "class is_line:\n",
    "    def __init__(self, x_data, y_data, expr, x_sc, y_sc):\n",
    "        self.x_data = x_data\n",
    "        self.y_data = y_data\n",
    "        self.x_sc = x_sc\n",
    "        self.y_sc = y_sc\n",
    "        self.expr = expr\n",
    "            \n",
    "# graph class\n",
    "class is_graph:\n",
    "    active = False\n",
    "    position = 3\n",
    "    x_min=-1\n",
    "    x_max=1\n",
    "    x_log=False\n",
    "    y_log=False\n",
    "    fig=False\n",
    "    x_steps = 100\n",
    "    def __init__(self, x_label='X', y_label='Y', title_label='Title', \\\n",
    "                 x_min=x_min, x_max=x_max, x_log=x_log, y_log=y_log, x_steps=x_steps):\n",
    "        self.x_label = x_label\n",
    "        self.y_label = y_label        \n",
    "        self.title_label = title_label\n",
    "        self.x_min = x_min\n",
    "        self.x_max = x_max\n",
    "        self.x_log = x_log\n",
    "        self.y_log = y_log\n",
    "        selfx_steps = x_steps\n",
    "        self.lines = []\n",
    "        \n",
    "    def addline(self, x_data, y_data, expr, x_sc, y_sc):\n",
    "        self.lines.append(is_line(x_data, y_data))"
   ]
  },
  {
   "cell_type": "markdown",
   "metadata": {},
   "source": [
    "<a name=\"GlobVarFunc\"></a>\n",
    "# Global Variables and Functions \n",
    "[Overview](#Overview)"
   ]
  },
  {
   "cell_type": "code",
   "execution_count": 48,
   "metadata": {
    "collapsed": true,
    "extensions": {
     "jupyter_dashboards": {
      "version": 1,
      "views": {
       "grid_default": {
        "col": 7,
        "height": 4,
        "hidden": false,
        "row": 0,
        "width": 4
       },
       "report_default": {}
      }
     }
    }
   },
   "outputs": [],
   "source": [
    "#global variables\n",
    "x, y, z, t = sp.symbols(\"x y z t\")\n",
    "\n",
    "expr = x\n",
    "expr_str = str(expr)\n",
    "expr_array = []\n",
    "history_array = []\n",
    "plot_array = []\n",
    "fig_array = []\n",
    "active_plot = 3\n",
    "default_graph_settings = False\n",
    "history_vbox = widgets.VBox(history_array)\n",
    "viz_vbox = widgets.VBox(fig_array)\n",
    "input_box = widgets.HBox([])\n",
    "gui = widgets.HBox([])\n",
    "\n",
    "#makes a numerical computation of sympy equation\n",
    "def npfy(x_, x_data, expr_):\n",
    "    f = sp.lambdify(x_, expr_, 'numpy')\n",
    "    y_data = f(x_data)\n",
    "    return y_data\n",
    "\n",
    "# updates the gui\n",
    "def update_gui():\n",
    "    global gui\n",
    "    gui = widgets.HBox([left_box, viz_vbox])\n",
    "    display(gui)\n",
    "\n",
    "# updates the graphs\n",
    "def update_viz():\n",
    "    global fig_array\n",
    "    option_array = []\n",
    "    for idx, plot in enumerate(plot_array):\n",
    "        fig_array.append(plot.fig)\n",
    "        option_array.append(idx)\n",
    "    viz_vbox = widgets.VBox(fig_array)\n",
    "    update_gui()\n",
    "\n",
    "# shows the equation\n",
    "def update_history():\n",
    "    global expr_array\n",
    "    global history_array\n",
    "    global history_vbox\n",
    "    history_array = []\n",
    "    history_vbox.close()\n",
    "    style = {'description_width': 'initial'}\n",
    "    layout = widgets.Layout(display='inline-flex')\n",
    "    option_array = []\n",
    "    for idx, expr_ in enumerate(expr_array):\n",
    "        equation = widgets.Label(value=r'\\(' + sp.latex(expr_) + '\\)', style=style, layout=layout)\n",
    "        index = widgets.Label(value=str(idx))\n",
    "        hexp_hbox = widgets.HBox([index, equation])\n",
    "        history_array.append(hexp_hbox)\n",
    "        option_array.append(idx)\n",
    "    history_vbox = widgets.VBox(history_array)\n",
    "    eq_dropdown.options = option_array\n",
    "    update_gui()\n",
    "    return history_array\n",
    "\n",
    "#sets choosen expresion active\n",
    "def setactivegraph(self):\n",
    "    global active_plot\n",
    "    active_plot = active_dropdown.value\n",
    "\n",
    "\n",
    "#sets choosen expresion active\n",
    "def setactive(self):\n",
    "    global expr\n",
    "    global expr_str\n",
    "    pos = eq_dropdown.value\n",
    "    expr = expr_array[pos]\n",
    "    expr_str = str(expr)\n",
    "    expr_input.value = expr_str\n",
    "    \n",
    "\n",
    "#appends expression array and updates output\n",
    "def expr_array_append(expr0):\n",
    "    global expr_array\n",
    "    if len(expr_array) > 0:\n",
    "        if expr_array[-1] is not expr0:\n",
    "            expr_array.insert(0, expr0)\n",
    "    else:\n",
    "        expr_array.append(expr)\n",
    "    update_history()\n"
   ]
  },
  {
   "cell_type": "code",
   "execution_count": null,
   "metadata": {
    "collapsed": true
   },
   "outputs": [],
   "source": []
  },
  {
   "cell_type": "code",
   "execution_count": 29,
   "metadata": {
    "collapsed": true,
    "extensions": {
     "jupyter_dashboards": {
      "version": 1,
      "views": {
       "grid_default": {
        "hidden": true
       },
       "report_default": {
        "hidden": true
       }
      }
     }
    }
   },
   "outputs": [],
   "source": [
    "#reads and validates user input\n",
    "def readexpr(change):\n",
    "    global expr_str\n",
    "    global expr\n",
    "    global expr_array\n",
    "    if expr_input.value is not '' and expr_input.value is not None:\n",
    "        expr = sp.sympify(expr_input.value)\n",
    "        expr_str = str(expr)\n",
    "        eq_out0.value = r'\\(' + sp.latex(expr) + '\\)'\n",
    "        expr_array_append(expr)\n",
    "        return expr\n",
    "        \"\"\"\n",
    "        try:\n",
    "            expr = sp.sympify(expr_input.value)\n",
    "            expr_str = str(expr)\n",
    "            eq_out0.value = r'\\(' + sp.latex(expr) + '\\)'\n",
    "            expr_array_append(expr)\n",
    "            return expr\n",
    "        except:\n",
    "            eq_out0.value = r'Invalid Expression!'\n",
    "            return 'Invalid Expression!'\n",
    "        \"\"\"\n"
   ]
  },
  {
   "cell_type": "markdown",
   "metadata": {
    "extensions": {
     "jupyter_dashboards": {
      "version": 1,
      "views": {
       "grid_default": {
        "col": 0,
        "height": 4,
        "hidden": true,
        "row": 0,
        "width": 4
       },
       "report_default": {
        "hidden": false
       }
      }
     }
    }
   },
   "source": [
    "<a name=\"MathFunc\"></a>\n",
    "# Mathematical Functions \n",
    "[Overview](#Overview)"
   ]
  },
  {
   "cell_type": "code",
   "execution_count": 26,
   "metadata": {
    "collapsed": true,
    "extensions": {
     "jupyter_dashboards": {
      "version": 1,
      "views": {
       "grid_default": {
        "hidden": true
       },
       "report_default": {
        "hidden": true
       }
      }
     }
    }
   },
   "outputs": [],
   "source": [
    "# simplify equation\n",
    "def simplify(self):\n",
    "    sexpr = sp.simplify(expr)\n",
    "    eq_out1.value = r'\\(' + sp.latex(sexpr) + '\\)'\n",
    "    expr_array_append(sexpr)\n",
    "\n",
    "# expands equation\n",
    "def expand(self):\n",
    "    eexpr = sp.expand(expr)\n",
    "    eq_out1.value = r'\\(' + sp.latex(eexpr) + '\\)'\n",
    "    expr_array_append(eexpr)\n",
    "        \n",
    "# derivatives\n",
    "def derivative(xyz):\n",
    "    if xyz is 'x':                \n",
    "        exprdif = sp.diff(expr, x)\n",
    "    elif xyz is 'y':\n",
    "        exprdif = sp.diff(expr, y)\n",
    "    elif xyz is 'z':\n",
    "        exprdif = sp.diff(expr, z)\n",
    "    elif xyz is 't':\n",
    "        exprdif = sp.diff(expr, t)\n",
    "    else:\n",
    "        exprdif = r'Invalid Differentition parameter!'\n",
    "    eq_out1.value = r'\\(' + sp.latex(exprdif) + '\\)'\n",
    "    expr_array_append(exprdif)\n",
    "\n",
    "def derix(self):\n",
    "    derivative('x')\n",
    "    x\n",
    "def deriy(self):\n",
    "    derivative('y')\n",
    "    \n",
    "def deriz(self):\n",
    "    derivative('z')\n",
    "    \n",
    "def derit(self):\n",
    "    derivative('t')\n",
    "    \n",
    "# integrals\n",
    "def integrate(self):\n",
    "    iexpr = sp.integrate(expr)\n",
    "    eq_out1.value = r'\\(' + sp.latex(iexpr) + '\\)'\n",
    "    expr_array_append(iexpr)\n"
   ]
  },
  {
   "cell_type": "markdown",
   "metadata": {},
   "source": [
    "<a name=\"GraphOut\"></a>\n",
    "# Graphical Output\n",
    "[Overview](#Overview)"
   ]
  },
  {
   "cell_type": "code",
   "execution_count": 34,
   "metadata": {
    "collapsed": true,
    "extensions": {
     "jupyter_dashboards": {
      "version": 1,
      "views": {
       "grid_default": {
        "hidden": true
       },
       "report_default": {}
      }
     }
    }
   },
   "outputs": [],
   "source": [
    "# adds a line to a given plot\n",
    "def addline(plot, expr0):    \n",
    "    if plot.x_log:\n",
    "        x_data = np.geomspace(plot.x_min, plot.x_max, plot.x_steps)\n",
    "    else:\n",
    "        x_data =  np.linspace(plot.x_min, plot.x_max, plot.x_steps)\n",
    "    y_data = npfy(x, x_data, expr0)\n",
    "    x_sc = plot.fig.axes[0].scale\n",
    "    y_sc = plot.fig.axes[1].scale\n",
    "    newline = is_line(x_data, y_data, expr0, x_sc, y_sc)\n",
    "    line = bqp.Lines(x=x_data, y=y_data, scales={'x': x_sc, 'y': y_sc})\n",
    "    plot.lines.append(newline)\n",
    "    plot.fig.marks.insert(0, line)\n",
    "    return plot\n",
    "\n",
    "# make a new plot\n",
    "def makeplot():\n",
    "    pos = eq_dropdown.value\n",
    "    if default_graph_settings:\n",
    "        dgs = default_graph_settings\n",
    "        newplot = is_graph(dgs.x_label, dgs.y_label, dgs.title_label, \\\n",
    "                 dgs.x_min, dgs.x_max, dgs.x_log, dgs.y_log, dgs.x_steps)\n",
    "    else:\n",
    "        newplot = is_graph()\n",
    "    if newplot.x_log:\n",
    "        x_sc = bqp.LogScale(min=newplot.x_min, max=newplot.x_max)\n",
    "    else:\n",
    "        x_sc = bqp.LinearScale(min=newplot.x_min, max=newplot.x_max)\n",
    "    if newplot.y_log:\n",
    "        y_sc = bqp.LogScale(min=newplot.x_min, max=newplot.x_max)\n",
    "    else:\n",
    "        y_sc = bqp.LinearScale(min=newplot.x_min, max=newplot.x_max)\n",
    "    ax_x = bqp.Axis(label=newplot.x_label, scale=x_sc, grid_lines='solid')\n",
    "    ax_y = bqp.Axis(label=newplot.y_label, scale=y_sc, orientation='vertical', grid_lines='solid')\n",
    "    newplot.fig = bqp.Figure(axes=[ax_x, ax_y], marks=[], title=newplot.title_label)\n",
    "    newplot = addline(newplot, expr_array[pos])\n",
    "    return newplot\n",
    "\n",
    "#place a new plot\n",
    "def newplot(self):\n",
    "    global plot_array\n",
    "    if len(plot_array) < 2 and active_plot > 2:\n",
    "        plot_array.insert(0, makeplot())\n",
    "    elif active_plot <= 2:\n",
    "        if len(plot_array) <= active_plot and len(plot_array) != 0:\n",
    "            plot_array[active_plot] = makeplot()\n",
    "        elif len(plot_array) == 0:\n",
    "            plot_array.append(makeplot())\n",
    "    else:\n",
    "        plot_array.insert(0, makeplot())\n",
    "        plot_array = plot_array[0:3]\n",
    "    update_viz()\n",
    "\n",
    "# inserts a new line into the plot\n",
    "def plotline(self):\n",
    "    global plot_array\n",
    "    pos = eq_dropdown.value    \n",
    "    if len(plot_array) < active_plot:\n",
    "        plot_array[active_plot] = addline(plot_array[active_plot], \\\n",
    "                                         expr_array[pos])\n",
    "        update_viz()\n",
    "    else:\n",
    "        print('No Graph selected to plot new Line')\n",
    "\n",
    "# updates plot when changes are done\n",
    "def updategraph(change):\n",
    "    global plot_array\n",
    "    if len(plot_array) <= active_plot and len(plot_array) != 0:\n",
    "        plot = plot_array[active_plot]\n",
    "        plot.title_label = title_label_input.value\n",
    "        plot.x_label = x_label_input.value\n",
    "        plot.y_labe = y_label_input.value\n",
    "        try:\n",
    "            plot.x_steps = int(x_steps_input.value)\n",
    "        except:\n",
    "            plot.x_steps = plot.x_steps\n",
    "        try:\n",
    "            plot.x_min = int(x_min_input.value)\n",
    "        except:\n",
    "            plot.x_min = plot.x_min\n",
    "        try:\n",
    "            plot.x_max = int(x_max_input.value)\n",
    "        except:\n",
    "            plot.x_max = plot.x_max\n",
    "        if plot.x_log:\n",
    "            x_sc = bqp.LogScale(min=plot.x_min, max=plot.x_max)\n",
    "            x_data = np.geomspace(plot.x_min, plot.x_max, plot.x_steps)\n",
    "        else:\n",
    "            x_sc = bqp.LinearScale(min=plot.x_min, max=plot.x_max)\n",
    "            x_data =  np.linspace(plot.x_min, plot.x_max, plot.x_steps)\n",
    "        if plot.y_log:\n",
    "            y_sc = bqp.LogScale(min=plot.x_min, max=plot.x_max)\n",
    "        else:\n",
    "            y_sc = bqp.LinearScale(min=plot.x_min, max=plot.x_max)\n",
    "        ax_x = bqp.Axis(label=plot.x_label, scale=x_sc, grid_lines='solid')\n",
    "        ax_y = bqp.Axis(label=plot.y_label, scale=y_sc, orientation='vertical', grid_lines='solid')\n",
    "        lines = []\n",
    "        for line in enumerate(plot.lines):\n",
    "            y_data = npfy(x, x_data, line.expr)\n",
    "            line.x = x_data\n",
    "            line.y = y_data\n",
    "            line.scales = {'x': x_sc, 'y': y_sc}\n",
    "            lines.append(newline)\n",
    "        fig.axes = [ax_x, ax_y]\n",
    "        fig.marks = lines\n",
    "        fig.title = title_label\n",
    "        plot_array[active_plot] = plot\n",
    "        update_viz()"
   ]
  },
  {
   "cell_type": "markdown",
   "metadata": {},
   "source": [
    "<a name=\"IntElem\"></a>\n",
    "# Interactive Elements \n",
    "[Overview](#Overview)"
   ]
  },
  {
   "cell_type": "code",
   "execution_count": 30,
   "metadata": {
    "collapsed": true,
    "extensions": {
     "jupyter_dashboards": {
      "version": 1,
      "views": {
       "grid_default": {
        "hidden": true
       },
       "report_default": {
        "hidden": true
       }
      }
     }
    }
   },
   "outputs": [],
   "source": [
    "# interactive elements\n",
    "\n",
    "#text elements\n",
    "expr_input = widgets.Text(\n",
    "    value=expr_str,\n",
    "    description='Expression:',\n",
    "    disabled=False\n",
    ")\n",
    "eq_dropdown = widgets.Dropdown(\n",
    "    options=[0],\n",
    "    value=0,\n",
    "    description='Use:'\n",
    ")\n",
    "active_dropdown = widgets.Dropdown(\n",
    "    options=[0],\n",
    "    value=0,\n",
    "    description='Use Graph:'\n",
    ")\n",
    "\n",
    "#buttons\n",
    "send_btn = widgets.Button(\n",
    "    description='Expr',\n",
    "    tooltip='Use Equation',\n",
    "    icon='check'\n",
    ")\n",
    "simp_btn = widgets.Button(\n",
    "    description='simplify',\n",
    "    tooltip='Simplify Equation',\n",
    ")\n",
    "expand_btn = widgets.Button(\n",
    "    description='Expand',\n",
    "    tooltip='Expand Equation',\n",
    ")\n",
    "setactive_btn = widgets.Button(\n",
    "    description='Activate',\n",
    "    tooltip='Activate Equation',\n",
    ")\n",
    "plotline_btn = widgets.Button(\n",
    "    description='Plot',\n",
    "    tooltip='Plot Line',\n",
    ")\n",
    "newplot_btn = widgets.Button(\n",
    "    description='New Plot',\n",
    "    tooltip='New Plot',\n",
    ")\n",
    "difx_btn = widgets.Button(\n",
    "    description='dx',\n",
    "    tooltip='diff x',\n",
    ")\n",
    "dify_btn = widgets.Button(\n",
    "    description='dy',\n",
    "    tooltip='diff y',\n",
    ")\n",
    "difz_btn = widgets.Button(\n",
    "    description='dz',\n",
    "    tooltip='diff z',\n",
    ")\n",
    "#output\n",
    "eq_out0 = widgets.Label(value='')\n",
    "eq_out1 = widgets.Label(value='')\n",
    "eq_out2 = widgets.Label(value='')\n",
    "\n",
    "newplot_btn.on_click(newplot)\n",
    "setactive_btn.on_click(setactive)\n",
    "plotline_btn.on_click(plotline)\n",
    "active_dropdown.observe(setactivegraph, 'value')\n",
    "eqchoice = widgets.HBox([eq_dropdown, active_dropdown, setactive_btn, plotline_btn, newplot_btn])\n"
   ]
  },
  {
   "cell_type": "code",
   "execution_count": 31,
   "metadata": {
    "collapsed": true,
    "extensions": {
     "jupyter_dashboards": {
      "version": 1,
      "views": {
       "grid_default": {
        "hidden": true
       },
       "report_default": {}
      }
     }
    }
   },
   "outputs": [],
   "source": [
    "# interactive elements\n",
    "title_label_input = widgets.Text(\n",
    "    value='Title',\n",
    "    description='Title:'\n",
    ")\n",
    "x_label_input = widgets.Text(\n",
    "    value='X',\n",
    "    description='X-Label:',\n",
    "    disabled=False)\n",
    "y_label_input = widgets.Text(\n",
    "    value='Y',\n",
    "    description='Y-Label:'\n",
    ")\n",
    "x_steps_input = widgets.Text(\n",
    "    value='100',\n",
    "    description='data points:'\n",
    ")\n",
    "x_min_input = widgets.Text(\n",
    "    value='-1',\n",
    "    description='x min:'\n",
    ")\n",
    "x_max_input = widgets.Text(\n",
    "    value='1',\n",
    "    description='x max:'\n",
    ")\n",
    "\n",
    "title_label_input.observe(updategraph, 'value')\n",
    "x_label_input.observe(updategraph, 'value')\n",
    "y_label_input.observe(updategraph, 'value')\n",
    "x_steps_input.observe(updategraph, 'value')\n",
    "x_min_input.observe(updategraph, 'value')\n",
    "x_max_input.observe(updategraph, 'value')"
   ]
  },
  {
   "cell_type": "markdown",
   "metadata": {},
   "source": [
    "<a name=\"Layout\"></a>\n",
    "# Layout\n",
    "[Overview](#Overview)"
   ]
  },
  {
   "cell_type": "code",
   "execution_count": 49,
   "metadata": {
    "extensions": {
     "jupyter_dashboards": {
      "version": 1,
      "views": {
       "grid_default": {
        "col": 0,
        "height": 2,
        "hidden": false,
        "row": 0,
        "width": 7
       },
       "report_default": {
        "hidden": false
       }
      }
     }
    }
   },
   "outputs": [
    {
     "data": {
      "application/vnd.jupyter.widget-view+json": {
       "model_id": "85a9b1e7b21b4cbe9d496195a9168e3c",
       "version_major": 2,
       "version_minor": 0
      },
      "text/html": [
       "<p>Failed to display Jupyter Widget of type <code>HBox</code>.</p>\n",
       "<p>\n",
       "  If you're reading this message in the Jupyter Notebook or JupyterLab Notebook, it may mean\n",
       "  that the widgets JavaScript is still loading. If this message persists, it\n",
       "  likely means that the widgets JavaScript library is either not installed or\n",
       "  not enabled. See the <a href=\"https://ipywidgets.readthedocs.io/en/stable/user_install.html\">Jupyter\n",
       "  Widgets Documentation</a> for setup instructions.\n",
       "</p>\n",
       "<p>\n",
       "  If you're reading this message in another frontend (for example, a static\n",
       "  rendering on GitHub or <a href=\"https://nbviewer.jupyter.org/\">NBViewer</a>),\n",
       "  it may mean that your frontend doesn't currently support widgets.\n",
       "</p>\n"
      ],
      "text/plain": [
       "HBox(children=(VBox(children=(HBox(children=(Text(value='sin(x)', description='Expression:'), Button(description='Expr', icon='check', style=ButtonStyle(), tooltip='Use Equation'), Button(description='simplify', style=ButtonStyle(), tooltip='Simplify Equation'), Button(description='Expand', style=ButtonStyle(), tooltip='Expand Equation'), Button(description='dx', style=ButtonStyle(), tooltip='diff x'))), Label(value='\\\\(\\\\sin{\\\\left (x \\\\right )}\\\\)'), HBox(children=(Dropdown(description='Use:', options=(0, 1, 2, 3, 4), value=0), Dropdown(description='Use Graph:', options=(0,), value=0), Button(description='Activate', style=ButtonStyle(), tooltip='Activate Equation'), Button(description='Plot', style=ButtonStyle(), tooltip='Plot Line'), Button(description='New Plot', style=ButtonStyle(), tooltip='New Plot'))), VBox())), VBox()))"
      ]
     },
     "metadata": {},
     "output_type": "display_data"
    },
    {
     "data": {
      "application/vnd.jupyter.widget-view+json": {
       "model_id": "ddb7ef038b0f47de9055d1016df5fd5f",
       "version_major": 2,
       "version_minor": 0
      },
      "text/html": [
       "<p>Failed to display Jupyter Widget of type <code>HBox</code>.</p>\n",
       "<p>\n",
       "  If you're reading this message in the Jupyter Notebook or JupyterLab Notebook, it may mean\n",
       "  that the widgets JavaScript is still loading. If this message persists, it\n",
       "  likely means that the widgets JavaScript library is either not installed or\n",
       "  not enabled. See the <a href=\"https://ipywidgets.readthedocs.io/en/stable/user_install.html\">Jupyter\n",
       "  Widgets Documentation</a> for setup instructions.\n",
       "</p>\n",
       "<p>\n",
       "  If you're reading this message in another frontend (for example, a static\n",
       "  rendering on GitHub or <a href=\"https://nbviewer.jupyter.org/\">NBViewer</a>),\n",
       "  it may mean that your frontend doesn't currently support widgets.\n",
       "</p>\n"
      ],
      "text/plain": [
       "HBox(children=(VBox(children=(HBox(children=(Text(value='sin(x)', description='Expression:'), Button(description='Expr', icon='check', style=ButtonStyle(), tooltip='Use Equation'), Button(description='simplify', style=ButtonStyle(), tooltip='Simplify Equation'), Button(description='Expand', style=ButtonStyle(), tooltip='Expand Equation'), Button(description='dx', style=ButtonStyle(), tooltip='diff x'))), Label(value='\\\\(\\\\sin{\\\\left (x \\\\right )}\\\\)'), HBox(children=(Dropdown(description='Use:', options=(0,), value=0), Dropdown(description='Use Graph:', options=(0,), value=0), Button(description='Activate', style=ButtonStyle(), tooltip='Activate Equation'), Button(description='Plot', style=ButtonStyle(), tooltip='Plot Line'), Button(description='New Plot', style=ButtonStyle(), tooltip='New Plot'))), VBox())), VBox()))"
      ]
     },
     "metadata": {},
     "output_type": "display_data"
    },
    {
     "data": {
      "application/vnd.jupyter.widget-view+json": {
       "model_id": "e0bfb1de63054887b0cc683afb615b9e",
       "version_major": 2,
       "version_minor": 0
      },
      "text/html": [
       "<p>Failed to display Jupyter Widget of type <code>HBox</code>.</p>\n",
       "<p>\n",
       "  If you're reading this message in the Jupyter Notebook or JupyterLab Notebook, it may mean\n",
       "  that the widgets JavaScript is still loading. If this message persists, it\n",
       "  likely means that the widgets JavaScript library is either not installed or\n",
       "  not enabled. See the <a href=\"https://ipywidgets.readthedocs.io/en/stable/user_install.html\">Jupyter\n",
       "  Widgets Documentation</a> for setup instructions.\n",
       "</p>\n",
       "<p>\n",
       "  If you're reading this message in another frontend (for example, a static\n",
       "  rendering on GitHub or <a href=\"https://nbviewer.jupyter.org/\">NBViewer</a>),\n",
       "  it may mean that your frontend doesn't currently support widgets.\n",
       "</p>\n"
      ],
      "text/plain": [
       "HBox(children=(VBox(children=(HBox(children=(Text(value='sin(x)', description='Expression:'), Button(description='Expr', icon='check', style=ButtonStyle(), tooltip='Use Equation'), Button(description='simplify', style=ButtonStyle(), tooltip='Simplify Equation'), Button(description='Expand', style=ButtonStyle(), tooltip='Expand Equation'), Button(description='dx', style=ButtonStyle(), tooltip='diff x'))), Label(value='\\\\(\\\\sin{\\\\left (x \\\\right )}\\\\)'), HBox(children=(Dropdown(description='Use:', options=(0, 1), value=0), Dropdown(description='Use Graph:', options=(0,), value=0), Button(description='Activate', style=ButtonStyle(), tooltip='Activate Equation'), Button(description='Plot', style=ButtonStyle(), tooltip='Plot Line'), Button(description='New Plot', style=ButtonStyle(), tooltip='New Plot'))), VBox())), VBox()))"
      ]
     },
     "metadata": {},
     "output_type": "display_data"
    },
    {
     "data": {
      "application/vnd.jupyter.widget-view+json": {
       "model_id": "41fb36fdf8284f8cab21bbd6fd789d19",
       "version_major": 2,
       "version_minor": 0
      },
      "text/html": [
       "<p>Failed to display Jupyter Widget of type <code>HBox</code>.</p>\n",
       "<p>\n",
       "  If you're reading this message in the Jupyter Notebook or JupyterLab Notebook, it may mean\n",
       "  that the widgets JavaScript is still loading. If this message persists, it\n",
       "  likely means that the widgets JavaScript library is either not installed or\n",
       "  not enabled. See the <a href=\"https://ipywidgets.readthedocs.io/en/stable/user_install.html\">Jupyter\n",
       "  Widgets Documentation</a> for setup instructions.\n",
       "</p>\n",
       "<p>\n",
       "  If you're reading this message in another frontend (for example, a static\n",
       "  rendering on GitHub or <a href=\"https://nbviewer.jupyter.org/\">NBViewer</a>),\n",
       "  it may mean that your frontend doesn't currently support widgets.\n",
       "</p>\n"
      ],
      "text/plain": [
       "HBox(children=(VBox(children=(HBox(children=(Text(value='sin(x)', description='Expression:'), Button(description='Expr', icon='check', style=ButtonStyle(), tooltip='Use Equation'), Button(description='simplify', style=ButtonStyle(), tooltip='Simplify Equation'), Button(description='Expand', style=ButtonStyle(), tooltip='Expand Equation'), Button(description='dx', style=ButtonStyle(), tooltip='diff x'))), Label(value='\\\\(\\\\sin{\\\\left (x \\\\right )}\\\\)'), HBox(children=(Dropdown(description='Use:', options=(0, 1, 2), value=0), Dropdown(description='Use Graph:', options=(0,), value=0), Button(description='Activate', style=ButtonStyle(), tooltip='Activate Equation'), Button(description='Plot', style=ButtonStyle(), tooltip='Plot Line'), Button(description='New Plot', style=ButtonStyle(), tooltip='New Plot'))), VBox())), VBox()))"
      ]
     },
     "metadata": {},
     "output_type": "display_data"
    },
    {
     "data": {
      "application/vnd.jupyter.widget-view+json": {
       "model_id": "8cf413a7a80746ae9930c33fd0ca3617",
       "version_major": 2,
       "version_minor": 0
      },
      "text/html": [
       "<p>Failed to display Jupyter Widget of type <code>HBox</code>.</p>\n",
       "<p>\n",
       "  If you're reading this message in the Jupyter Notebook or JupyterLab Notebook, it may mean\n",
       "  that the widgets JavaScript is still loading. If this message persists, it\n",
       "  likely means that the widgets JavaScript library is either not installed or\n",
       "  not enabled. See the <a href=\"https://ipywidgets.readthedocs.io/en/stable/user_install.html\">Jupyter\n",
       "  Widgets Documentation</a> for setup instructions.\n",
       "</p>\n",
       "<p>\n",
       "  If you're reading this message in another frontend (for example, a static\n",
       "  rendering on GitHub or <a href=\"https://nbviewer.jupyter.org/\">NBViewer</a>),\n",
       "  it may mean that your frontend doesn't currently support widgets.\n",
       "</p>\n"
      ],
      "text/plain": [
       "HBox(children=(VBox(children=(HBox(children=(Text(value='sin(x)', description='Expression:'), Button(description='Expr', icon='check', style=ButtonStyle(), tooltip='Use Equation'), Button(description='simplify', style=ButtonStyle(), tooltip='Simplify Equation'), Button(description='Expand', style=ButtonStyle(), tooltip='Expand Equation'), Button(description='dx', style=ButtonStyle(), tooltip='diff x'))), Label(value='\\\\(\\\\sin{\\\\left (x \\\\right )}\\\\)'), HBox(children=(Dropdown(description='Use:', options=(0, 1, 2, 3), value=0), Dropdown(description='Use Graph:', options=(0,), value=0), Button(description='Activate', style=ButtonStyle(), tooltip='Activate Equation'), Button(description='Plot', style=ButtonStyle(), tooltip='Plot Line'), Button(description='New Plot', style=ButtonStyle(), tooltip='New Plot'))), VBox())), VBox()))"
      ]
     },
     "metadata": {},
     "output_type": "display_data"
    }
   ],
   "source": [
    "send_btn.on_click(readexpr)\n",
    "simp_btn.on_click(simplify)\n",
    "expand_btn.on_click(expand)\n",
    "difx_btn.on_click(derix)\n",
    "input_box = widgets.HBox([expr_input, send_btn, simp_btn, expand_btn, difx_btn])\n",
    "left_box = widgets.VBox([input_box, eq_out0, eqchoice, history_vbox])\n",
    "update_gui()"
   ]
  },
  {
   "cell_type": "code",
   "execution_count": 7,
   "metadata": {
    "extensions": {
     "jupyter_dashboards": {
      "version": 1,
      "views": {
       "grid_default": {
        "col": 8,
        "height": 4,
        "hidden": true,
        "row": 0,
        "width": 4
       },
       "report_default": {
        "hidden": false
       }
      }
     }
    },
    "scrolled": true
   },
   "outputs": [
    {
     "data": {
      "application/vnd.jupyter.widget-view+json": {
       "model_id": "290207fd76f34b018097909bf55a359b",
       "version_major": 2,
       "version_minor": 0
      },
      "text/html": [
       "<p>Failed to display Jupyter Widget of type <code>VBox</code>.</p>\n",
       "<p>\n",
       "  If you're reading this message in the Jupyter Notebook or JupyterLab Notebook, it may mean\n",
       "  that the widgets JavaScript is still loading. If this message persists, it\n",
       "  likely means that the widgets JavaScript library is either not installed or\n",
       "  not enabled. See the <a href=\"https://ipywidgets.readthedocs.io/en/stable/user_install.html\">Jupyter\n",
       "  Widgets Documentation</a> for setup instructions.\n",
       "</p>\n",
       "<p>\n",
       "  If you're reading this message in another frontend (for example, a static\n",
       "  rendering on GitHub or <a href=\"https://nbviewer.jupyter.org/\">NBViewer</a>),\n",
       "  it may mean that your frontend doesn't currently support widgets.\n",
       "</p>\n"
      ],
      "text/plain": [
       "VBox()"
      ]
     },
     "metadata": {},
     "output_type": "display_data"
    }
   ],
   "source": [
    "display(history_vbox)"
   ]
  },
  {
   "cell_type": "code",
   "execution_count": null,
   "metadata": {
    "collapsed": true,
    "extensions": {
     "jupyter_dashboards": {
      "version": 1,
      "views": {
       "grid_default": {
        "hidden": true
       },
       "report_default": {
        "hidden": true
       }
      }
     }
    }
   },
   "outputs": [],
   "source": []
  }
 ],
 "metadata": {
  "extensions": {
   "jupyter_dashboards": {
    "activeView": "grid_default",
    "version": 1,
    "views": {
     "grid_default": {
      "cellMargin": 10,
      "defaultCellHeight": 20,
      "maxColumns": 12,
      "name": "grid",
      "type": "grid"
     },
     "report_default": {
      "name": "report",
      "type": "report"
     }
    }
   }
  },
  "kernelspec": {
   "display_name": "Python 3",
   "language": "python",
   "name": "python3"
  },
  "language_info": {
   "codemirror_mode": {
    "name": "ipython",
    "version": 3
   },
   "file_extension": ".py",
   "mimetype": "text/x-python",
   "name": "python",
   "nbconvert_exporter": "python",
   "pygments_lexer": "ipython3",
   "version": "3.6.3"
  }
 },
 "nbformat": 4,
 "nbformat_minor": 2
}
