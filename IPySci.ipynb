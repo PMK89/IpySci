{
 "cells": [
  {
   "cell_type": "markdown",
   "metadata": {
    "extensions": {
     "jupyter_dashboards": {
      "version": 1,
      "views": {
       "grid_default": {
        "col": 0,
        "height": 12,
        "hidden": true,
        "row": 4,
        "width": 12
       },
       "report_default": {}
      }
     }
    }
   },
   "source": [
    " <a name=\"Overview\"></a>\n",
    "# Overview\n",
    "\n",
    "[Global Imports](#GlobImp)\n",
    "\n",
    "[Global Classes](#GlobClas)\n",
    "\n",
    "[Global Variables](#GlobVar)\n",
    "\n",
    "[Global Functions](#GlobFunc)\n",
    "\n",
    "[Mathematical Functions](#MathFunc)\n",
    "\n",
    "[Graphical Output](#GraphOut)\n",
    "\n",
    "[Interactive Elements](#IntElem)\n",
    "\n",
    "[Calculations](#IntElemCalc)\n",
    "\n",
    "[2D Graphs](#IntElemGraph2D)\n",
    "\n",
    "[Layout](#Layout)"
   ]
  },
  {
   "cell_type": "markdown",
   "metadata": {
    "extensions": {
     "jupyter_dashboards": {
      "version": 1,
      "views": {
       "grid_default": {
        "col": 0,
        "height": 4,
        "hidden": true,
        "row": 0,
        "width": 4
       },
       "report_default": {}
      }
     }
    }
   },
   "source": [
    "<a name=\"GlobImp\"></a>\n",
    "# Global Imports"
   ]
  },
  {
   "cell_type": "code",
   "execution_count": 26,
   "metadata": {
    "extensions": {
     "jupyter_dashboards": {
      "version": 1,
      "views": {
       "grid_default": {
        "hidden": true
       },
       "report_default": {
        "hidden": true
       }
      }
     }
    }
   },
   "outputs": [
    {
     "data": {
      "text/html": [
       "<style>.container { width:100% !important; }.widget-htmlmath-content {width:700px !important;} </style>"
      ],
      "text/plain": [
       "<IPython.core.display.HTML object>"
      ]
     },
     "metadata": {},
     "output_type": "display_data"
    }
   ],
   "source": [
    "%matplotlib inline\n",
    "import numpy as np\n",
    "import sympy as sp\n",
    "import matplotlib.pyplot as plt\n",
    "import ipywidgets as widgets\n",
    "from bqplot import pyplot as bqp\n",
    "from bqplot.interacts import panzoom\n",
    "from IPython.core.display import display, HTML\n",
    "display(HTML(\"<style>.container { width:100% !important; }.widget-htmlmath-content {width:700px !important;} </style>\"))\n",
    "plt.style.use('ggplot')\n",
    "sp.init_printing()\n"
   ]
  },
  {
   "cell_type": "markdown",
   "metadata": {
    "extensions": {
     "jupyter_dashboards": {
      "version": 1,
      "views": {
       "grid_default": {
        "col": 4,
        "height": 4,
        "hidden": true,
        "row": 16,
        "width": 4
       },
       "report_default": {}
      }
     }
    }
   },
   "source": [
    " <a name=\"GlobClas\"></a>\n",
    "# Global Classes \n",
    "[Overview](#Overview)"
   ]
  },
  {
   "cell_type": "code",
   "execution_count": 27,
   "metadata": {
    "extensions": {
     "jupyter_dashboards": {
      "version": 1,
      "views": {
       "grid_default": {
        "hidden": true
       },
       "report_default": {}
      }
     }
    }
   },
   "outputs": [],
   "source": [
    "# graphing classes\n",
    "\n",
    "# line class\n",
    "class is_line:\n",
    "    def __init__(self, x_data, y_data, expr, x_sc, y_sc):\n",
    "        self.x_data = x_data\n",
    "        self.y_data = y_data\n",
    "        self.x_sc = x_sc\n",
    "        self.y_sc = y_sc\n",
    "        self.expr = expr\n",
    "            \n",
    "# graph class\n",
    "class is_graph:\n",
    "    active = False\n",
    "    position = 3\n",
    "    x_min=-1\n",
    "    x_max=1\n",
    "    x_log=False\n",
    "    y_log=False\n",
    "    y_grid=False\n",
    "    x_grid=False\n",
    "    pi_bool=False\n",
    "    x_steps = 100\n",
    "    def __init__(self, x_label='X', y_label='Y', title_label='Title', pi_bool=pi_bool,\\\n",
    "                 x_min=x_min, x_max=x_max, x_log=x_log, y_log=y_log, x_steps=x_steps,\\\n",
    "                 x_grid=x_grid, y_grid=y_grid):\n",
    "        self.x_label = x_label\n",
    "        self.y_label = y_label        \n",
    "        self.title_label = title_label\n",
    "        self.x_min = x_min\n",
    "        self.x_max = x_max\n",
    "        self.x_log = x_log\n",
    "        self.y_log = y_log\n",
    "        self.x_grid = x_grid\n",
    "        self.y_grid = y_grid\n",
    "        self.pi_bool = pi_bool\n",
    "        selfx_steps = x_steps\n",
    "        self.lines = []\n",
    "        \n",
    "    def addline(self, x_data, y_data, expr, x_sc, y_sc):\n",
    "        self.lines.append(is_line(x_data, y_data))"
   ]
  },
  {
   "cell_type": "markdown",
   "metadata": {
    "extensions": {
     "jupyter_dashboards": {
      "version": 1,
      "views": {
       "grid_default": {
        "col": 8,
        "height": 4,
        "hidden": true,
        "row": 16,
        "width": 4
       },
       "report_default": {}
      }
     }
    }
   },
   "source": [
    "<a name=\"GlobVar\"></a>\n",
    "# Global Variables\n",
    "[Overview](#Overview)"
   ]
  },
  {
   "cell_type": "code",
   "execution_count": 28,
   "metadata": {
    "extensions": {
     "jupyter_dashboards": {
      "version": 1,
      "views": {
       "grid_default": {
        "col": 7,
        "height": 4,
        "hidden": true,
        "row": 0,
        "width": 4
       },
       "report_default": {}
      }
     }
    }
   },
   "outputs": [],
   "source": [
    "#global variables\n",
    "x, y, z, t = sp.symbols(\"x y z t\")\n",
    "\n",
    "expr = x\n",
    "expr_str = str(expr)\n",
    "expr_array = []\n",
    "color_array = ['#0033cc', '#ff3300', '#33cc33', '#00ffcc', '#ff66cc', '#ff6600']\n",
    "history_list = widgets.HTMLMath(\n",
    "    value=r\"Equations<br>\",\n",
    "    placeholder='Equations',\n",
    "    layout = widgets.Layout(flex_wrap='nowrap', min_width='700px'),\n",
    ")\n",
    "plot_array = []\n",
    "fig1 = bqp.Figure(title='Graph 1')\n",
    "fig2 = bqp.Figure(title='Graph 2')\n",
    "fig3 = bqp.Figure(title='Graph 3')\n",
    "active_plot = 'fig1'\n",
    "default_graph_settings = False"
   ]
  },
  {
   "cell_type": "markdown",
   "metadata": {
    "collapsed": true,
    "extensions": {
     "jupyter_dashboards": {
      "version": 1,
      "views": {
       "grid_default": {
        "col": 0,
        "height": 4,
        "hidden": true,
        "row": 20,
        "width": 4
       },
       "report_default": {}
      }
     }
    }
   },
   "source": [
    "<a name=\"GlobFunc\"></a>\n",
    "# Global Functions \n",
    "[Overview](#Overview)"
   ]
  },
  {
   "cell_type": "code",
   "execution_count": 29,
   "metadata": {
    "collapsed": true,
    "extensions": {
     "jupyter_dashboards": {
      "version": 1,
      "views": {
       "grid_default": {
        "hidden": true
       },
       "report_default": {
        "hidden": true
       }
      }
     }
    }
   },
   "outputs": [],
   "source": [
    "\n",
    "#makes a numerical computation of sympy equation\n",
    "def npfy(x_, x_data, expr_):\n",
    "    f = sp.lambdify(x_, expr_, 'numpy')\n",
    "    y_data = f(x_data)\n",
    "    return y_data\n",
    "\n",
    "# updates the gui\n",
    "def update_gui():\n",
    "    global gui\n",
    "    global left_box\n",
    "    global viz_vbox\n",
    "    gui = widgets.HBox([left_box, viz_vbox])\n",
    "    display(gui)\n",
    "\n",
    "# updates the graphs\n",
    "def update_viz():\n",
    "    global fig_array\n",
    "    option_array = []\n",
    "    for idx, plot in enumerate(plot_array):\n",
    "        fig_array.append(plot.fig)\n",
    "        option_array.append(idx)\n",
    "    viz_vbox = widgets.VBox(fig_array)\n",
    "    #display(viz_vbox)\n",
    "    update_gui()\n",
    "\n",
    "# shows the equation\n",
    "def add_history():\n",
    "    global expr_array\n",
    "    global history_list\n",
    "    history_list.value += str(len(expr_array)) + ' \\(' + sp.latex(expr_array[-1]) + '\\)' '<br>'\n",
    "    eq_dropdown.options = [i + 1 for i, item in enumerate(expr_array)]\n",
    "    return history_list\n",
    "\n",
    "#sets choosen expresion active\n",
    "def setactivegraph(self):\n",
    "    global active_plot\n",
    "    active_plot = active_dropdown.value\n",
    "    if active_plot is 'fig1':\n",
    "        plot = fig_array[0]\n",
    "    elif active_plot is 'fig2':\n",
    "        plot = fig_array[1]\n",
    "    elif active_plot is 'fig3':\n",
    "        plot = fig_array[2]\n",
    "    if plot:\n",
    "        global pi_bool_input\n",
    "        global title_label_input\n",
    "        global x_label_input\n",
    "        global y_label_input\n",
    "        global x_steps_input\n",
    "        global x_min_input\n",
    "        global x_max_input\n",
    "        pi_bool_input.value = plot.pi_bool\n",
    "        x_grid_input.value = plot.x_grid\n",
    "        y_grid_input.value = plot.y_grid\n",
    "        title_label_input.value = plot.title_label\n",
    "        x_label_input.value = plot.x_label\n",
    "        y_label_input.value = plot.y_label\n",
    "        x_steps_input.value = str(plot.x_steps)\n",
    "        x_min_input.value = str(plot.x_min)\n",
    "        x_max_input.value = str(plot.x_max)\n",
    "\n",
    "\n",
    "#sets choosen expresion active\n",
    "def setactive(self):\n",
    "    global expr\n",
    "    global expr_str\n",
    "    pos = int(eq_dropdown.value) - 1\n",
    "    if pos >= 0:\n",
    "        expr = expr_array[pos]\n",
    "        expr_str = str(expr)\n",
    "        expr_input.value = expr_str\n",
    "    \n",
    "\n",
    "#appends expression array and updates output\n",
    "def expr_array_append(expr0):\n",
    "    global expr_array\n",
    "    if len(expr_array) > 0:\n",
    "        if expr_array[-1] is not expr0:\n",
    "            expr_array.append(expr0)\n",
    "    else:\n",
    "        expr_array.append(expr)\n",
    "    add_history()\n",
    "\n",
    "#reads and validates user input\n",
    "def readexpr(change):\n",
    "    global expr_str\n",
    "    global expr\n",
    "    global expr_array\n",
    "    if expr_input.value is not '' and expr_input.value is not None:\n",
    "        expr = sp.sympify(expr_input.value)\n",
    "        expr_str = str(expr)\n",
    "        eq_out0.value = r'\\(' + sp.latex(expr) + '\\)'\n",
    "        expr_array_append(expr)\n",
    "        return expr\n",
    "        \"\"\"\n",
    "        try:\n",
    "            expr = sp.sympify(expr_input.value)\n",
    "            expr_str = str(expr)\n",
    "            eq_out0.value = r'\\(' + sp.latex(expr) + '\\)'\n",
    "            expr_array_append(expr)\n",
    "            return expr\n",
    "        except:\n",
    "            eq_out0.value = r'Invalid Expression!'\n",
    "            return 'Invalid Expression!'\n",
    "        \"\"\"\n"
   ]
  },
  {
   "cell_type": "markdown",
   "metadata": {
    "extensions": {
     "jupyter_dashboards": {
      "version": 1,
      "views": {
       "grid_default": {
        "col": 0,
        "height": 4,
        "hidden": true,
        "row": 0,
        "width": 4
       },
       "report_default": {
        "hidden": false
       }
      }
     }
    }
   },
   "source": [
    "<a name=\"MathFunc\"></a>\n",
    "# Mathematical Functions \n",
    "[Overview](#Overview)"
   ]
  },
  {
   "cell_type": "code",
   "execution_count": 30,
   "metadata": {
    "collapsed": true,
    "extensions": {
     "jupyter_dashboards": {
      "version": 1,
      "views": {
       "grid_default": {
        "hidden": true
       },
       "report_default": {
        "hidden": true
       }
      }
     }
    }
   },
   "outputs": [],
   "source": [
    "# simplify equation\n",
    "def simplify(self):\n",
    "    sexpr = sp.simplify(expr)\n",
    "    eq_out1.value = r'\\(' + sp.latex(sexpr) + '\\)'\n",
    "    expr_array_append(sexpr)\n",
    "\n",
    "# expands equation\n",
    "def expand(self):\n",
    "    eexpr = sp.expand(expr)\n",
    "    eq_out1.value = r'\\(' + sp.latex(eexpr) + '\\)'\n",
    "    expr_array_append(eexpr)\n",
    "        \n",
    "# derivatives\n",
    "def derivative(xyz):\n",
    "    if xyz is 'x':                \n",
    "        exprdif = sp.diff(expr, x)\n",
    "    elif xyz is 'y':\n",
    "        exprdif = sp.diff(expr, y)\n",
    "    elif xyz is 'z':\n",
    "        exprdif = sp.diff(expr, z)\n",
    "    elif xyz is 't':\n",
    "        exprdif = sp.diff(expr, t)\n",
    "    else:\n",
    "        exprdif = r'Invalid Differentition parameter!'\n",
    "    eq_out1.value = r'\\(' + sp.latex(exprdif) + '\\)'\n",
    "    expr_array_append(exprdif)\n",
    "\n",
    "def derix(self):\n",
    "    derivative('x')\n",
    "    x\n",
    "def deriy(self):\n",
    "    derivative('y')\n",
    "    \n",
    "def deriz(self):\n",
    "    derivative('z')\n",
    "    \n",
    "def derit(self):\n",
    "    derivative('t')\n",
    "    \n",
    "# integrals\n",
    "def integrate(self):\n",
    "    iexpr = sp.integrate(expr)\n",
    "    eq_out1.value = r'\\(' + sp.latex(iexpr) + '\\)'\n",
    "    expr_array_append(iexpr)\n"
   ]
  },
  {
   "cell_type": "markdown",
   "metadata": {
    "extensions": {
     "jupyter_dashboards": {
      "version": 1,
      "views": {
       "grid_default": {
        "col": 4,
        "height": 4,
        "hidden": true,
        "row": 16,
        "width": 4
       },
       "report_default": {}
      }
     }
    }
   },
   "source": [
    "<a name=\"GraphOut\"></a>\n",
    "# Graphical Output\n",
    "[Overview](#Overview)"
   ]
  },
  {
   "cell_type": "code",
   "execution_count": 46,
   "metadata": {
    "extensions": {
     "jupyter_dashboards": {
      "version": 1,
      "views": {
       "grid_default": {
        "hidden": true
       },
       "report_default": {}
      }
     }
    }
   },
   "outputs": [],
   "source": [
    "# adds a line to a given plot\n",
    "def addline(fig, plot, expr0):\n",
    "    if plot.x_log:\n",
    "        x_data = np.geomspace(plot.x_min, plot.x_max, plot.x_steps)\n",
    "    else:\n",
    "        x_data =  np.linspace(plot.x_min, plot.x_max, plot.x_steps)\n",
    "    y_data = npfy(x, x_data, expr0)\n",
    "    x_sc = bqp.LinearScale(min=plot.x_min, max=plot.x_max)\n",
    "    y_sc = bqp.LinearScale()\n",
    "    newline = is_line(x_data, y_data, expr0, x_sc, y_sc)\n",
    "    line0 = bqp.Lines(x=x_data, y=y_data, scales={'x': x_sc, 'y': y_sc})\n",
    "    plot.lines.append(newline)\n",
    "    fig.marks = fig.marks + [line0]\n",
    "    return fig, plot\n",
    "\n",
    "# make a new plot\n",
    "def makeplot():\n",
    "    if default_graph_settings:\n",
    "        dgs = default_graph_settings\n",
    "        newplot0 = is_graph(dgs.x_label, dgs.y_label, dgs.title_label, \\\n",
    "                 dgs.x_min, dgs.x_max, dgs.x_log, dgs.y_log, dgs.x_steps)\n",
    "    else:\n",
    "        newplot0 = is_graph()\n",
    "    return newplot0\n",
    "\n",
    "# get figure and plot\n",
    "def getfigplot():\n",
    "    if active_plot is 'fig1':\n",
    "        global fig1\n",
    "        fig = fig1\n",
    "        plot = fig_array[0]\n",
    "    elif active_plot is 'fig2':\n",
    "        global fig2\n",
    "        fig = fig2\n",
    "        plot = fig_array[1]\n",
    "    elif active_plot is 'fig3':\n",
    "        global fig3\n",
    "        fig = fig3\n",
    "        plot = fig_array[2]\n",
    "    return fig, plot\n",
    "\n",
    "# inserts a new line into the plot\n",
    "def plotline(self):\n",
    "    fig, plot = getfigplot()\n",
    "    pos = eq_dropdown.value - 1\n",
    "    if plot and pos >= 0:\n",
    "        fig, plot = addline(fig, plot, expr_array[pos])\n",
    "        updategraph('value')\n",
    "    else:\n",
    "        print(active_plot, pos)\n",
    "        \n",
    "# clears all figures from plot\n",
    "def clearfig(self):\n",
    "    fig, plot = getfigplot()\n",
    "    pos = eq_dropdown.value - 1\n",
    "    fig.marks = []\n",
    "    plot.lines = []\n",
    "    updategraph('value')\n",
    "\n",
    "# updates plot when changes are done\n",
    "def updategraph(change):\n",
    "    global fig_array\n",
    "    fig, plot = getfigplot()\n",
    "    if plot:\n",
    "        plot.title_label = title_label_input.value\n",
    "        plot.x_label = x_label_input.value\n",
    "        plot.y_label = y_label_input.value\n",
    "        plot.x_grid = x_grid_input.value\n",
    "        plot.y_grid = y_grid_input.value\n",
    "        try:\n",
    "            plot.x_steps = int(x_steps_input.value)\n",
    "        except:\n",
    "            plot.x_steps = plot.x_steps\n",
    "        try:\n",
    "            plot.x_min = int(x_min_input.value)\n",
    "        except:\n",
    "            plot.x_min = plot.x_min\n",
    "        try:\n",
    "            plot.x_max = int(x_max_input.value)\n",
    "        except:\n",
    "            plot.x_max = plot.x_max\n",
    "        if plot.x_log:\n",
    "            x_sc = bqp.LogScale(min=plot.x_min, max=plot.x_max)\n",
    "            x_data = np.geomspace(plot.x_min, plot.x_max, plot.x_steps)\n",
    "        else:\n",
    "            x_sc = bqp.LinearScale(min=plot.x_min, max=plot.x_max)\n",
    "            x_data =  np.linspace(plot.x_min, plot.x_max, plot.x_steps)\n",
    "        if plot.y_log:\n",
    "            y_sc = bqp.LogScale()\n",
    "        else:\n",
    "            y_sc = bqp.LinearScale()\n",
    "        ax_x = bqp.Axis(label=plot.x_label, scale=x_sc, grid_lines='none', grid_color='#999999')\n",
    "        ax_y = bqp.Axis(label=plot.y_label, scale=y_sc, orientation='vertical', grid_lines='none', grid_color='#999999')        \n",
    "        fig.marks = []\n",
    "        for line in enumerate(plot.lines):\n",
    "            y_data = npfy(x, x_data, line[1].expr)\n",
    "            line0 = bqp.Lines(x=x_data, y=y_data, scales={'x': x_sc, 'y': y_sc}, colors=[color_array[line[0] % len(color_array)]])\n",
    "            fig.marks = fig.marks + [line0]\n",
    "        fig.axes = [ax_x, ax_y]\n",
    "        if plot.x_grid:\n",
    "            ax_x.grid_lines = 'solid'\n",
    "        if plot.y_grid:\n",
    "            ax_y.grid_lines = 'solid'\n",
    "        fig.title = plot.title_label\n"
   ]
  },
  {
   "cell_type": "markdown",
   "metadata": {
    "extensions": {
     "jupyter_dashboards": {
      "version": 1,
      "views": {
       "grid_default": {
        "col": 8,
        "height": 4,
        "hidden": true,
        "row": 16,
        "width": 4
       },
       "report_default": {}
      }
     }
    }
   },
   "source": [
    "<a name=\"IntElem\"></a>\n",
    "# Interactive Elements \n",
    "[Overview](#Overview)"
   ]
  },
  {
   "cell_type": "markdown",
   "metadata": {},
   "source": [
    "<a name=\"IntElemCalc\"></a>\n",
    "## Calculation \n",
    "[Overview](#Overview)"
   ]
  },
  {
   "cell_type": "code",
   "execution_count": 49,
   "metadata": {
    "extensions": {
     "jupyter_dashboards": {
      "version": 1,
      "views": {
       "grid_default": {
        "hidden": true
       },
       "report_default": {
        "hidden": true
       }
      }
     }
    }
   },
   "outputs": [],
   "source": [
    "# interactive calculation elements\n",
    "\n",
    "#text elements\n",
    "expr_input = widgets.Text(\n",
    "    value=expr_str,\n",
    "    description='Expression:',\n",
    "    disabled=False\n",
    ")\n",
    "eq_dropdown = widgets.Dropdown(\n",
    "    options=[1],\n",
    "    value=1,\n",
    "    description='Use:'\n",
    ")\n",
    "active_dropdown = widgets.Dropdown(\n",
    "    options=['fig1', 'fig2', 'fig3'],\n",
    "    value='fig1',\n",
    "    description='Use Graph:'\n",
    ")\n",
    "\n",
    "#buttons\n",
    "send_btn = widgets.Button(\n",
    "    description='Expr',\n",
    "    tooltip='Use Equation',\n",
    "    icon='check'\n",
    ")\n",
    "simp_btn = widgets.Button(\n",
    "    description='simplify',\n",
    "    tooltip='Simplify Equation',\n",
    ")\n",
    "expand_btn = widgets.Button(\n",
    "    description='Expand',\n",
    "    tooltip='Expand Equation',\n",
    ")\n",
    "setactive_btn = widgets.Button(\n",
    "    description='Activate',\n",
    "    tooltip='Activate Equation',\n",
    ")\n",
    "plotline_btn = widgets.Button(\n",
    "    description='Plot',\n",
    "    tooltip='Plot Line',\n",
    ")\n",
    "newplot_btn = widgets.Button(\n",
    "    description='New Plot',\n",
    "    tooltip='New Plot',\n",
    ")\n",
    "difx_btn = widgets.Button(\n",
    "    description='dx',\n",
    "    tooltip='diff x',\n",
    ")\n",
    "dify_btn = widgets.Button(\n",
    "    description='dy',\n",
    "    tooltip='diff y',\n",
    ")\n",
    "difz_btn = widgets.Button(\n",
    "    description='dz',\n",
    "    tooltip='diff z',\n",
    ")\n",
    "clearfig_btn = widgets.Button(\n",
    "    description='clear',\n",
    "    tooltip='clear choosen Figure',\n",
    ")\n",
    "#output\n",
    "eq_out0 = widgets.Label(value='')\n",
    "eq_out1 = widgets.Label(value='')\n",
    "eq_out2 = widgets.Label(value='')\n",
    "\n",
    "setactive_btn.on_click(setactive)\n",
    "send_btn.on_click(readexpr)\n",
    "expand_btn.on_click(expand)\n",
    "simp_btn.on_click(simplify)\n",
    "difx_btn.on_click(derix)\n",
    "plotline_btn.on_click(plotline)\n",
    "clearfig_btn.on_click(clearfig)\n",
    "active_dropdown.observe(setactivegraph, 'value')\n",
    "eqchoice = widgets.HBox([eq_dropdown, active_dropdown, clearfig_btn, setactive_btn, plotline_btn])\n"
   ]
  },
  {
   "cell_type": "markdown",
   "metadata": {},
   "source": [
    "<a name=\"IntElemGraph2D\"></a>\n",
    "## 2D Graphs\n",
    "[Overview](#Overview)"
   ]
  },
  {
   "cell_type": "code",
   "execution_count": 50,
   "metadata": {
    "extensions": {
     "jupyter_dashboards": {
      "version": 1,
      "views": {
       "grid_default": {
        "hidden": true
       },
       "report_default": {}
      }
     }
    }
   },
   "outputs": [],
   "source": [
    "# interactive graph elements\n",
    "title_label_input = widgets.Text(\n",
    "    value='Title',\n",
    "    description='Title:'\n",
    ")\n",
    "x_label_input = widgets.Text(\n",
    "    value='X',\n",
    "    description='X-Label:',\n",
    "    disabled=False)\n",
    "y_label_input = widgets.Text(\n",
    "    value='Y',\n",
    "    description='Y-Label:'\n",
    ")\n",
    "x_steps_input = widgets.Text(\n",
    "    value='100',\n",
    "    description='data points:'\n",
    ")\n",
    "x_min_input = widgets.Text(\n",
    "    value='-1',\n",
    "    description='x min:'\n",
    ")\n",
    "x_max_input = widgets.Text(\n",
    "    value='1',\n",
    "    description='x max:'\n",
    ")\n",
    "\n",
    "pi_bool_input = widgets.Checkbox(\n",
    "    value=False,\n",
    "    description='Multiples of Pi'\n",
    ")\n",
    "x_grid_input = widgets.Checkbox(\n",
    "    value=False,\n",
    "    description='X Grid'\n",
    ")\n",
    "y_grid_input = widgets.Checkbox(\n",
    "    value=False,\n",
    "    description='Y Grid'\n",
    ")\n",
    "\n",
    "title_label_input.observe(updategraph, 'value')\n",
    "x_label_input.observe(updategraph, 'value')\n",
    "y_label_input.observe(updategraph, 'value')\n",
    "x_steps_input.observe(updategraph, 'value')\n",
    "x_min_input.observe(updategraph, 'value')\n",
    "x_max_input.observe(updategraph, 'value')\n",
    "pi_bool_input.observe(updategraph, 'value')\n",
    "x_grid_input.observe(updategraph, 'value')\n",
    "y_grid_input.observe(updategraph, 'value')"
   ]
  },
  {
   "cell_type": "markdown",
   "metadata": {
    "extensions": {
     "jupyter_dashboards": {
      "version": 1,
      "views": {
       "grid_default": {
        "col": 0,
        "height": 4,
        "hidden": true,
        "row": 20,
        "width": 4
       },
       "report_default": {}
      }
     }
    }
   },
   "source": [
    "<a name=\"Layout\"></a>\n",
    "# Layout\n",
    "[Overview](#Overview)"
   ]
  },
  {
   "cell_type": "code",
   "execution_count": 53,
   "metadata": {
    "extensions": {
     "jupyter_dashboards": {
      "version": 1,
      "views": {
       "grid_default": {
        "col": 0,
        "height": 3,
        "hidden": false,
        "row": 0,
        "width": 12
       },
       "report_default": {
        "hidden": false
       }
      }
     }
    },
    "scrolled": false
   },
   "outputs": [
    {
     "data": {
      "application/vnd.jupyter.widget-view+json": {
       "model_id": "76d64a1892a44938b327c4838357d5d2",
       "version_major": 2,
       "version_minor": 0
      },
      "text/html": [
       "<p>Failed to display Jupyter Widget of type <code>HBox</code>.</p>\n",
       "<p>\n",
       "  If you're reading this message in the Jupyter Notebook or JupyterLab Notebook, it may mean\n",
       "  that the widgets JavaScript is still loading. If this message persists, it\n",
       "  likely means that the widgets JavaScript library is either not installed or\n",
       "  not enabled. See the <a href=\"https://ipywidgets.readthedocs.io/en/stable/user_install.html\">Jupyter\n",
       "  Widgets Documentation</a> for setup instructions.\n",
       "</p>\n",
       "<p>\n",
       "  If you're reading this message in another frontend (for example, a static\n",
       "  rendering on GitHub or <a href=\"https://nbviewer.jupyter.org/\">NBViewer</a>),\n",
       "  it may mean that your frontend doesn't currently support widgets.\n",
       "</p>\n"
      ],
      "text/plain": [
       "HBox(children=(VBox(children=(HTMLMath(value='Equations<br>1 \\\\(\\\\cos^{2}{\\\\left (x^{3} + 4 \\\\right )}\\\\)<br>2 \\\\(- 6 x^{2} \\\\sin{\\\\left (x^{3} + 4 \\\\right )} \\\\cos{\\\\left (x^{3} + 4 \\\\right )}\\\\)<br>3 \\\\(- 3 x^{2} \\\\sin{\\\\left (2 x^{3} + 8 \\\\right )}\\\\)<br>4 \\\\(18 x^{4} \\\\sin^{2}{\\\\left (x^{3} + 4 \\\\right )} - 18 x^{4} \\\\cos^{2}{\\\\left (x^{3} + 4 \\\\right )} - 12 x \\\\sin{\\\\left (x^{3} + 4 \\\\right )} \\\\cos{\\\\left (x^{3} + 4 \\\\right )}\\\\)<br>5 \\\\(- 3 x^{2} \\\\sin{\\\\left (2 x^{3} + 8 \\\\right )}\\\\)<br>', layout=Layout(min_width='700px'), placeholder='Equations'), Label(value=''), HBox(children=(Dropdown(description='Use:', options=(1,), value=1), Dropdown(description='Use Graph:', options=('fig1', 'fig2', 'fig3'), value='fig1'), Button(description='clear', style=ButtonStyle(), tooltip='clear choosen Figure'), Button(description='Activate', style=ButtonStyle(), tooltip='Activate Equation'), Button(description='Plot', style=ButtonStyle(), tooltip='Plot Line'))), Tab(children=(HBox(children=(Text(value='-6*x**2*sin(x**3 + 4)*cos(x**3 + 4)', description='Expression:'), Button(description='Expr', icon='check', style=ButtonStyle(), tooltip='Use Equation'), Button(description='simplify', style=ButtonStyle(), tooltip='Simplify Equation'), Button(description='Expand', style=ButtonStyle(), tooltip='Expand Equation'), Button(description='dx', style=ButtonStyle(), tooltip='diff x'))), VBox(children=(Text(value='-1', description='x min:'), Text(value='1', description='x max:'), Text(value='100', description='data points:'), Text(value='X', description='X-Label:'), Text(value='Y', description='Y-Label:'), Text(value='Title', description='Title:'), HBox(children=(Checkbox(value=False, description='X Grid'), Checkbox(value=False, description='Y Grid')))))), _titles={'0': 'Calculation', '1': '2D Graph Settings'}))), VBox(children=(Figure(axes=[Axis(grid_color='#999999', grid_lines='none', label='X', scale=LinearScale(max=1.0, min=-1.0), side='bottom'), Axis(grid_color='#999999', grid_lines='none', label='Y', orientation='vertical', scale=LinearScale(), side='left')], fig_margin={'top': 60, 'bottom': 60, 'left': 60, 'right': 60}, layout=Layout(min_width='125px'), scale_x=LinearScale(allow_padding=False, max=1.0, min=0.0), scale_y=LinearScale(allow_padding=False, max=1.0, min=0.0), title='Title'), Toolbar(figure=Figure(axes=[Axis(grid_color='#999999', grid_lines='none', label='X', scale=LinearScale(max=1.0, min=-1.0), side='bottom'), Axis(grid_color='#999999', grid_lines='none', label='Y', orientation='vertical', scale=LinearScale(), side='left')], fig_margin={'top': 60, 'bottom': 60, 'left': 60, 'right': 60}, layout=Layout(min_width='125px'), scale_x=LinearScale(allow_padding=False, max=1.0, min=0.0), scale_y=LinearScale(allow_padding=False, max=1.0, min=0.0), title='Title')), Tab(children=(VBox(children=(Figure(axes=[Axis(grid_color='#999999', grid_lines='none', label='X', scale=LinearScale(max=1.0, min=-1.0), side='bottom'), Axis(grid_color='#999999', grid_lines='none', label='Y', orientation='vertical', scale=LinearScale(), side='left')], fig_margin={'top': 60, 'bottom': 60, 'left': 60, 'right': 60}, layout=Layout(min_width='125px'), scale_x=LinearScale(allow_padding=False, max=1.0, min=0.0), scale_y=LinearScale(allow_padding=False, max=1.0, min=0.0), title='Title'), Toolbar(figure=Figure(axes=[Axis(grid_color='#999999', grid_lines='none', label='X', scale=LinearScale(max=1.0, min=-1.0), side='bottom'), Axis(grid_color='#999999', grid_lines='none', label='Y', orientation='vertical', scale=LinearScale(), side='left')], fig_margin={'top': 60, 'bottom': 60, 'left': 60, 'right': 60}, layout=Layout(min_width='125px'), scale_x=LinearScale(allow_padding=False, max=1.0, min=0.0), scale_y=LinearScale(allow_padding=False, max=1.0, min=0.0), title='Title')), Figure(fig_margin={'top': 60, 'bottom': 60, 'left': 60, 'right': 60}, layout=Layout(min_width='125px'), scale_x=LinearScale(allow_padding=False, max=1.0, min=0.0), scale_y=LinearScale(allow_padding=False, max=1.0, min=0.0), title='Graph 3'), Toolbar(figure=Figure(fig_margin={'top': 60, 'bottom': 60, 'left': 60, 'right': 60}, layout=Layout(min_width='125px'), scale_x=LinearScale(allow_padding=False, max=1.0, min=0.0), scale_y=LinearScale(allow_padding=False, max=1.0, min=0.0), title='Graph 3')))), VBox(), VBox()), _titles={'0': '2D Graphs', '1': '3D Graph', '2': 'Vectors'})))), layout=Layout(width='100%'))"
      ]
     },
     "metadata": {},
     "output_type": "display_data"
    },
    {
     "name": "stderr",
     "output_type": "stream",
     "text": [
      "/home/pmk/anaconda3/lib/python3.6/site-packages/bqplot/traits.py:137: FutureWarning: Conversion of the second argument of issubdtype from `float` to `np.floating` is deprecated. In future, it will be treated as `np.float64 == np.dtype(float).type`.\n",
      "  if np.issubdtype(a.dtype, np.float):\n"
     ]
    }
   ],
   "source": [
    "# graphs\n",
    "fig_array = []\n",
    "for i in range(3):\n",
    "    newplot = makeplot()\n",
    "    fig_array.append(newplot)\n",
    "    \n",
    "input_box = widgets.HBox([expr_input, send_btn, simp_btn, expand_btn, difx_btn])\n",
    "axes_box = widgets.VBox([x_min_input, x_max_input, x_steps_input, x_label_input,\\\n",
    "                         y_label_input, title_label_input, widgets.HBox([x_grid_input, y_grid_input])])\n",
    "input_tab = widgets.Tab([input_box, axes_box])\n",
    "input_tab.set_title(0, 'Calculation')\n",
    "input_tab.set_title(1, '2D Graph Settings')\n",
    "left_box = widgets.VBox([history_list, eq_out0, eqchoice, input_tab])\n",
    "tb1 = bqp.Toolbar(figure=fig1)\n",
    "tb2 = bqp.Toolbar(figure=fig2)\n",
    "tb3 = bqp.Toolbar(figure=fig3)\n",
    "fig_vbox = widgets.VBox([fig2, tb2, fig3, tb3])\n",
    "fig3d_vbox = widgets.VBox([])\n",
    "vector_vbox = widgets.VBox([])\n",
    "viz_tab = widgets.Tab([fig_vbox, fig3d_vbox, vector_vbox])\n",
    "viz_tab.set_title(0, '2D Graphs')\n",
    "viz_tab.set_title(1, '3D Graph')\n",
    "viz_tab.set_title(2, 'Vectors')\n",
    "viz_vbox = widgets.VBox([fig1, tb1, viz_tab])\n",
    "gui = widgets.HBox(layout= widgets.Layout(width='100%'))\n",
    "gui.children=[left_box, viz_vbox]\n",
    "gui"
   ]
  },
  {
   "cell_type": "code",
   "execution_count": null,
   "metadata": {
    "collapsed": true,
    "extensions": {
     "jupyter_dashboards": {
      "version": 1,
      "views": {
       "grid_default": {
        "col": 8,
        "height": 4,
        "hidden": true,
        "row": 0,
        "width": 4
       },
       "report_default": {
        "hidden": false
       }
      }
     }
    },
    "scrolled": true
   },
   "outputs": [],
   "source": []
  },
  {
   "cell_type": "code",
   "execution_count": null,
   "metadata": {
    "collapsed": true,
    "extensions": {
     "jupyter_dashboards": {
      "version": 1,
      "views": {
       "grid_default": {
        "hidden": true
       },
       "report_default": {
        "hidden": true
       }
      }
     }
    }
   },
   "outputs": [],
   "source": []
  }
 ],
 "metadata": {
  "extensions": {
   "jupyter_dashboards": {
    "activeView": "grid_default",
    "version": 1,
    "views": {
     "grid_default": {
      "cellMargin": 10,
      "defaultCellHeight": 20,
      "maxColumns": 12,
      "name": "grid",
      "type": "grid"
     },
     "report_default": {
      "name": "report",
      "type": "report"
     }
    }
   }
  },
  "kernelspec": {
   "display_name": "Python 3",
   "language": "python",
   "name": "python3"
  },
  "language_info": {
   "codemirror_mode": {
    "name": "ipython",
    "version": 3
   },
   "file_extension": ".py",
   "mimetype": "text/x-python",
   "name": "python",
   "nbconvert_exporter": "python",
   "pygments_lexer": "ipython3",
   "version": "3.6.3"
  }
 },
 "nbformat": 4,
 "nbformat_minor": 2
}
