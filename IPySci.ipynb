{
 "cells": [
  {
   "cell_type": "markdown",
   "metadata": {
    "extensions": {
     "jupyter_dashboards": {
      "version": 1,
      "views": {
       "grid_default": {
        "col": 0,
        "height": 12,
        "hidden": true,
        "row": 4,
        "width": 12
       },
       "report_default": {}
      }
     }
    }
   },
   "source": [
    " <a name=\"Overview\"></a>\n",
    "# Overview\n",
    "\n",
    "[Global Imports](#GlobImp)\n",
    "\n",
    "[Global Classes](#GlobClas)\n",
    "\n",
    "[Global Variables](#GlobVar)\n",
    "\n",
    "[Global Functions](#GlobFunc)\n",
    "\n",
    "[Mathematical Functions](#MathFunc)\n",
    "\n",
    "[Graphical Output](#GraphOut)\n",
    "\n",
    "[Interactive Elements](#IntElem)\n",
    "\n",
    "[Calculations](#IntElemCalc)\n",
    "\n",
    "[2D Graphs](#IntElemGraph2D)\n",
    "\n",
    "[Layout](#Layout)"
   ]
  },
  {
   "cell_type": "markdown",
   "metadata": {
    "extensions": {
     "jupyter_dashboards": {
      "version": 1,
      "views": {
       "grid_default": {
        "col": 0,
        "height": 4,
        "hidden": true,
        "row": 0,
        "width": 4
       },
       "report_default": {}
      }
     }
    }
   },
   "source": [
    "<a name=\"GlobImp\"></a>\n",
    "# Global Imports"
   ]
  },
  {
   "cell_type": "code",
   "execution_count": 1,
   "metadata": {
    "extensions": {
     "jupyter_dashboards": {
      "version": 1,
      "views": {
       "grid_default": {
        "hidden": true
       },
       "report_default": {
        "hidden": true
       }
      }
     }
    }
   },
   "outputs": [
    {
     "data": {
      "text/html": [
       "<style>.container { width:100% !important; }.widget-htmlmath-content {width:700px !important;} </style>"
      ],
      "text/plain": [
       "<IPython.core.display.HTML object>"
      ]
     },
     "metadata": {},
     "output_type": "display_data"
    }
   ],
   "source": [
    "%matplotlib inline\n",
    "import numpy as np\n",
    "import sympy as sp\n",
    "import matplotlib.pyplot as plt\n",
    "import ipywidgets as widgets\n",
    "from bqplot import pyplot as bqp\n",
    "from bqplot.interacts import panzoom\n",
    "from IPython.core.display import display, HTML\n",
    "display(HTML(\"<style>.container { width:100% !important; }.widget-htmlmath-content {width:700px !important;} </style>\"))\n",
    "plt.style.use('ggplot')\n",
    "sp.init_printing()\n"
   ]
  },
  {
   "cell_type": "markdown",
   "metadata": {
    "extensions": {
     "jupyter_dashboards": {
      "version": 1,
      "views": {
       "grid_default": {
        "col": 4,
        "height": 4,
        "hidden": true,
        "row": 16,
        "width": 4
       },
       "report_default": {}
      }
     }
    }
   },
   "source": [
    " <a name=\"GlobClas\"></a>\n",
    "# Global Classes \n",
    "[Overview](#Overview)"
   ]
  },
  {
   "cell_type": "code",
   "execution_count": 2,
   "metadata": {
    "extensions": {
     "jupyter_dashboards": {
      "version": 1,
      "views": {
       "grid_default": {
        "hidden": true
       },
       "report_default": {}
      }
     }
    }
   },
   "outputs": [],
   "source": [
    "# graphing classes\n",
    "\n",
    "# line class\n",
    "class is_line:\n",
    "    def __init__(self, x_data, y_data, expr, x_sc, y_sc):\n",
    "        self.x_data = x_data\n",
    "        self.y_data = y_data\n",
    "        self.x_sc = x_sc\n",
    "        self.y_sc = y_sc\n",
    "        self.expr = expr\n",
    "            \n",
    "# graph class\n",
    "class is_graph:\n",
    "    active = False\n",
    "    position = 3\n",
    "    x_min=-1\n",
    "    x_max=1\n",
    "    x_log=False\n",
    "    y_log=False\n",
    "    y_grid=False\n",
    "    x_grid=False\n",
    "    pi_bool=False\n",
    "    x_steps = 100\n",
    "    def __init__(self, x_label='X', y_label='Y', title_label='Title', pi_bool=pi_bool,\\\n",
    "                 x_min=x_min, x_max=x_max, x_log=x_log, y_log=y_log, x_steps=x_steps,\\\n",
    "                 x_grid=x_grid, y_grid=y_grid):\n",
    "        self.x_label = x_label\n",
    "        self.y_label = y_label        \n",
    "        self.title_label = title_label\n",
    "        self.x_min = x_min\n",
    "        self.x_max = x_max\n",
    "        self.x_log = x_log\n",
    "        self.y_log = y_log\n",
    "        self.x_grid = x_grid\n",
    "        self.y_grid = y_grid\n",
    "        self.pi_bool = pi_bool\n",
    "        selfx_steps = x_steps\n",
    "        self.lines = []\n",
    "        \n",
    "    def addline(self, x_data, y_data, expr, x_sc, y_sc):\n",
    "        self.lines.append(is_line(x_data, y_data))"
   ]
  },
  {
   "cell_type": "markdown",
   "metadata": {
    "extensions": {
     "jupyter_dashboards": {
      "version": 1,
      "views": {
       "grid_default": {
        "col": 8,
        "height": 4,
        "hidden": true,
        "row": 16,
        "width": 4
       },
       "report_default": {}
      }
     }
    }
   },
   "source": [
    "<a name=\"GlobVar\"></a>\n",
    "# Global Variables\n",
    "[Overview](#Overview)"
   ]
  },
  {
   "cell_type": "code",
   "execution_count": 3,
   "metadata": {
    "extensions": {
     "jupyter_dashboards": {
      "version": 1,
      "views": {
       "grid_default": {
        "col": 7,
        "height": 4,
        "hidden": true,
        "row": 0,
        "width": 4
       },
       "report_default": {}
      }
     }
    }
   },
   "outputs": [],
   "source": [
    "#global variables\n",
    "x, y, z, t = sp.symbols(\"x y z t\")\n",
    "ilim_max = sp.oo\n",
    "ilim_min = -sp.oo\n",
    "vardif = x\n",
    "multdif = 1\n",
    "xpoint = 0\n",
    "utol = 100\n",
    "ltol = -100\n",
    "\n",
    "expr = x\n",
    "expr_str = str(expr)\n",
    "expr_array = []\n",
    "color_array = ['#0033cc', '#ff3300', '#33cc33', '#00ffcc', '#ff66cc', '#ff6600']\n",
    "history_list = widgets.HTMLMath(\n",
    "    value=r'Equations<br>',\n",
    "    placeholder='Equations',\n",
    "    layout = widgets.Layout(flex_wrap='nowrap', min_width='700px'),\n",
    ")\n",
    "plot_array = []\n",
    "fig1 = bqp.Figure(title='Graph 1')\n",
    "fig2 = bqp.Figure(title='Graph 2')\n",
    "fig3 = bqp.Figure(title='Graph 3')\n",
    "active_plot = 'fig1'\n",
    "default_graph_settings = False"
   ]
  },
  {
   "cell_type": "markdown",
   "metadata": {
    "collapsed": true,
    "extensions": {
     "jupyter_dashboards": {
      "version": 1,
      "views": {
       "grid_default": {
        "col": 0,
        "height": 4,
        "hidden": true,
        "row": 20,
        "width": 4
       },
       "report_default": {}
      }
     }
    }
   },
   "source": [
    "<a name=\"GlobFunc\"></a>\n",
    "# Global Functions \n",
    "[Overview](#Overview)"
   ]
  },
  {
   "cell_type": "code",
   "execution_count": 4,
   "metadata": {
    "extensions": {
     "jupyter_dashboards": {
      "version": 1,
      "views": {
       "grid_default": {
        "hidden": true
       },
       "report_default": {
        "hidden": true
       }
      }
     }
    }
   },
   "outputs": [],
   "source": [
    "# makes a numerical computation of sympy equation\n",
    "def npfy(x_, x_data, expr_):\n",
    "    f = sp.lambdify(x_, expr_, 'numpy')\n",
    "    y_data = f(x_data)\n",
    "    y_data[y_data>utol] = np.inf\n",
    "    y_data[y_data<ltol] = -np.inf\n",
    "    return y_data\n",
    "\n",
    "# changes variable for differentiation and integration\n",
    "def setvardif(self):\n",
    "    global vardif\n",
    "    if difint_dropdown.value is 'x':\n",
    "        vardif = x\n",
    "    elif difint_dropdown.value is 'y':\n",
    "        vardif = y\n",
    "    elif difint_dropdown.value is 'z':\n",
    "        vardif = z\n",
    "    elif difint_dropdown.value is 't':\n",
    "        vardif = t\n",
    "\n",
    "# changes variable for differentiation and integration\n",
    "def setmultdif(self):\n",
    "    global multdif\n",
    "    try:\n",
    "        multdif = int(multdif_input.value)\n",
    "        if multdif <= 0:\n",
    "            multdif = 1\n",
    "            print('Positive integer nedded, got: ', multdif_input.value)\n",
    "    except:\n",
    "        multdif = 1\n",
    "        print('Positive integer nedded, got: ', multdif_input.value)\n",
    "\n",
    "# changes limits for integration\n",
    "def setilim(self):\n",
    "    global ilim_min\n",
    "    global ilim_max\n",
    "    if ilim_min_input.value is '-oo':\n",
    "        ilim_min = -sp.oo\n",
    "    else:\n",
    "        try:\n",
    "            ilim_min = float(ilim_min_input.value)\n",
    "        except:\n",
    "            print('No valid Limit:', ilim_min_input.value)\n",
    "    if ilim_max_input.value is 'oo':\n",
    "        ilim_max = sp.oo\n",
    "    else:\n",
    "        try:\n",
    "            ilim_max = float(ilim_max_input.value)\n",
    "        except:\n",
    "            print('No valid Limit:', ilim_max_input.value)\n",
    "\n",
    "# changes tolerance limits for plotting\n",
    "def settol(self):\n",
    "    global ltol\n",
    "    global utol\n",
    "    if ltol_input.value is '-oo':\n",
    "        ltol = -np.inf\n",
    "    else:\n",
    "        try:\n",
    "            ltol = float(ltol_input.value)\n",
    "        except:\n",
    "            print('No valid Limit:', ltol_input.value)\n",
    "    if utol_input.value is 'oo':\n",
    "        utol = np.inf\n",
    "    else:\n",
    "        try:\n",
    "            utol = float(utol_input.value)\n",
    "        except:\n",
    "            print('No valid Limit:', utol_input.value)\n",
    "            \n",
    "# set a point for expansion or limit\n",
    "def setpoint(self):\n",
    "    global xpoint\n",
    "    if xpoint.value is '-oo':\n",
    "        xpoint = -sp.oo\n",
    "    elif xpoint.value is 'oo':\n",
    "        xpoint = sp.oo\n",
    "    else:\n",
    "        try:\n",
    "            xpoint = float(xpoint_input.value)\n",
    "        except:\n",
    "            xpoint = 0\n",
    "            print('No valid Point:', xpoint_input.value)    \n",
    "\n",
    "# shows the equation\n",
    "def add_history():\n",
    "    global expr_array\n",
    "    global history_list\n",
    "    history_list.value += str(len(expr_array)) + ' \\(' + sp.latex(expr_array[-1]) + '\\)' '<br>'\n",
    "    eq_dropdown.options = [i + 1 for i, item in enumerate(expr_array)]\n",
    "    return history_list\n",
    "\n",
    "# clears the equations history\n",
    "def clear_history(self):\n",
    "    global history_list\n",
    "    global expr_array\n",
    "    history_list.value = r'Equations<br>'\n",
    "    expr_array = []\n",
    "    eq_dropdown.options = [0]\n",
    "\n",
    "# sets choosen expresion active\n",
    "def setactivegraph(self):\n",
    "    global active_plot\n",
    "    active_plot = active_dropdown.value\n",
    "    if active_plot is 'fig1':\n",
    "        plot = fig_array[0]\n",
    "    elif active_plot is 'fig2':\n",
    "        plot = fig_array[1]\n",
    "    elif active_plot is 'fig3':\n",
    "        plot = fig_array[2]\n",
    "    if plot:\n",
    "        global pi_bool_input\n",
    "        global title_label_input\n",
    "        global x_label_input\n",
    "        global y_label_input\n",
    "        global x_steps_input\n",
    "        global x_min_input\n",
    "        global x_max_input\n",
    "        pi_bool_input.value = plot.pi_bool\n",
    "        x_grid_input.value = plot.x_grid\n",
    "        y_grid_input.value = plot.y_grid\n",
    "        title_label_input.value = plot.title_label\n",
    "        x_label_input.value = plot.x_label\n",
    "        y_label_input.value = plot.y_label\n",
    "        x_steps_input.value = str(plot.x_steps)\n",
    "        x_min_input.value = str(plot.x_min)\n",
    "        x_max_input.value = str(plot.x_max)\n",
    "\n",
    "\n",
    "#sets choosen expresion active\n",
    "def setactive(self):\n",
    "    global expr\n",
    "    global expr_str\n",
    "    pos = int(eq_dropdown.value) - 1\n",
    "    if pos >= 0:\n",
    "        expr = expr_array[pos]\n",
    "        expr_str = str(expr)\n",
    "        expr_input.value = expr_str\n",
    "    \n",
    "#appends expression array and updates output\n",
    "def expr_array_append(expr0):\n",
    "    global expr_array\n",
    "    global expr\n",
    "    if len(expr_array) > 0:\n",
    "        if expr_array[-1] is not expr0:\n",
    "            expr_array.append(expr0)\n",
    "            expr = expr0\n",
    "    else:\n",
    "        expr_array.append(expr)\n",
    "    add_history()\n",
    "\n",
    "#reads and validates user input\n",
    "def readexpr(change):\n",
    "    global expr_str\n",
    "    global expr\n",
    "    global expr_array\n",
    "    if expr_input.value is not '' and expr_input.value is not None:\n",
    "        expr = sp.sympify(expr_input.value)\n",
    "        expr_str = str(expr)\n",
    "        eq_out0.value = r'\\(' + sp.latex(expr) + '\\)'\n",
    "        expr_array_append(expr)\n",
    "        return expr\n",
    "        \"\"\"\n",
    "        try:\n",
    "            expr = sp.sympify(expr_input.value)\n",
    "            expr_str = str(expr)\n",
    "            eq_out0.value = r'\\(' + sp.latex(expr) + '\\)'\n",
    "            expr_array_append(expr)\n",
    "            return expr\n",
    "        except:\n",
    "            eq_out0.value = r'Invalid Expression!'\n",
    "            return 'Invalid Expression!'\n",
    "        \"\"\"\n"
   ]
  },
  {
   "cell_type": "markdown",
   "metadata": {
    "extensions": {
     "jupyter_dashboards": {
      "version": 1,
      "views": {
       "grid_default": {
        "col": 0,
        "height": 4,
        "hidden": true,
        "row": 0,
        "width": 4
       },
       "report_default": {
        "hidden": false
       }
      }
     }
    }
   },
   "source": [
    "<a name=\"MathFunc\"></a>\n",
    "# Mathematical Functions \n",
    "[Overview](#Overview)"
   ]
  },
  {
   "cell_type": "code",
   "execution_count": 5,
   "metadata": {
    "collapsed": true,
    "extensions": {
     "jupyter_dashboards": {
      "version": 1,
      "views": {
       "grid_default": {
        "hidden": true
       },
       "report_default": {
        "hidden": true
       }
      }
     }
    }
   },
   "outputs": [],
   "source": [
    "# simplify equation\n",
    "def simplify(self):\n",
    "    sexpr = sp.simplify(expr)\n",
    "    eq_out1.value = r'\\(' + sp.latex(sexpr) + '\\)'\n",
    "    expr_array_append(sexpr)\n",
    "\n",
    "# expands equation\n",
    "def expand(self):\n",
    "    eexpr = sp.expand(expr)\n",
    "    eq_out1.value = r'\\(' + sp.latex(eexpr) + '\\)'\n",
    "    expr_array_append(eexpr)\n",
    "\n",
    "# substitute a variable\n",
    "def substitute(self):\n",
    "    subexpr = sp.sympify(expr_input.value)\n",
    "    pos = int(eq_dropdown.value) - 1\n",
    "    if pos >= 0:\n",
    "        expr0 = expr_array[pos]\n",
    "        exprsub = expr0.subs(vardif, subexpr)\n",
    "        eq_out1.value = r'\\(' + sp.latex(exprsub) + '\\)'\n",
    "        expr_array_append(exprsub)\n",
    "        \n",
    "# derivatives\n",
    "def derivative(self):\n",
    "    exprdif = sp.diff(expr, vardif, multdif)\n",
    "    eq_out1.value = r'\\(' + sp.latex(exprdif) + '\\)'\n",
    "    expr_array_append(exprdif)\n",
    "    \n",
    "# find a limit\n",
    "def limit(self):\n",
    "    limexpr0 = sp.limit(expr, vardif, xpoint)\n",
    "    limexpr = limexpr0.doit()\n",
    "    eq_out1.value = r'\\(' + sp.latex(limexpr) + '\\)'\n",
    "    expr_array_append(limexpr)\n",
    "    \n",
    "# expand series\n",
    "def expandseries(self):\n",
    "    exprexp = expr.series(vardif, xpoint, multdif)\n",
    "    eq_out1.value = r'\\(' + sp.latex(exprexp) + '\\)'\n",
    "    expr_array_append(exprexp)\n",
    "    \n",
    "# integrals\n",
    "def integrate(self):\n",
    "    iexpr0 = sp.integrate(expr, vardif)\n",
    "    iexpr = iexpr0.doit()\n",
    "    eq_out1.value = r'\\(' + sp.latex(iexpr) + '\\)'\n",
    "    expr_array_append(iexpr)\n",
    "    \n",
    "def integratelim(self):\n",
    "    iexpr0 = sp.integrate(expr, (vardif, ilim_min, ilim_max))\n",
    "    iexpr = iexpr0.doit()\n",
    "    eq_out1.value = r'\\(' + sp.latex(iexpr) + '\\)'\n",
    "    expr_array_append(iexpr)\n"
   ]
  },
  {
   "cell_type": "markdown",
   "metadata": {
    "extensions": {
     "jupyter_dashboards": {
      "version": 1,
      "views": {
       "grid_default": {
        "col": 4,
        "height": 4,
        "hidden": true,
        "row": 16,
        "width": 4
       },
       "report_default": {}
      }
     }
    }
   },
   "source": [
    "<a name=\"GraphOut\"></a>\n",
    "# Graphical Output\n",
    "[Overview](#Overview)"
   ]
  },
  {
   "cell_type": "code",
   "execution_count": 6,
   "metadata": {
    "extensions": {
     "jupyter_dashboards": {
      "version": 1,
      "views": {
       "grid_default": {
        "hidden": true
       },
       "report_default": {}
      }
     }
    }
   },
   "outputs": [],
   "source": [
    "# adds a line to a given plot\n",
    "def addline(fig, plot, expr0):\n",
    "    if plot.x_log:\n",
    "        x_data = np.geomspace(plot.x_min, plot.x_max, plot.x_steps)\n",
    "    else:\n",
    "        x_data =  np.linspace(plot.x_min, plot.x_max, plot.x_steps)\n",
    "    y_data = npfy(x, x_data, expr0)\n",
    "    x_sc = bqp.LinearScale(min=plot.x_min, max=plot.x_max)\n",
    "    y_sc = bqp.LinearScale()\n",
    "    newline = is_line(x_data, y_data, expr0, x_sc, y_sc)\n",
    "    line0 = bqp.Lines(x=x_data, y=y_data, scales={'x': x_sc, 'y': y_sc})\n",
    "    plot.lines.append(newline)\n",
    "    fig.marks = fig.marks + [line0]\n",
    "    return fig, plot\n",
    "\n",
    "# make a new plot\n",
    "def makeplot():\n",
    "    if default_graph_settings:\n",
    "        dgs = default_graph_settings\n",
    "        newplot0 = is_graph(dgs.x_label, dgs.y_label, dgs.title_label, \\\n",
    "                 dgs.x_min, dgs.x_max, dgs.x_log, dgs.y_log, dgs.x_steps)\n",
    "    else:\n",
    "        newplot0 = is_graph()\n",
    "    return newplot0\n",
    "\n",
    "# get figure and plot\n",
    "def getfigplot():\n",
    "    if active_plot is 'fig1':\n",
    "        global fig1\n",
    "        fig = fig1\n",
    "        plot = fig_array[0]\n",
    "    elif active_plot is 'fig2':\n",
    "        global fig2\n",
    "        fig = fig2\n",
    "        plot = fig_array[1]\n",
    "    elif active_plot is 'fig3':\n",
    "        global fig3\n",
    "        fig = fig3\n",
    "        plot = fig_array[2]\n",
    "    return fig, plot\n",
    "\n",
    "# inserts a new line into the plot\n",
    "def plotline(self):\n",
    "    fig, plot = getfigplot()\n",
    "    pos = eq_dropdown.value - 1\n",
    "    if plot and pos >= 0:\n",
    "        fig, plot = addline(fig, plot, expr_array[pos])\n",
    "        updategraph('value')\n",
    "    else:\n",
    "        print(active_plot, pos)\n",
    "        \n",
    "# clears all figures from plot\n",
    "def clearfig(self):\n",
    "    fig, plot = getfigplot()\n",
    "    pos = eq_dropdown.value - 1\n",
    "    fig.marks = []\n",
    "    plot.lines = []\n",
    "    updategraph('value')\n",
    "\n",
    "# updates plot when changes are done\n",
    "def updategraph(change):\n",
    "    global fig_array\n",
    "    fig, plot = getfigplot()\n",
    "    if plot:\n",
    "        plot.title_label = title_label_input.value\n",
    "        plot.x_label = x_label_input.value\n",
    "        plot.y_label = y_label_input.value\n",
    "        plot.x_grid = x_grid_input.value\n",
    "        plot.y_grid = y_grid_input.value\n",
    "        try:\n",
    "            plot.x_steps = int(x_steps_input.value)\n",
    "        except:\n",
    "            plot.x_steps = plot.x_steps\n",
    "        try:\n",
    "            plot.x_min = int(x_min_input.value)\n",
    "        except:\n",
    "            plot.x_min = plot.x_min\n",
    "        try:\n",
    "            plot.x_max = int(x_max_input.value)\n",
    "        except:\n",
    "            plot.x_max = plot.x_max\n",
    "        if plot.x_log:\n",
    "            x_sc = bqp.LogScale(min=plot.x_min, max=plot.x_max)\n",
    "            x_data = np.geomspace(plot.x_min, plot.x_max, plot.x_steps)\n",
    "        else:\n",
    "            x_sc = bqp.LinearScale(min=plot.x_min, max=plot.x_max)\n",
    "            x_data =  np.linspace(plot.x_min, plot.x_max, plot.x_steps)\n",
    "        if plot.y_log:\n",
    "            y_sc = bqp.LogScale()\n",
    "        else:\n",
    "            y_sc = bqp.LinearScale()\n",
    "        ax_x = bqp.Axis(label=plot.x_label, scale=x_sc, grid_lines='none', grid_color='#999999')\n",
    "        ax_y = bqp.Axis(label=plot.y_label, scale=y_sc, orientation='vertical', grid_lines='none', grid_color='#999999')        \n",
    "        fig.marks = []\n",
    "        for line in enumerate(plot.lines):\n",
    "            y_data = npfy(x, x_data, line[1].expr)\n",
    "            line0 = bqp.Lines(x=x_data, y=y_data, scales={'x': x_sc, 'y': y_sc}, colors=[color_array[line[0] % len(color_array)]])\n",
    "            fig.marks = fig.marks + [line0]\n",
    "        fig.axes = [ax_x, ax_y]\n",
    "        if plot.x_grid:\n",
    "            ax_x.grid_lines = 'solid'\n",
    "        if plot.y_grid:\n",
    "            ax_y.grid_lines = 'solid'\n",
    "        fig.title = plot.title_label\n"
   ]
  },
  {
   "cell_type": "markdown",
   "metadata": {
    "extensions": {
     "jupyter_dashboards": {
      "version": 1,
      "views": {
       "grid_default": {
        "col": 8,
        "height": 4,
        "hidden": true,
        "row": 16,
        "width": 4
       },
       "report_default": {}
      }
     }
    }
   },
   "source": [
    "<a name=\"IntElem\"></a>\n",
    "# Interactive Elements \n",
    "[Overview](#Overview)"
   ]
  },
  {
   "cell_type": "markdown",
   "metadata": {},
   "source": [
    "<a name=\"IntElemCalc\"></a>\n",
    "## Calculation \n",
    "[Overview](#Overview)"
   ]
  },
  {
   "cell_type": "code",
   "execution_count": 7,
   "metadata": {
    "extensions": {
     "jupyter_dashboards": {
      "version": 1,
      "views": {
       "grid_default": {
        "hidden": true
       },
       "report_default": {
        "hidden": true
       }
      }
     }
    }
   },
   "outputs": [],
   "source": [
    "# interactive calculation elements\n",
    "\n",
    "#text elements\n",
    "expr_input = widgets.Text(\n",
    "    value=expr_str,\n",
    "    description='Expression:',\n",
    "    disabled=False\n",
    ")\n",
    "eq_dropdown = widgets.Dropdown(\n",
    "    options=[1],\n",
    "    value=1,\n",
    "    description='Use:'\n",
    ")\n",
    "active_dropdown = widgets.Dropdown(\n",
    "    options=['fig1', 'fig2', 'fig3'],\n",
    "    value='fig1',\n",
    "    description='Use Graph:'\n",
    ")\n",
    "difint_dropdown = widgets.Dropdown(\n",
    "    options=['x', 'y', 'z', 't'],\n",
    "    value='x',\n",
    "    description='d'\n",
    ")\n",
    "ilim_max_input = widgets.Text(\n",
    "    value='oo',\n",
    "    description='Lmax:'\n",
    ")\n",
    "ilim_min_input = widgets.Text(\n",
    "    value='-oo',\n",
    "    description='Lmin:'\n",
    ")\n",
    "multdif_input = widgets.Text(\n",
    "    value='1',\n",
    "    description='Mult:'\n",
    ")\n",
    "xpoint_input = widgets.Text(\n",
    "    value='0',\n",
    "    description='Xval:'\n",
    ")\n",
    "#buttons\n",
    "send_btn = widgets.Button(\n",
    "    description='Expr',\n",
    "    tooltip='Use Equation',\n",
    "    icon='check'\n",
    ")\n",
    "simp_btn = widgets.Button(\n",
    "    description='simplify',\n",
    "    tooltip='Simplify Equation',\n",
    ")\n",
    "expand_btn = widgets.Button(\n",
    "    description='Expand',\n",
    "    tooltip='Expand Equation',\n",
    ")\n",
    "setactive_btn = widgets.Button(\n",
    "    description='Activate',\n",
    "    tooltip='Activate Equation',\n",
    ")\n",
    "plotline_btn = widgets.Button(\n",
    "    description='Plot',\n",
    "    tooltip='Plot Line',\n",
    ")\n",
    "newplot_btn = widgets.Button(\n",
    "    description='New Plot',\n",
    "    tooltip='New Plot',\n",
    ")\n",
    "dif_btn = widgets.Button(\n",
    "    description='dif',\n",
    "    tooltip='differentiate',\n",
    ")\n",
    "int_btn = widgets.Button(\n",
    "    description='int',\n",
    "    tooltip='integrate',\n",
    ")\n",
    "intlim_btn = widgets.Button(\n",
    "    description='intlim',\n",
    "    tooltip='integrate within limits',\n",
    ")\n",
    "expandseries_btn = widgets.Button(\n",
    "    description='Exp S',\n",
    "    tooltip='Expand Series Equation',\n",
    ")\n",
    "lim_btn = widgets.Button(\n",
    "    description='lim',\n",
    "    tooltip='Limit at point',\n",
    ")\n",
    "subs_btn = widgets.Button(\n",
    "    description='Substitute',\n",
    "    tooltip='Substitute picked Equation by Input',\n",
    ")\n",
    "clearfig_btn = widgets.Button(\n",
    "    description='clear',\n",
    "    tooltip='clear choosen Figure',\n",
    ")\n",
    "clearhist_btn = widgets.Button(\n",
    "    description='clear',\n",
    "    tooltip='clear History',\n",
    ")\n",
    "#output\n",
    "eq_out0 = widgets.Label(value='')\n",
    "eq_out1 = widgets.Label(value='')\n",
    "eq_out2 = widgets.Label(value='')\n",
    "\n",
    "setactive_btn.on_click(setactive)\n",
    "send_btn.on_click(readexpr)\n",
    "expand_btn.on_click(expand)\n",
    "simp_btn.on_click(simplify)\n",
    "dif_btn.on_click(derivative)\n",
    "int_btn.on_click(integrate)\n",
    "intlim_btn.on_click(integratelim)\n",
    "subs_btn.on_click(substitute)\n",
    "lim_btn.on_click(limit)\n",
    "expandseries_btn.on_click(expandseries)\n",
    "plotline_btn.on_click(plotline)\n",
    "clearfig_btn.on_click(clearfig)\n",
    "clearhist_btn.on_click(clear_history)\n",
    "active_dropdown.observe(setactivegraph, 'value')\n",
    "difint_dropdown.observe(setvardif, 'value')\n",
    "ilim_min_input.observe(setilim, 'value')\n",
    "ilim_max_input.observe(setilim, 'value')\n",
    "multdif_input.observe(setmultdif, 'value')\n",
    "xpoint_input.observe(setpoint, 'value')\n",
    "eqchoice = widgets.HBox([eq_dropdown, clearhist_btn, active_dropdown, clearfig_btn, setactive_btn, plotline_btn])\n"
   ]
  },
  {
   "cell_type": "markdown",
   "metadata": {},
   "source": [
    "<a name=\"IntElemGraph2D\"></a>\n",
    "## 2D Graphs\n",
    "[Overview](#Overview)"
   ]
  },
  {
   "cell_type": "code",
   "execution_count": 8,
   "metadata": {
    "extensions": {
     "jupyter_dashboards": {
      "version": 1,
      "views": {
       "grid_default": {
        "hidden": true
       },
       "report_default": {}
      }
     }
    }
   },
   "outputs": [],
   "source": [
    "# interactive graph elements\n",
    "title_label_input = widgets.Text(\n",
    "    value='Title',\n",
    "    description='Title:'\n",
    ")\n",
    "x_label_input = widgets.Text(\n",
    "    value='X',\n",
    "    description='X-Label:',\n",
    "    disabled=False)\n",
    "y_label_input = widgets.Text(\n",
    "    value='Y',\n",
    "    description='Y-Label:'\n",
    ")\n",
    "x_steps_input = widgets.Text(\n",
    "    value='100',\n",
    "    description='data points:'\n",
    ")\n",
    "x_min_input = widgets.Text(\n",
    "    value='-1',\n",
    "    description='x min:'\n",
    ")\n",
    "x_max_input = widgets.Text(\n",
    "    value='1',\n",
    "    description='x max:'\n",
    ")\n",
    "ltol_input = widgets.Text(\n",
    "    value='-100',\n",
    "    description='y min:'\n",
    ")\n",
    "utol_input = widgets.Text(\n",
    "    value='100',\n",
    "    description='y max:'\n",
    ")\n",
    "pi_bool_input = widgets.Checkbox(\n",
    "    value=False,\n",
    "    description='Multiples of Pi'\n",
    ")\n",
    "x_grid_input = widgets.Checkbox(\n",
    "    value=False,\n",
    "    description='X Grid'\n",
    ")\n",
    "y_grid_input = widgets.Checkbox(\n",
    "    value=False,\n",
    "    description='Y Grid'\n",
    ")\n",
    "\n",
    "title_label_input.observe(updategraph, 'value')\n",
    "x_label_input.observe(updategraph, 'value')\n",
    "y_label_input.observe(updategraph, 'value')\n",
    "x_steps_input.observe(updategraph, 'value')\n",
    "x_min_input.observe(updategraph, 'value')\n",
    "x_max_input.observe(updategraph, 'value')\n",
    "pi_bool_input.observe(updategraph, 'value')\n",
    "x_grid_input.observe(updategraph, 'value')\n",
    "y_grid_input.observe(updategraph, 'value')\n",
    "utol_input.observe(settol, 'value')\n",
    "ltol_input.observe(settol, 'value')"
   ]
  },
  {
   "cell_type": "markdown",
   "metadata": {
    "extensions": {
     "jupyter_dashboards": {
      "version": 1,
      "views": {
       "grid_default": {
        "col": 0,
        "height": 4,
        "hidden": true,
        "row": 20,
        "width": 4
       },
       "report_default": {}
      }
     }
    }
   },
   "source": [
    "<a name=\"Layout\"></a>\n",
    "# Layout\n",
    "[Overview](#Overview)"
   ]
  },
  {
   "cell_type": "code",
   "execution_count": 11,
   "metadata": {
    "extensions": {
     "jupyter_dashboards": {
      "version": 1,
      "views": {
       "grid_default": {
        "col": 0,
        "height": 3,
        "hidden": false,
        "row": 0,
        "width": 12
       },
       "report_default": {
        "hidden": false
       }
      }
     }
    },
    "scrolled": false
   },
   "outputs": [
    {
     "data": {
      "application/vnd.jupyter.widget-view+json": {
       "model_id": "d7665df13b38489c8d2dda7c5a4cc007",
       "version_major": 2,
       "version_minor": 0
      },
      "text/html": [
       "<p>Failed to display Jupyter Widget of type <code>HBox</code>.</p>\n",
       "<p>\n",
       "  If you're reading this message in the Jupyter Notebook or JupyterLab Notebook, it may mean\n",
       "  that the widgets JavaScript is still loading. If this message persists, it\n",
       "  likely means that the widgets JavaScript library is either not installed or\n",
       "  not enabled. See the <a href=\"https://ipywidgets.readthedocs.io/en/stable/user_install.html\">Jupyter\n",
       "  Widgets Documentation</a> for setup instructions.\n",
       "</p>\n",
       "<p>\n",
       "  If you're reading this message in another frontend (for example, a static\n",
       "  rendering on GitHub or <a href=\"https://nbviewer.jupyter.org/\">NBViewer</a>),\n",
       "  it may mean that your frontend doesn't currently support widgets.\n",
       "</p>\n"
      ],
      "text/plain": [
       "HBox(children=(VBox(children=(HTMLMath(value='Equations<br>', layout=Layout(min_width='700px'), placeholder='Equations'), Label(value=''), HBox(children=(Dropdown(description='Use:', options=(1,), value=1), Button(description='clear', style=ButtonStyle(), tooltip='clear History'), Dropdown(description='Use Graph:', options=('fig1', 'fig2', 'fig3'), value='fig1'), Button(description='clear', style=ButtonStyle(), tooltip='clear choosen Figure'), Button(description='Activate', style=ButtonStyle(), tooltip='Activate Equation'), Button(description='Plot', style=ButtonStyle(), tooltip='Plot Line'))), Tab(children=(VBox(children=(HBox(children=(Text(value='x', description='Expression:'), Button(description='Expr', icon='check', style=ButtonStyle(), tooltip='Use Equation'), Button(description='simplify', style=ButtonStyle(), tooltip='Simplify Equation'), Button(description='Expand', style=ButtonStyle(), tooltip='Expand Equation'))), HBox(children=(Button(description='Substitute', style=ButtonStyle(), tooltip='Substitute picked Equation by Input'), Text(value='0', description='Xval:'), Button(description='lim', style=ButtonStyle(), tooltip='Limit at point'), Button(description='Exp S', style=ButtonStyle(), tooltip='Expand Series Equation'))), VBox(children=(HBox(children=(Dropdown(description='d', options=('x', 'y', 'z', 't'), value='x'), Text(value='1', description='Mult:'), Button(description='dif', style=ButtonStyle(), tooltip='differentiate'))), HBox(children=(Text(value='-oo', description='Lmin:'), Text(value='oo', description='Lmax:'), Button(description='int', style=ButtonStyle(), tooltip='integrate'), Button(description='intlim', style=ButtonStyle(), tooltip='integrate within limits'))))))), VBox(children=(HBox(children=(Text(value='-1', description='x min:'), Text(value='1', description='x max:'), Text(value='100', description='data points:'), Text(value='X', description='X-Label:'))), HBox(children=(Text(value='Y', description='Y-Label:'), Text(value='100', description='y max:'), Text(value='-100', description='y min:'))), HBox(children=(Text(value='Title', description='Title:'), Checkbox(value=False, description='X Grid'), Checkbox(value=False, description='Y Grid')))))), _titles={'0': 'Calculation', '1': '2D Graph Settings'}))), VBox(children=(Figure(fig_margin={'top': 60, 'bottom': 60, 'left': 60, 'right': 60}, layout=Layout(min_width='125px'), scale_x=LinearScale(allow_padding=False, max=1.0, min=0.0), scale_y=LinearScale(allow_padding=False, max=1.0, min=0.0), title='Graph 1'), Toolbar(figure=Figure(fig_margin={'top': 60, 'bottom': 60, 'left': 60, 'right': 60}, layout=Layout(min_width='125px'), scale_x=LinearScale(allow_padding=False, max=1.0, min=0.0), scale_y=LinearScale(allow_padding=False, max=1.0, min=0.0), title='Graph 1')), Tab(children=(VBox(children=(Figure(fig_margin={'top': 60, 'bottom': 60, 'left': 60, 'right': 60}, layout=Layout(min_width='125px'), scale_x=LinearScale(allow_padding=False, max=1.0, min=0.0), scale_y=LinearScale(allow_padding=False, max=1.0, min=0.0), title='Graph 2'), Toolbar(figure=Figure(fig_margin={'top': 60, 'bottom': 60, 'left': 60, 'right': 60}, layout=Layout(min_width='125px'), scale_x=LinearScale(allow_padding=False, max=1.0, min=0.0), scale_y=LinearScale(allow_padding=False, max=1.0, min=0.0), title='Graph 2')), Figure(fig_margin={'top': 60, 'bottom': 60, 'left': 60, 'right': 60}, layout=Layout(min_width='125px'), scale_x=LinearScale(allow_padding=False, max=1.0, min=0.0), scale_y=LinearScale(allow_padding=False, max=1.0, min=0.0), title='Graph 3'), Toolbar(figure=Figure(fig_margin={'top': 60, 'bottom': 60, 'left': 60, 'right': 60}, layout=Layout(min_width='125px'), scale_x=LinearScale(allow_padding=False, max=1.0, min=0.0), scale_y=LinearScale(allow_padding=False, max=1.0, min=0.0), title='Graph 3')))), VBox(), VBox()), _titles={'0': '2D Graphs', '1': '3D Graph', '2': 'Vectors'})))), layout=Layout(width='100%'))"
      ]
     },
     "metadata": {},
     "output_type": "display_data"
    },
    {
     "name": "stderr",
     "output_type": "stream",
     "text": [
      "/home/pmk/anaconda3/lib/python3.6/site-packages/bqplot/traits.py:137: FutureWarning: Conversion of the second argument of issubdtype from `float` to `np.floating` is deprecated. In future, it will be treated as `np.float64 == np.dtype(float).type`.\n",
      "  if np.issubdtype(a.dtype, np.float):\n"
     ]
    }
   ],
   "source": [
    "# graphs\n",
    "fig_array = []\n",
    "for i in range(3):\n",
    "    newplot = makeplot()\n",
    "    fig_array.append(newplot)\n",
    "    \n",
    "derivative_box = widgets.HBox([difint_dropdown, multdif_input, dif_btn])\n",
    "integral_box = widgets.HBox([ilim_min_input, ilim_max_input, int_btn, intlim_btn])\n",
    "calculus_box = widgets.VBox([derivative_box, integral_box])\n",
    "sublim_box = widgets.HBox([subs_btn, xpoint_input, lim_btn, expandseries_btn])\n",
    "input_box = widgets.HBox([expr_input, send_btn, simp_btn, expand_btn])\n",
    "calculation_box = widgets.VBox([input_box, sublim_box, calculus_box])\n",
    "axes_box = widgets.VBox([widgets.HBox([x_min_input, x_max_input, x_steps_input, x_label_input]),\\\n",
    "                         widgets.HBox([y_label_input, utol_input, ltol_input]), widgets.HBox([title_label_input, x_grid_input, y_grid_input])])\n",
    "input_tab = widgets.Tab([calculation_box, axes_box])\n",
    "input_tab.set_title(0, 'Calculation')\n",
    "input_tab.set_title(1, '2D Graph Settings')\n",
    "left_box = widgets.VBox([history_list, eq_out0, eqchoice, input_tab])\n",
    "tb1 = bqp.Toolbar(figure=fig1)\n",
    "tb2 = bqp.Toolbar(figure=fig2)\n",
    "tb3 = bqp.Toolbar(figure=fig3)\n",
    "fig_vbox = widgets.VBox([fig2, tb2, fig3, tb3])\n",
    "fig3d_vbox = widgets.VBox([])\n",
    "vector_vbox = widgets.VBox([])\n",
    "viz_tab = widgets.Tab([fig_vbox, fig3d_vbox, vector_vbox])\n",
    "viz_tab.set_title(0, '2D Graphs')\n",
    "viz_tab.set_title(1, '3D Graph')\n",
    "viz_tab.set_title(2, 'Vectors')\n",
    "viz_vbox = widgets.VBox([fig1, tb1, viz_tab])\n",
    "gui = widgets.HBox(layout= widgets.Layout(width='100%'))\n",
    "gui.children=[left_box, viz_vbox]\n",
    "gui"
   ]
  },
  {
   "cell_type": "code",
   "execution_count": null,
   "metadata": {
    "collapsed": true,
    "extensions": {
     "jupyter_dashboards": {
      "version": 1,
      "views": {
       "grid_default": {
        "col": 8,
        "height": 4,
        "hidden": true,
        "row": 0,
        "width": 4
       },
       "report_default": {
        "hidden": false
       }
      }
     }
    },
    "scrolled": true
   },
   "outputs": [],
   "source": []
  },
  {
   "cell_type": "code",
   "execution_count": null,
   "metadata": {
    "collapsed": true,
    "extensions": {
     "jupyter_dashboards": {
      "version": 1,
      "views": {
       "grid_default": {
        "hidden": true
       },
       "report_default": {
        "hidden": true
       }
      }
     }
    }
   },
   "outputs": [],
   "source": []
  }
 ],
 "metadata": {
  "extensions": {
   "jupyter_dashboards": {
    "activeView": "grid_default",
    "version": 1,
    "views": {
     "grid_default": {
      "cellMargin": 10,
      "defaultCellHeight": 20,
      "maxColumns": 12,
      "name": "grid",
      "type": "grid"
     },
     "report_default": {
      "name": "report",
      "type": "report"
     }
    }
   }
  },
  "kernelspec": {
   "display_name": "Python 3",
   "language": "python",
   "name": "python3"
  },
  "language_info": {
   "codemirror_mode": {
    "name": "ipython",
    "version": 3
   },
   "file_extension": ".py",
   "mimetype": "text/x-python",
   "name": "python",
   "nbconvert_exporter": "python",
   "pygments_lexer": "ipython3",
   "version": "3.6.3"
  }
 },
 "nbformat": 4,
 "nbformat_minor": 2
}
