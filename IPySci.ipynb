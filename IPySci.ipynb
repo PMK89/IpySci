{
 "cells": [
  {
   "cell_type": "markdown",
   "metadata": {
    "extensions": {
     "jupyter_dashboards": {
      "version": 1,
      "views": {
       "grid_default": {
        "col": 0,
        "height": 12,
        "hidden": true,
        "row": 4,
        "width": 12
       },
       "report_default": {}
      }
     }
    }
   },
   "source": [
    " <a name=\"Overview\"></a>\n",
    "# Overview\n",
    "\n",
    "[Global Imports](#GlobImp)\n",
    "\n",
    "[Global Classes](#GlobClas)\n",
    "\n",
    "[Global Variables](#GlobVar)\n",
    "\n",
    "[Global Functions](#GlobFunc)\n",
    "\n",
    "[Mathematical Functions](#MathFunc)\n",
    "\n",
    "[- Calculus](#MathFuncCalc)\n",
    "\n",
    "[- Matrices](#MathFuncMat)\n",
    "\n",
    "[Graphical Output](#GraphOut)\n",
    "\n",
    "[Interactive Elements](#IntElem)\n",
    "\n",
    "[- Calculations](#IntElemCalc)\n",
    "\n",
    "[- Matrices](#IntElemMat)\n",
    "\n",
    "[- 2D Graph](#IntElemGraph2D)\n",
    "\n",
    "[Layout](#Layout)"
   ]
  },
  {
   "cell_type": "markdown",
   "metadata": {
    "extensions": {
     "jupyter_dashboards": {
      "version": 1,
      "views": {
       "grid_default": {
        "col": 0,
        "height": 4,
        "hidden": true,
        "row": 0,
        "width": 4
       },
       "report_default": {}
      }
     }
    }
   },
   "source": [
    "<a name=\"GlobImp\"></a>\n",
    "# Global Imports"
   ]
  },
  {
   "cell_type": "code",
   "execution_count": 1,
   "metadata": {
    "extensions": {
     "jupyter_dashboards": {
      "version": 1,
      "views": {
       "grid_default": {
        "hidden": true
       },
       "report_default": {
        "hidden": true
       }
      }
     }
    }
   },
   "outputs": [
    {
     "data": {
      "text/html": [
       "<style>.container { width:100% !important; }.widget-htmlmath-content {width:700px !important;} </style>"
      ],
      "text/plain": [
       "<IPython.core.display.HTML object>"
      ]
     },
     "metadata": {},
     "output_type": "display_data"
    }
   ],
   "source": [
    "#%matplotlib inline\n",
    "import os, sys, time, math\n",
    "import numpy as np\n",
    "import sympy as sp\n",
    "import matplotlib.pyplot as plt\n",
    "import ipywidgets as widgets\n",
    "from bqplot import pyplot as bqp\n",
    "from bqplot.interacts import panzoom\n",
    "from IPython.core.display import display, HTML, clear_output\n",
    "display(HTML(\"<style>.container { width:100% !important; }.widget-htmlmath-content {width:700px !important;} </style>\"))\n",
    "plt.style.use('ggplot')\n",
    "sp.init_printing()"
   ]
  },
  {
   "cell_type": "markdown",
   "metadata": {
    "extensions": {
     "jupyter_dashboards": {
      "version": 1,
      "views": {
       "grid_default": {
        "col": 4,
        "height": 4,
        "hidden": true,
        "row": 16,
        "width": 4
       },
       "report_default": {}
      }
     }
    }
   },
   "source": [
    " <a name=\"GlobClas\"></a>\n",
    "# Global Classes \n",
    "[Overview](#Overview)"
   ]
  },
  {
   "cell_type": "code",
   "execution_count": 2,
   "metadata": {
    "collapsed": true,
    "extensions": {
     "jupyter_dashboards": {
      "version": 1,
      "views": {
       "grid_default": {
        "hidden": true
       },
       "report_default": {}
      }
     }
    }
   },
   "outputs": [],
   "source": [
    "# graphing classes\n",
    "\n",
    "# line class\n",
    "class is_line:\n",
    "    def __init__(self, x_data, y_data, expr, x_sc, y_sc):\n",
    "        self.x_data = x_data\n",
    "        self.y_data = y_data\n",
    "        self.x_sc = x_sc\n",
    "        self.y_sc = y_sc\n",
    "        self.expr = expr\n",
    "            \n",
    "# graph class\n",
    "class is_graph:\n",
    "    active = False\n",
    "    position = 3\n",
    "    x_min=-1\n",
    "    x_max=1\n",
    "    x_log=False\n",
    "    y_log=False\n",
    "    y_grid=False\n",
    "    x_grid=False\n",
    "    pi_bool=False\n",
    "    axes0=False\n",
    "    x_steps = 100\n",
    "    def __init__(self, x_label='X', y_label='Y', title_label='Title', pi_bool=pi_bool,\\\n",
    "                 x_min=x_min, x_max=x_max, x_log=x_log, y_log=y_log, x_steps=x_steps,\\\n",
    "                 x_grid=x_grid, y_grid=y_grid, axes0=axes0):\n",
    "        self.x_label = x_label\n",
    "        self.y_label = y_label        \n",
    "        self.title_label = title_label\n",
    "        self.x_min = x_min\n",
    "        self.x_max = x_max\n",
    "        self.x_log = x_log\n",
    "        self.y_log = y_log\n",
    "        self.x_grid = x_grid\n",
    "        self.y_grid = y_grid\n",
    "        self.pi_bool = pi_bool\n",
    "        self.axes0 = axes0\n",
    "        selfx_steps = x_steps\n",
    "        self.lines = []\n",
    "        \n",
    "    def addline(self, x_data, y_data, expr, x_sc, y_sc):\n",
    "        self.lines.append(is_line(x_data, y_data))"
   ]
  },
  {
   "cell_type": "markdown",
   "metadata": {
    "extensions": {
     "jupyter_dashboards": {
      "version": 1,
      "views": {
       "grid_default": {
        "col": 8,
        "height": 4,
        "hidden": true,
        "row": 16,
        "width": 4
       },
       "report_default": {}
      }
     }
    }
   },
   "source": [
    "<a name=\"GlobVar\"></a>\n",
    "# Global Variables\n",
    "[Overview](#Overview)"
   ]
  },
  {
   "cell_type": "code",
   "execution_count": 3,
   "metadata": {
    "collapsed": true,
    "extensions": {
     "jupyter_dashboards": {
      "version": 1,
      "views": {
       "grid_default": {
        "col": 7,
        "height": 4,
        "hidden": true,
        "row": 0,
        "width": 4
       },
       "report_default": {}
      }
     }
    }
   },
   "outputs": [],
   "source": [
    "#global variables\n",
    "x, y, z, t = sp.symbols('x y z t')\n",
    "xr, yr, zr = sp.symbols('xr yr zr', real=True)\n",
    "xp, yp, zp = sp.symbols('xp yp zp', positive=True, nonzero=True)\n",
    "f = sp.symbols('f', cls=sp.Function) \n",
    "ilim_max = sp.oo\n",
    "ilim_min = -sp.oo\n",
    "vardif = x\n",
    "multdif = 1\n",
    "xpoint = 0\n",
    "utol = 100\n",
    "ltol = -100\n",
    "\n",
    "expr = x\n",
    "expr_str = str(expr)\n",
    "expr_array = []\n",
    "subexpr = x\n",
    "\n",
    "x_0 = x\n",
    "x_1 = y\n",
    "n_0 = 0\n",
    "n_1 = 0\n",
    "\n",
    "expr_0 = x\n",
    "expr_1 = x\n",
    "expr_2 = x\n",
    "activeexpr = 0\n",
    "activeexprlist = []\n",
    "\n",
    "color_array = ['#0033cc', '#ff3300', '#33cc33', '#00ffcc', '#ff66cc', '#ff6600']\n",
    "matrixinput = []\n",
    "history_list = widgets.HTMLMath(\n",
    "    value=r'Equations<br>',\n",
    "    placeholder='Equations',\n",
    "    layout = widgets.Layout(flex_wrap='nowrap', min_width='700px', max_height='450px', overflow_y='scroll'),\n",
    ")\n",
    "plot_array = []\n",
    "fig1 = bqp.Figure(title='Graph 1')\n",
    "fig2 = bqp.Figure(title='Graph 2')\n",
    "fig3 = bqp.Figure(title='Graph 3')\n",
    "\n",
    "outputfig = widgets.Output()\n",
    "\n",
    "active_plot = 'fig1'\n",
    "default_graph_settings = False"
   ]
  },
  {
   "cell_type": "markdown",
   "metadata": {
    "collapsed": true,
    "extensions": {
     "jupyter_dashboards": {
      "version": 1,
      "views": {
       "grid_default": {
        "col": 0,
        "height": 4,
        "hidden": true,
        "row": 20,
        "width": 4
       },
       "report_default": {}
      }
     }
    }
   },
   "source": [
    "<a name=\"GlobFunc\"></a>\n",
    "# Global Functions \n",
    "[Overview](#Overview)"
   ]
  },
  {
   "cell_type": "code",
   "execution_count": 4,
   "metadata": {
    "collapsed": true,
    "extensions": {
     "jupyter_dashboards": {
      "version": 1,
      "views": {
       "grid_default": {
        "hidden": true
       },
       "report_default": {
        "hidden": true
       }
      }
     }
    }
   },
   "outputs": [],
   "source": [
    "# makes a numerical computation of sympy equation\n",
    "def npfy(x_, x_data, expr_):\n",
    "    try:\n",
    "        f = sp.lambdify(x_, expr_, 'numpy')\n",
    "        y_data = f(x_data)\n",
    "        y_data[y_data>utol] = np.inf\n",
    "        y_data[y_data<ltol] = -np.inf\n",
    "        return y_data\n",
    "    except:\n",
    "        f = sp.lambdify(x, x, 'numpy')\n",
    "        y_data = f(x_data)\n",
    "        return y_data\n",
    "        \n",
    "# changes variable for differentiation and integration\n",
    "def set_vardif(self):\n",
    "    global vardif\n",
    "    try:\n",
    "        vardif0 = sp.sympify(difint_input.value)\n",
    "        vardif = vardif0\n",
    "    except:\n",
    "        error_out.value = 'Invalid value: ' + difint_input.value\n",
    "\n",
    "# changes multiplicity variable for differentiation and integration\n",
    "def setmultdif(self):\n",
    "    global multdif\n",
    "    try:\n",
    "        multdif = int(multdif_input.value)\n",
    "        if multdif <= 0:\n",
    "            multdif = 1\n",
    "            error_out.value = 'Positive integer nedded, got: ' + multdif_input.value\n",
    "    except:\n",
    "        multdif = 1\n",
    "        error_out.value = 'Positive integer nedded, got: ' + multdif_input.value\n",
    "\n",
    "# convert input to numerical values or sympy\n",
    "def convertinput(input):\n",
    "    try:\n",
    "        if input.find('.') != -1:\n",
    "            output = float(input)\n",
    "        elif input.find(',') != -1:            \n",
    "            output = float(input.replace(',', '.'))\n",
    "        else:\n",
    "            output = int(input)\n",
    "        return output\n",
    "    except:\n",
    "        try:\n",
    "            return sp.simpify(input)\n",
    "        except:\n",
    "            error_out.value = 'No valid input: ' + str(input)\n",
    "            return False\n",
    "\n",
    "# changes limits for integration\n",
    "def setilim(self):\n",
    "    global ilim_min\n",
    "    global ilim_max\n",
    "    ilim_min0 = convertinput(ilim_min_input.value)\n",
    "    if ilim_min0:\n",
    "        ilim_min = ilim_min0\n",
    "    ilim_max0 = convertinput(ilim_max_input.value)\n",
    "    if ilim_max0:\n",
    "        ilim_max = ilim_max0\n",
    "\n",
    "# changes tolerance limits for plotting\n",
    "def settol(self):\n",
    "    global ltol\n",
    "    global utol\n",
    "    ltol0 = convertinput(ltol_input.value)\n",
    "    if ltol0:\n",
    "        if ltol0 == -sp.oo:\n",
    "            ltol = -np.inf\n",
    "        else:\n",
    "            ltol = ltol0\n",
    "    utol0 = convertinput(utol_input.value)\n",
    "    if utol0:\n",
    "        if utol0 == sp.oo:\n",
    "            utol = np.inf\n",
    "        else:\n",
    "            utol = utol0    \n",
    "\n",
    "# set a point for expansion or limit\n",
    "def setpoint(self):\n",
    "    global xpoint\n",
    "    xpoint0 = convertinput(xpoint_input.value)\n",
    "    if xpoint0:\n",
    "        xpoint = xpoint0\n",
    "\n",
    "# adds the equation to history list\n",
    "def add_history():\n",
    "    global history_list\n",
    "    history_list.value += str(len(expr_array)) + ' \\(' + sp.latex(expr_array[-1]) + '\\)' '<br>'\n",
    "    eq_dropdown.options = [i + 1 for i, item in enumerate(expr_array)]\n",
    "    return history_list\n",
    "\n",
    "# outputs LaTeX string\n",
    "def output_latex(self):\n",
    "    latex_out.value = str(sp.latex(expr))\n",
    "\n",
    "# saves history as latex to textfile\n",
    "def save_history(self):\n",
    "    global expr_array\n",
    "    fname = time.strftime('%Y_%m_%d_%H_%M_%S', time.gmtime())\n",
    "    path = 'output/equations_' + fname + '.txt'\n",
    "    op = open(path, 'w')\n",
    "    histstr = 'Equations\\n\\n'\n",
    "    for i, hexpr in enumerate(expr_array):\n",
    "        histstr += 'Eq ' + str(i + 1) + '\\t' + sp.latex(hexpr) + '\\n'\n",
    "    history_list.value += str(len(expr_array)) + ' \\(' + sp.latex(expr_array[-1]) + '\\)' '<br>'\n",
    "    eq_dropdown.options = [i + 1 for i, item in enumerate(expr_array)]\n",
    "    op.write(histstr)\n",
    "    return history_list\n",
    "\n",
    "# clears the equations history\n",
    "def clear_history(self):\n",
    "    global history_list\n",
    "    global expr_array\n",
    "    history_list.value = r'Equations<br>'\n",
    "    expr_array = []\n",
    "    eq_dropdown.options = [0]\n",
    "\n",
    "# sets choosen expresion active\n",
    "def setactivegraph(self):\n",
    "    global active_plot\n",
    "    active_plot = active_dropdown.value\n",
    "    if active_plot is 'fig1':\n",
    "        plot = fig_array[0]\n",
    "    elif active_plot is 'fig2':\n",
    "        plot = fig_array[1]\n",
    "    elif active_plot is 'fig3':\n",
    "        plot = fig_array[2]\n",
    "    if plot:\n",
    "        global pi_bool_input\n",
    "        global title_label_input\n",
    "        global x_label_input\n",
    "        global y_label_input\n",
    "        global x_steps_input\n",
    "        global x_min_input\n",
    "        global x_max_input\n",
    "        pi_bool_input.value = plot.pi_bool\n",
    "        x_grid_input.value = plot.x_grid\n",
    "        y_grid_input.value = plot.y_grid\n",
    "        axes0_input.value = plot.axes0\n",
    "        title_label_input.value = plot.title_label\n",
    "        x_label_input.value = plot.x_label\n",
    "        y_label_input.value = plot.y_label\n",
    "        x_steps_input.value = str(plot.x_steps)\n",
    "        x_min_input.value = str(plot.x_min)\n",
    "        x_max_input.value = str(plot.x_max)\n",
    "\n",
    "#sets choosen expresion active\n",
    "def setactiveexpr():\n",
    "    global activeexprlist\n",
    "    global expr_str\n",
    "    global expr\n",
    "    for i, activeexpr0 in enumerate(activeexprlist):\n",
    "        if i is activeexpr:\n",
    "            activeexprlist[activeexpr][2].layout = widgets.Layout(border='1px solid #666666')\n",
    "        else:\n",
    "            activeexprlist[i][2].layout = widgets.Layout(border='1px dashed #999999')\n",
    "    expr = activeexprlist[activeexpr][0]\n",
    "    expr_str = str(expr)\n",
    "    expr_input.value = expr_str\n",
    "    \n",
    "#sets up choosen expresion for substitution\n",
    "def setsubexpr(num):\n",
    "    global activeexprlist\n",
    "    global expr\n",
    "    expr = activeexprlist[num][0]\n",
    "    for i, activeexpr in enumerate(activeexprlist):\n",
    "        if i is num:\n",
    "            activeexprlist[num][2].layout = widgets.Layout(border='1px dashed #666666')\n",
    "        elif i is not activeexpr:\n",
    "            activeexprlist[i][2].layout = widgets.Layout(border='1px dashed #999999')\n",
    "\n",
    "#activates expressions\n",
    "def activeexpr0(self):\n",
    "    global activeexpr\n",
    "    activeexpr = 0\n",
    "    setactiveexpr()\n",
    "def activeexpr1(self):\n",
    "    global activeexpr\n",
    "    activeexpr = 1\n",
    "    setactiveexpr()\n",
    "def activeexpr2(self):\n",
    "    global activeexpr\n",
    "    activeexpr = 2\n",
    "    setactiveexpr()\n",
    "\n",
    "#activates expressions for substitution\n",
    "def subexpr0(self):\n",
    "    setsubexpr(0)\n",
    "def subexpr1(self):\n",
    "    setsubexpr(1)\n",
    "def subexpr2(self):\n",
    "    setsubexpr(2)\n",
    "    \n",
    "#sets choosen expresion active\n",
    "def setactive(self):\n",
    "    global expr\n",
    "    global expr_str\n",
    "    pos = int(eq_dropdown.value) - 1\n",
    "    if pos >= 0:\n",
    "        expr = expr_array[pos]\n",
    "        expr_str = str(expr)\n",
    "        expr_input.value = expr_str\n",
    "\n",
    "#sets choosen expresion active\n",
    "def setnx(self):\n",
    "    global x_0\n",
    "    global n_0\n",
    "    global x_1\n",
    "    global n_1\n",
    "    x_0_0 = convertinput(x0_input.value)\n",
    "    if x_0_0:\n",
    "        x_0 = x_0_0\n",
    "    x_1_0 = convertinput(x1_input.value)\n",
    "    if x_1_0:\n",
    "        x_1 = x_1_0\n",
    "    n_0_0 = convertinput(n0_input.value)\n",
    "    if n_0_0:\n",
    "        n_0 = n_0_0\n",
    "    n_1_0 = convertinput(n1_input.value)\n",
    "    if n_1_0:\n",
    "        n_1 = n_1_0\n",
    "        \n",
    "#appends expression array and updates output\n",
    "def expr_array_append(expr0):\n",
    "    global expr_array\n",
    "    global expr\n",
    "    if len(expr_array) > 0:\n",
    "        if expr_array[-1] is not expr0:\n",
    "            expr = expr0\n",
    "            expr_str = str(expr)\n",
    "            expr_array.append(expr0)            \n",
    "            activeexprlist[activeexpr][0] = expr\n",
    "            activeexprlist[activeexpr][1].value = r'\\(' + sp.latex(expr) + '\\)'\n",
    "            add_history()\n",
    "    else:\n",
    "        expr = expr0\n",
    "        expr_str = str(expr)\n",
    "        expr_array.append(expr)\n",
    "        activeexprlist[activeexpr][0] = expr\n",
    "        activeexprlist[activeexpr][1].value = r'\\(' + sp.latex(expr) + '\\)'\n",
    "        add_history()\n",
    "\n",
    "#reads and validates user input\n",
    "def addexpr(change):\n",
    "    global expr_str\n",
    "    global expr\n",
    "    if expr_input.value is not '' and expr_input.value is not None:        \n",
    "        try:\n",
    "            addexpr = sp.sympify(expr_input.value)\n",
    "            expr = expr + addexpr\n",
    "            expr_array_append(expr)\n",
    "            return expr\n",
    "        except:\n",
    "            error_out.value = r'Invalid Expression!'\n",
    "            return 'Invalid Expression!'    \n",
    "\n",
    "#reads and validates user input\n",
    "def readexpr(change):\n",
    "    global expr_str\n",
    "    global expr\n",
    "    global expr_array\n",
    "    if expr_input.value is not '' and expr_input.value is not None:        \n",
    "        try:\n",
    "            expr = sp.sympify(expr_input.value)\n",
    "            expr_array_append(expr)\n",
    "            return expr\n",
    "        except:\n",
    "            error_out.value = r'Invalid Expression!'\n",
    "            return 'Invalid Expression!'\n",
    "        \n",
    "#reads and validates user input\n",
    "def readmatrix():\n",
    "    global matrixinput\n",
    "    global expr_array\n",
    "    mmax = 0\n",
    "    nmax = 0\n",
    "    mlist = []\n",
    "    spok = True\n",
    "    for m, m_row in enumerate(matrixinput):\n",
    "        nlist = [] \n",
    "        hascell = False\n",
    "        for n, m_cell in enumerate(m_row):\n",
    "            if m_cell.value is not '' and m_cell.value is not None:\n",
    "                spcell = convertinput(m_cell.value)\n",
    "                if spcell:\n",
    "                    nlist.append(spcell)\n",
    "                    hascell = True\n",
    "                else:\n",
    "                    spok = False\n",
    "                if (n + 1) > nmax:\n",
    "                    nmax = n + 1\n",
    "            else:\n",
    "                nlist.append(0)\n",
    "        if hascell:\n",
    "            mmax = m + 1\n",
    "        mlist.append(nlist)\n",
    "    if spok:\n",
    "        mlist = mlist[:mmax]\n",
    "        for i in range(mmax):\n",
    "            mlist[i] = mlist[i][:nmax]\n",
    "        spmatrix = sp.Matrix(mlist)\n",
    "        return spmatrix\n",
    "    else:\n",
    "        return False"
   ]
  },
  {
   "cell_type": "markdown",
   "metadata": {
    "extensions": {
     "jupyter_dashboards": {
      "version": 1,
      "views": {
       "grid_default": {
        "col": 0,
        "height": 4,
        "hidden": true,
        "row": 0,
        "width": 4
       },
       "report_default": {}
      }
     }
    }
   },
   "source": [
    "<a name=\"MathFunc\"></a>\n",
    "# Mathematical Functions \n",
    "[Overview](#Overview)"
   ]
  },
  {
   "cell_type": "code",
   "execution_count": 5,
   "metadata": {
    "collapsed": true,
    "extensions": {
     "jupyter_dashboards": {
      "version": 1,
      "views": {
       "grid_default": {
        "hidden": true
       },
       "report_default": {}
      }
     }
    }
   },
   "outputs": [],
   "source": [
    "# simplify equation\n",
    "def simplify(self):\n",
    "    sexpr = sp.simplify(expr)\n",
    "    expr_array_append(sexpr)\n",
    "    \n",
    "# obtain the expression’s numeric value\n",
    "def numval(self):\n",
    "    nexpr = expr.n()\n",
    "    expr_array_append(nexpr)\n",
    "\n",
    "# solve equation\n",
    "def solve(self):\n",
    "    slexpr = sp.solve(expr, vardif)\n",
    "    expr_array_append(slexpr)\n",
    "    \n",
    "# collect equation\n",
    "def collect(self):\n",
    "    colexpr = sp.collect(expr, vardif)\n",
    "    expr_array_append(colexpr)\n",
    "    \n",
    "# factor equation\n",
    "def factor(self):\n",
    "    facexpr = sp.factor(expr)\n",
    "    expr_array_append(facexpr)\n",
    "    \n",
    "# gets sum of an equation\n",
    "def summation(self):\n",
    "    sumeq = sp.summation(expr, [vardif, n_0, n_1])\n",
    "    expr_array_append(sumeq)\n",
    "\n",
    "# gets sum of an equation\n",
    "def product(self):\n",
    "    prodeq = sp.product(expr, [vardif, n_0, n_1])\n",
    "    expr_array_append(prodeq)\n",
    "    \n",
    "# expands equation\n",
    "def expand(self):\n",
    "    eexpr = sp.expand(expr)\n",
    "    expr_array_append(eexpr)\n",
    "    \n",
    "# expands complex equation\n",
    "def expandcomp(self):\n",
    "    eexpr = expr.expand(complex=True)\n",
    "    expr_array_append(eexpr)\n",
    "    \n",
    "# rewrite complex equation\n",
    "def rewritecomp(self):\n",
    "    rexpr = expr.rewrite(sp.exp)\n",
    "    expr_array_append(rexpr)\n",
    "    \n",
    "# get real part of expression \n",
    "def getre(self):\n",
    "    reexpr = re(expr)\n",
    "    expr_array_append(reexpr)\n",
    "    \n",
    "# get imaginary part of expression \n",
    "def getim(self):\n",
    "    imexpr = im(expr)\n",
    "    expr_array_append(imexpr)\n",
    "\n",
    "# substitute a variable\n",
    "def substitute(self):\n",
    "    subexpr = sp.sympify(expr_input.value)\n",
    "    exprsub = expr.subs(vardif, subexpr)\n",
    "    expr_array_append(exprsub)\n",
    "\n",
    "# substitute variables x_0 and x_1 by numeric value n_0 and n_1\n",
    "def substitutexy(self):\n",
    "    exprsub = expr.subs({x_0: n_0, x_1: n_1})\n",
    "    expr_array_append(exprsub)\n"
   ]
  },
  {
   "cell_type": "markdown",
   "metadata": {
    "extensions": {
     "jupyter_dashboards": {
      "version": 1,
      "views": {
       "grid_default": {
        "col": 4,
        "height": 4,
        "hidden": true,
        "row": 0,
        "width": 4
       },
       "report_default": {}
      }
     }
    }
   },
   "source": [
    "<a name=\"MathFuncCalc\"></a>\n",
    "## Calculus\n",
    "[Overview](#Overview)"
   ]
  },
  {
   "cell_type": "code",
   "execution_count": 6,
   "metadata": {
    "collapsed": true,
    "extensions": {
     "jupyter_dashboards": {
      "version": 1,
      "views": {
       "grid_default": {
        "hidden": true
       },
       "report_default": {}
      }
     }
    }
   },
   "outputs": [],
   "source": [
    "        \n",
    "# derivatives\n",
    "def derivative(self):\n",
    "    exprdif = sp.diff(expr, vardif, multdif)\n",
    "    expr_array_append(exprdif)\n",
    "    \n",
    "# find a limit\n",
    "def limit(self):\n",
    "    limexpr0 = sp.limit(expr, vardif, xpoint)\n",
    "    expr_array_append(limexpr0)\n",
    "    limexpr = limexpr0.doit()\n",
    "    expr_array_append(limexpr)\n",
    "\n",
    "# expand series\n",
    "def expandseries(self):\n",
    "    exprexp = expr.series(vardif, xpoint, multdif)\n",
    "    expr_array_append(exprexp)\n",
    "    \n",
    "# integrals\n",
    "def integrate(self):\n",
    "    iexpr0 = sp.integrate(expr, vardif)\n",
    "    expr_array_append(iexpr0)\n",
    "    iexpr = iexpr0.doit()\n",
    "    expr_array_append(iexpr)\n",
    "    \n",
    "def integratelim(self):\n",
    "    iexpr0 = sp.integrate(expr, (vardif, ilim_min, ilim_max))\n",
    "    expr_array_append(iexpr0)\n",
    "    iexpr = iexpr0.doit()\n",
    "    expr_array_append(iexpr)"
   ]
  },
  {
   "cell_type": "markdown",
   "metadata": {
    "extensions": {
     "jupyter_dashboards": {
      "version": 1,
      "views": {
       "grid_default": {
        "col": 0,
        "height": 4,
        "hidden": true,
        "row": 0,
        "width": 4
       },
       "report_default": {
        "hidden": false
       }
      }
     }
    }
   },
   "source": [
    "<a name=\"MathFuncMat\"></a>\n",
    "## Matrices\n",
    "[Overview](#Overview)"
   ]
  },
  {
   "cell_type": "code",
   "execution_count": 7,
   "metadata": {
    "collapsed": true,
    "extensions": {
     "jupyter_dashboards": {
      "version": 1,
      "views": {
       "grid_default": {
        "hidden": true
       },
       "report_default": {}
      }
     }
    }
   },
   "outputs": [],
   "source": [
    "# transpose of matrix\n",
    "def matrixtrans(self):\n",
    "    matrix = expr.T\n",
    "    if matrix:\n",
    "        expr_array_append(matrix)\n",
    "\n",
    "# norm matrix\n",
    "def matrixnorm(self):\n",
    "    try:\n",
    "        matrix = expr.norm()\n",
    "        if matrix:\n",
    "            expr_array_append(matrix)\n",
    "    except:\n",
    "        error_out.value = 'Matrix can not be normalized!'        \n",
    "\n",
    "# determinant matrix\n",
    "def matrixdet(self):\n",
    "    try:\n",
    "        matrix = expr.det()\n",
    "        if matrix:\n",
    "            expr_array_append(matrix)\n",
    "    except:\n",
    "        error_out.value = 'No Determinant for Matrix!'\n",
    "\n",
    "# invert matrix\n",
    "def matrixinv(self):\n",
    "    try:\n",
    "        matrix = expr.inv()\n",
    "        if matrix:\n",
    "            expr_array_append(matrix)\n",
    "    except:\n",
    "        error_out.value = 'Matrix can not be inverted!'\n",
    "\n",
    "        # dot product\n",
    "def dotproduct(self):    \n",
    "    try:\n",
    "        matrix = readmatrix()\n",
    "        if matrix:\n",
    "            dotprod = expr.dot(matrix)\n",
    "            expr_array_append(dotprod)\n",
    "    except:\n",
    "        error_out.value = 'Dot product can not be formed!'        \n",
    "\n",
    "# cross product\n",
    "def crossproduct(self):    \n",
    "    try:\n",
    "        matrix = readmatrix()\n",
    "        if matrix:\n",
    "            crossprod = expr.cross(matrix)\n",
    "            expr_array_append(crossprod)\n",
    "    except:\n",
    "        error_out.value = 'Cross product can not be formed!'             \n",
    "\n",
    "# get eigenvectors of expression\n",
    "def eigenvectors(self):    \n",
    "    try:\n",
    "        matrix = expr.eigenvects()\n",
    "        if matrix:\n",
    "            expr_array_append(matrix)\n",
    "    except:\n",
    "        error_out.value = 'No Eigenvectors can be found!'        \n",
    "\n",
    "# get eigenvalues of expression\n",
    "def eigenvalues(self):    \n",
    "    try:\n",
    "        matrix = expr.eigenvals()\n",
    "        if matrix:\n",
    "            expr_array_append(matrix)\n",
    "    except:\n",
    "        error_out.value = 'No Eigenvalues can be found!'\n",
    "\n",
    "# diagonalize expression\n",
    "def diagonalize(self):    \n",
    "    try:\n",
    "        Q, L = expr.diagonalize()\n",
    "        if L:\n",
    "            expr_array_append(L)\n",
    "    except:\n",
    "        error_out.value = 'Matrix can not be diagonalized!'\n",
    "\n",
    "# reads matrix and adds it to expression\n",
    "def matrixadd(self):\n",
    "    try:\n",
    "        matrix = readmatrix()\n",
    "        if matrix:\n",
    "            mexpr = expr + matrix\n",
    "            expr_array_append(mexpr)\n",
    "    except:\n",
    "        error_out.value = 'Matrix can not be be added'\n",
    "        \n",
    "# reads matrix and makes it expression\n",
    "def matrixexpr(self):\n",
    "    matrix = readmatrix()\n",
    "    if matrix:\n",
    "        expr_array_append(matrix)\n",
    "        \n",
    "# reads matrix and substitutes vardif by it\n",
    "def matrixsub(self):\n",
    "    matrix = readmatrix()\n",
    "    if matrix:\n",
    "        exprsub = expr.subs(vardif, matrix)\n",
    "        expr_array_append(exprsub)"
   ]
  },
  {
   "cell_type": "code",
   "execution_count": null,
   "metadata": {
    "collapsed": true,
    "extensions": {
     "jupyter_dashboards": {
      "version": 1,
      "views": {
       "grid_default": {
        "hidden": true
       },
       "report_default": {
        "hidden": true
       }
      }
     }
    }
   },
   "outputs": [],
   "source": [
    "  "
   ]
  },
  {
   "cell_type": "markdown",
   "metadata": {
    "extensions": {
     "jupyter_dashboards": {
      "version": 1,
      "views": {
       "grid_default": {
        "col": 4,
        "height": 4,
        "hidden": true,
        "row": 16,
        "width": 4
       },
       "report_default": {}
      }
     }
    }
   },
   "source": [
    "<a name=\"GraphOut\"></a>\n",
    "# Graphical Output\n",
    "[Overview](#Overview)"
   ]
  },
  {
   "cell_type": "code",
   "execution_count": 8,
   "metadata": {
    "extensions": {
     "jupyter_dashboards": {
      "version": 1,
      "views": {
       "grid_default": {
        "hidden": true
       },
       "report_default": {}
      }
     }
    }
   },
   "outputs": [],
   "source": [
    "# adds a line to a given plot\n",
    "def addline(fig, plot, expr0):\n",
    "    if plot.x_log:\n",
    "        x_data = np.geomspace(plot.x_min, plot.x_max, plot.x_steps)\n",
    "    else:\n",
    "        x_data =  np.linspace(plot.x_min, plot.x_max, plot.x_steps)\n",
    "    y_data = npfy(vardif, x_data, expr0)\n",
    "    x_sc = bqp.LinearScale(min=plot.x_min, max=plot.x_max)\n",
    "    y_sc = bqp.LinearScale()\n",
    "    newline = is_line(x_data, y_data, expr0, x_sc, y_sc)\n",
    "    line0 = bqp.Lines(x=x_data, y=y_data, scales={'x': x_sc, 'y': y_sc})\n",
    "    plot.lines.append(newline)\n",
    "    fig.marks = fig.marks + [line0]\n",
    "    return fig, plot\n",
    "\n",
    "# make a new plot\n",
    "def makeplot():\n",
    "    if default_graph_settings:\n",
    "        dgs = default_graph_settings\n",
    "        newplot0 = is_graph(dgs.x_label, dgs.y_label, dgs.title_label, \\\n",
    "                 dgs.x_min, dgs.x_max, dgs.x_log, dgs.y_log, dgs.x_steps)\n",
    "    else:\n",
    "        newplot0 = is_graph()\n",
    "    return newplot0\n",
    "\n",
    "# get figure and plot\n",
    "def setplot(plot0):\n",
    "    global fig_array\n",
    "    if active_plot is 'fig1':\n",
    "        fig_array[0] = plot0\n",
    "    elif active_plot is 'fig2':\n",
    "        fig_array[1] = plot0\n",
    "    elif active_plot is 'fig3':\n",
    "        fig_array[3] = plot0\n",
    "\n",
    "# get figure and plot\n",
    "def getfigplot():\n",
    "    global fig_array\n",
    "    if active_plot is 'fig1':\n",
    "        global fig1\n",
    "        fig = fig1\n",
    "        plot = fig_array[0]\n",
    "    elif active_plot is 'fig2':\n",
    "        global fig2\n",
    "        fig = fig2\n",
    "        plot = fig_array[1]\n",
    "    elif active_plot is 'fig3':\n",
    "        global fig3\n",
    "        fig = fig3\n",
    "        plot = fig_array[2]\n",
    "    return fig, plot\n",
    "\n",
    "# inserts a new line into the plot\n",
    "def plotline(self):\n",
    "    fig, plot = getfigplot()\n",
    "    if plot:\n",
    "        fig, plot = addline(fig, plot, expr)\n",
    "        setplot(plot)\n",
    "        updategraph('value')\n",
    "    else:\n",
    "        print(active_plot, pos)\n",
    "\n",
    "# saves figure\n",
    "def savefig(self):\n",
    "    fig, plot = getfigplot()\n",
    "    fig.save_png()\n",
    "\n",
    "# clears all figures from plot\n",
    "def clearfig(self):\n",
    "    fig, plot = getfigplot()\n",
    "    pos = eq_dropdown.value - 1\n",
    "    fig.marks = []\n",
    "    plot.lines = []\n",
    "    updategraph('value')\n",
    "\n",
    "# makes mathplotlib figure for saving\n",
    "def mplgraph(self):\n",
    "    global outputfig\n",
    "    fig, plot0 = getfigplot()\n",
    "    linedata = []\n",
    "    ymin = 0\n",
    "    ymax = 0\n",
    "    if plot0.axes0:\n",
    "        plt.axhline(y=0, color='k')\n",
    "        plt.axvline(x=0, color='k')\n",
    "    if plot0.x_grid or plot0.y_grid:\n",
    "        plt.grid(True)\n",
    "    for line in plot0.lines:\n",
    "        plt.plot(line.x_data, line.y_data)\n",
    "        ymin0 = np.min(line.y_data)\n",
    "        ymax0 = np.max(line.y_data)\n",
    "        if (ymin0 < ymin or ymin is 0):\n",
    "            if float('-inf') < float(ymin0) < float('inf'):\n",
    "                ymin = ymin0\n",
    "            else:\n",
    "                ymin = ltol\n",
    "        if ymax0 > ymax:\n",
    "            if float('-inf') < float(ymax0) < float('inf'):\n",
    "                ymax = ymax0\n",
    "            else:\n",
    "                ymax = utol\n",
    "    plt.title(plot0.title_label)\n",
    "    plt.xlabel(plot0.x_label)    \n",
    "    plt.ylabel(plot0.y_label)\n",
    "    plt.axis([plot0.x_min, plot0.x_max, ymin - abs(ymin)*0.05, ymax + abs(ymax)*0.05])\n",
    "    with outputfig:\n",
    "        clear_output()\n",
    "        plt.show()\n",
    "\n",
    "# save figure\n",
    "def savemplgraph(ending):\n",
    "    global outputfig\n",
    "    fname = time.strftime('%Y_%m_%d_%H_%M_%S', time.gmtime())\n",
    "    path = 'output/graph_' + fname + ending\n",
    "    fig, plot0 = getfigplot()\n",
    "    linedata = []\n",
    "    ymin = 0\n",
    "    ymax = 0\n",
    "    if plot0.axes0:\n",
    "        plt.axhline(y=0, color='k')\n",
    "        plt.axvline(x=0, color='k')\n",
    "    if plot0.x_grid or plot0.y_grid:\n",
    "        plt.grid(True)\n",
    "    for line in plot0.lines:\n",
    "        plt.plot(line.x_data, line.y_data)\n",
    "        ymin0 = np.min(line.y_data)\n",
    "        ymax0 = np.max(line.y_data)\n",
    "        if (ymin0 < ymin or ymin is 0):\n",
    "            if float('-inf') < float(ymin0) < float('inf'):\n",
    "                ymin = ymin0\n",
    "            else:\n",
    "                ymin = ltol\n",
    "        if ymax0 > ymax:\n",
    "            if float('-inf') < float(ymax0) < float('inf'):\n",
    "                ymax = ymax0\n",
    "            else:\n",
    "                ymax = utol\n",
    "    plt.title(plot0.title_label)\n",
    "    plt.xlabel(plot0.x_label)\n",
    "    plt.ylabel(plot0.y_label)\n",
    "    plt.axis([plot0.x_min, plot0.x_max, ymin - abs(ymin)*0.05, ymax + abs(ymax)*0.05])\n",
    "    with outputfig:\n",
    "        plt.savefig(path,  bbox_inches='tight')\n",
    "        plt.close()\n",
    "    \n",
    "#save as svg\n",
    "def savesvg(self):\n",
    "    savemplgraph('.svg')\n",
    "#save as svg\n",
    "def savepng(self):\n",
    "    savemplgraph('.png')\n",
    "\n",
    "# updates plot when changes are done\n",
    "def updategraph(change):\n",
    "    global fig_array\n",
    "    fig, plot = getfigplot()\n",
    "    if plot:\n",
    "        plot.title_label = title_label_input.value\n",
    "        plot.x_label = x_label_input.value\n",
    "        plot.y_label = y_label_input.value\n",
    "        plot.x_grid = x_grid_input.value\n",
    "        plot.y_grid = y_grid_input.value\n",
    "        plot.axes0 = axes0_input.value\n",
    "        try:\n",
    "            plot.x_steps = int(x_steps_input.value)\n",
    "        except:\n",
    "            plot.x_steps = plot.x_steps\n",
    "        try:\n",
    "            plot.x_min = float(x_min_input.value)\n",
    "        except:\n",
    "            plot.x_min = plot.x_min\n",
    "        try:\n",
    "            plot.x_max = float(x_max_input.value)\n",
    "        except:\n",
    "            plot.x_max = plot.x_max\n",
    "        if plot.x_log:\n",
    "            x_sc = bqp.LogScale(min=plot.x_min, max=plot.x_max)\n",
    "            x_data = np.geomspace(plot.x_min, plot.x_max, plot.x_steps)\n",
    "        else:\n",
    "            x_sc = bqp.LinearScale(min=plot.x_min, max=plot.x_max)\n",
    "            x_data =  np.linspace(plot.x_min, plot.x_max, plot.x_steps)\n",
    "        if plot.y_log:\n",
    "            y_sc = bqp.LogScale()\n",
    "        else:\n",
    "            y_sc = bqp.LinearScale()\n",
    "        ax_x = bqp.Axis(label=plot.x_label, scale=x_sc, grid_lines='none', grid_color='#999999')\n",
    "        ax_y = bqp.Axis(label=plot.y_label, scale=y_sc, orientation='vertical', grid_lines='none', grid_color='#999999')        \n",
    "        fig.marks = []\n",
    "        ymin = 0\n",
    "        ymax = 0\n",
    "        for line in enumerate(plot.lines):\n",
    "            y_data = npfy(vardif, x_data, line[1].expr)\n",
    "            ymin0 = np.min(y_data)\n",
    "            ymax0 = np.max(y_data)\n",
    "            if ymin0 < ymin or ymin is 0:\n",
    "                ymin = ymin0\n",
    "            if ymax0 > ymax:\n",
    "                ymax = ymax0\n",
    "            line0 = bqp.Lines(x=x_data, y=y_data, scales={'x': x_sc, 'y': y_sc}, colors=[color_array[line[0] % len(color_array)]])\n",
    "            fig.marks = fig.marks + [line0]\n",
    "        fig.axes = [ax_x, ax_y]\n",
    "        if plot.x_grid:\n",
    "            ax_x.grid_lines = 'solid'\n",
    "        if plot.y_grid:\n",
    "            ax_y.grid_lines = 'solid'\n",
    "        if plot.axes0:\n",
    "            lineax0 = bqp.Lines(x=[plot.x_min, plot.x_max], y=[0, 0], scales={'x': x_sc, 'y': y_sc}, colors=['#666666'])\n",
    "            if ymin < ltol:\n",
    "                ymin = ltol\n",
    "            if ymax > utol:\n",
    "                ymax = utol \n",
    "            lineax1 = bqp.Lines(x=[0, 0], y=[ymin, ymax], scales={'x': x_sc, 'y': y_sc}, colors=['#666666'])\n",
    "            fig.marks = fig.marks + [lineax0, lineax1]\n",
    "        default_graph_settings = plot\n",
    "        fig.title = plot.title_label\n",
    "        setplot(plot)\n"
   ]
  },
  {
   "cell_type": "markdown",
   "metadata": {
    "extensions": {
     "jupyter_dashboards": {
      "version": 1,
      "views": {
       "grid_default": {
        "col": 8,
        "height": 4,
        "hidden": true,
        "row": 16,
        "width": 4
       },
       "report_default": {}
      }
     }
    }
   },
   "source": [
    "<a name=\"IntElem\"></a>\n",
    "# Interactive Elements \n",
    "[Overview](#Overview)"
   ]
  },
  {
   "cell_type": "code",
   "execution_count": 9,
   "metadata": {
    "collapsed": true,
    "extensions": {
     "jupyter_dashboards": {
      "version": 1,
      "views": {
       "grid_default": {
        "hidden": true
       },
       "report_default": {}
      }
     }
    }
   },
   "outputs": [],
   "source": [
    "# styles for interactive elements\n",
    "numberinputlayout = widgets.Layout(width='100px')\n",
    "smallnumberinputlayout = widgets.Layout(width='65px', height='30px', margin='1px', padding='1px')\n",
    "mclayout = widgets.Layout(width='25px', height='25px', margin='1px', padding='1px')\n",
    "\n",
    "tinybtnlayout = widgets.Layout(width='25px')\n",
    "smallbtnlayout = widgets.Layout(width='50px')\n",
    "bigbtnlayout = widgets.Layout(width='100px')\n",
    "\n",
    "descrstyle = {'description_width': 'initial'}\n"
   ]
  },
  {
   "cell_type": "markdown",
   "metadata": {
    "extensions": {
     "jupyter_dashboards": {
      "version": 1,
      "views": {
       "grid_default": {
        "col": 0,
        "height": 4,
        "hidden": true,
        "row": 0,
        "width": 4
       },
       "report_default": {}
      }
     }
    }
   },
   "source": [
    "<a name=\"IntElemCalc\"></a>\n",
    "## Calculation \n",
    "[Overview](#Overview)"
   ]
  },
  {
   "cell_type": "code",
   "execution_count": 10,
   "metadata": {
    "collapsed": true,
    "extensions": {
     "jupyter_dashboards": {
      "version": 1,
      "views": {
       "grid_default": {
        "hidden": true
       },
       "report_default": {}
      }
     }
    }
   },
   "outputs": [],
   "source": [
    "# interactive calculation elements\n",
    "send_btn = widgets.Button(\n",
    "    description=u'\\u2397',\n",
    "    layout=tinybtnlayout,\n",
    "    tooltip='Use Equation'\n",
    ")\n",
    "add_btn = widgets.Button(\n",
    "    description=u'+ \\u2397',\n",
    "    layout=smallbtnlayout,\n",
    "    tooltip='Add Equation'\n",
    ")\n",
    "setactive_btn = widgets.Button(\n",
    "    description=u'\\u2BA7',\n",
    "    layout=tinybtnlayout,\n",
    "    tooltip='Use selected Equation',\n",
    ")\n",
    "active_dropdown = widgets.Dropdown(\n",
    "    options=['fig1', 'fig2', 'fig3'],\n",
    "    value='fig1',\n",
    "    style=descrstyle,\n",
    "    description='Use Graph:'\n",
    ")\n",
    "\n",
    "xpoint_input = widgets.Text(\n",
    "    value='0',\n",
    "    layout=numberinputlayout,\n",
    "    style=descrstyle,\n",
    "    description='Xval:'\n",
    ")\n",
    "\n",
    "#text elements\n",
    "expr_input = widgets.Textarea(value=expr_str)\n",
    "expr_label = widgets.Label(\n",
    "    layout=widgets.Layout(width=\"100px\", margin='2px', padding='2px'),\n",
    "    value=u'Expression \\u2BA7'\n",
    ")\n",
    "eq_dropdown = widgets.Dropdown(\n",
    "    options=[1],\n",
    "    value=1,\n",
    "    layout=widgets.Layout(width=\"75px\", margin='2px', padding='2px'),\n",
    ")\n",
    "\n",
    "x0_input = widgets.Text(\n",
    "    value='x',\n",
    "    layout=smallnumberinputlayout,\n",
    "    style=descrstyle,\n",
    "    description=u'x\\u2080'\n",
    ")\n",
    "n0_input = widgets.Text(\n",
    "    value='0',\n",
    "    layout=smallnumberinputlayout,\n",
    "    style=descrstyle,\n",
    "    description=u'n\\u2080'\n",
    ")\n",
    "x1_input = widgets.Text(\n",
    "    value='y',\n",
    "    layout=smallnumberinputlayout,\n",
    "    style=descrstyle,\n",
    "    description=u'x\\u2081'\n",
    ")\n",
    "n1_input = widgets.Text(\n",
    "    value='0',\n",
    "    layout=smallnumberinputlayout,\n",
    "    style=descrstyle,\n",
    "    description=u'n\\u2081'\n",
    ")\n",
    "\n",
    "# buttons\n",
    "\n",
    "save_btn = widgets.Button(\n",
    "    description='Save',\n",
    "    layout=smallbtnlayout,\n",
    "    tooltip='Save Fig as PNG'\n",
    ")\n",
    "\n",
    "plotline_btn = widgets.Button(\n",
    "    description='Plot',\n",
    "    layout=smallbtnlayout,\n",
    "    tooltip='Plot Line',\n",
    ")\n",
    "newplot_btn = widgets.Button(\n",
    "    description='New Plot',\n",
    "    tooltip='New Plot',\n",
    ")\n",
    "\n",
    "clearfig_btn = widgets.Button(\n",
    "    description='clear',\n",
    "    layout=smallbtnlayout,\n",
    "    tooltip='clear choosen Figure',\n",
    ")\n",
    "clearhist_btn = widgets.Button(\n",
    "    description='clear',\n",
    "    layout=smallbtnlayout,\n",
    "    tooltip='clear History',\n",
    ")\n",
    "\n",
    "#output\n",
    "\n",
    "sub0_btn = widgets.Button( description=u'\\u2398',  tooltip='Substitute into equation 1', layout=tinybtnlayout)\n",
    "sub1_btn = widgets.Button( description=u'\\u2398',  tooltip='Substitute into equation 2', layout=tinybtnlayout)\n",
    "sub2_btn = widgets.Button( description=u'\\u2398',  tooltip='Substitute into equation 3', layout=tinybtnlayout)\n",
    "\n",
    "acteq0_btn = widgets.Button( description=u'\\u2397',  tooltip='activate equation 1', layout=tinybtnlayout)\n",
    "acteq1_btn = widgets.Button( description=u'\\u2397',  tooltip='activate equation 2', layout=tinybtnlayout)\n",
    "acteq2_btn = widgets.Button( description=u'\\u2397',  tooltip='activate equation 3', layout=tinybtnlayout)\n",
    "\n",
    "expr_0_box = widgets.VBox(layout=widgets.Layout(border='1px solid #666666', width='auto', height='auto', flex='1 1 auto'))\n",
    "expr_1_box = widgets.VBox(layout=widgets.Layout(border='1px dashed #999999', width='auto', height='auto', flex='1 1 auto'))\n",
    "expr_2_box = widgets.VBox(layout=widgets.Layout(border='1px dashed #999999', width='auto', height='auto', flex='1 1 auto'))\n",
    "\n",
    "sub0_btn.on_click(subexpr0)\n",
    "sub1_btn.on_click(subexpr1)\n",
    "sub2_btn.on_click(subexpr2)\n",
    "\n",
    "acteq0_btn.on_click(activeexpr0)\n",
    "acteq1_btn.on_click(activeexpr1)\n",
    "acteq2_btn.on_click(activeexpr2)\n",
    "\n",
    "eq_0_label = widgets.Label(value='Eq 0:', layout=smallbtnlayout)\n",
    "eq_1_label = widgets.Label(value='Eq 1:', layout=smallbtnlayout)\n",
    "eq_2_label = widgets.Label(value='Eq 2:', layout=smallbtnlayout)\n",
    "\n",
    "eq_out0 = widgets.Label(value='')\n",
    "eq_out1 = widgets.Label(value='')\n",
    "eq_out2 = widgets.Label(value='')\n",
    "\n",
    "latex_out = widgets.Label(value='')\n",
    "\n",
    "error_out = widgets.Label(value='')\n",
    "\n",
    "activeexprlist = [[expr_0, eq_out0, expr_0_box], [expr_1, eq_out1, expr_1_box], [expr_2, eq_out2, expr_2_box]]\n",
    "    "
   ]
  },
  {
   "cell_type": "markdown",
   "metadata": {
    "extensions": {
     "jupyter_dashboards": {
      "version": 1,
      "views": {
       "grid_default": {
        "col": 8,
        "height": 4,
        "hidden": true,
        "row": 0,
        "width": 4
       },
       "report_default": {}
      }
     }
    }
   },
   "source": [
    "<a name=\"IntElemExpr\"></a>\n",
    "### Expression\n",
    "[Overview](#Overview)"
   ]
  },
  {
   "cell_type": "code",
   "execution_count": 11,
   "metadata": {
    "collapsed": true,
    "extensions": {
     "jupyter_dashboards": {
      "version": 1,
      "views": {
       "grid_default": {
        "hidden": true
       },
       "report_default": {}
      }
     }
    }
   },
   "outputs": [],
   "source": [
    "# buttons\n",
    "\n",
    "n_btn = widgets.Button(\n",
    "    description='Num',\n",
    "    layout=smallbtnlayout,\n",
    "    tooltip='Get numerical value'\n",
    ")\n",
    "solv_btn = widgets.Button(\n",
    "    description='Solv',\n",
    "    layout=smallbtnlayout,\n",
    "    tooltip='Solve Equation for d'\n",
    ")\n",
    "simp_btn = widgets.Button(\n",
    "    description='Simp',\n",
    "    layout=smallbtnlayout,\n",
    "    tooltip='Simplify Equation',\n",
    ")\n",
    "expand_btn = widgets.Button(\n",
    "    description='Exp',\n",
    "    layout=smallbtnlayout,\n",
    "    tooltip='Expand Equation',\n",
    ")\n",
    "fac_btn = widgets.Button(\n",
    "    description='Fact',\n",
    "    layout=smallbtnlayout,\n",
    "    tooltip='Factor Equation',\n",
    ")\n",
    "collect_btn = widgets.Button(\n",
    "    description='Col',\n",
    "    layout=smallbtnlayout,\n",
    "    tooltip='Collect Equation',\n",
    ")\n",
    "\n",
    "\n",
    "expandseries_btn = widgets.Button(\n",
    "    description='Exp S',\n",
    "    layout=widgets.Layout(width='75px'),\n",
    "    tooltip='Expand Series Equation',\n",
    ")\n",
    "lim_btn = widgets.Button(\n",
    "    description='lim',\n",
    "    layout=smallbtnlayout,\n",
    "    tooltip='Limit at point',\n",
    ")\n",
    "sum_btn = widgets.Button(\n",
    "    description=u'\\u2211\\u207f\\u00b9\\u2099\\u2092',\n",
    "    layout=widgets.Layout(width='75px'),\n",
    "    tooltip='Summation',\n",
    ")\n",
    "prod_btn = widgets.Button(\n",
    "    description=u'\\u2210\\u207f\\u00b9\\u2099\\u2092',\n",
    "    layout=widgets.Layout(width='75px'),\n",
    "    tooltip='Product',\n",
    ")\n",
    "\n",
    "im_btn = widgets.Button(\n",
    "    description=u'\\u2111',\n",
    "    layout=tinybtnlayout,\n",
    "    tooltip='Imaginary part',\n",
    ")\n",
    "re_btn = widgets.Button(\n",
    "    description=u'\\u211c',\n",
    "    layout=tinybtnlayout,\n",
    "    tooltip='Real part',\n",
    ")\n",
    "expandcomp_btn = widgets.Button(\n",
    "    description=u'Exp \\u2102',\n",
    "    layout=widgets.Layout(width='75px'),\n",
    "    tooltip='Expand Complex'\n",
    ")\n",
    "rewritecomp_btn = widgets.Button(\n",
    "    description=u'RW \\u2102',\n",
    "    layout=widgets.Layout(width='75px'),\n",
    "    tooltip='Rewrite Complex'\n",
    ")\n",
    "\n",
    "subs_btn = widgets.Button(\n",
    "    description=u'\\u2398',\n",
    "    layout=tinybtnlayout,\n",
    "    tooltip='Substitute active Equation by Input',\n",
    ")\n",
    "subsxy_btn = widgets.Button(\n",
    "    description=u'\\u2398 x x',\n",
    "    layout=tinybtnlayout,\n",
    "    tooltip='Substitute x and x by n and n',\n",
    ")"
   ]
  },
  {
   "cell_type": "markdown",
   "metadata": {
    "extensions": {
     "jupyter_dashboards": {
      "version": 1,
      "views": {
       "grid_default": {
        "col": 0,
        "height": 4,
        "hidden": true,
        "row": 0,
        "width": 4
       },
       "report_default": {}
      }
     }
    }
   },
   "source": [
    "<a name=\"IntElemCalculus\"></a>\n",
    "### Calculus\n",
    "[Overview](#Overview)"
   ]
  },
  {
   "cell_type": "code",
   "execution_count": 12,
   "metadata": {
    "collapsed": true,
    "extensions": {
     "jupyter_dashboards": {
      "version": 1,
      "views": {
       "grid_default": {
        "hidden": true
       },
       "report_default": {}
      }
     }
    }
   },
   "outputs": [],
   "source": [
    "difint_input = widgets.Text(\n",
    "    value='x',\n",
    "    layout=smallnumberinputlayout,\n",
    "    style=descrstyle,\n",
    "    description='d'\n",
    ")\n",
    "ilim_max_input = widgets.Text(\n",
    "    value='oo',\n",
    "    layout=numberinputlayout,\n",
    "    style=descrstyle,\n",
    "    description='Lmax:'\n",
    ")\n",
    "ilim_min_input = widgets.Text(\n",
    "    value='-oo',\n",
    "    layout=numberinputlayout,\n",
    "    style=descrstyle,\n",
    "    description='Lmin:'\n",
    ")\n",
    "multdif_input = widgets.Text(\n",
    "    value='1',\n",
    "    layout=numberinputlayout,\n",
    "    style=descrstyle,\n",
    "    description='Mult:'\n",
    ")\n",
    "\n",
    "dif_btn = widgets.Button(\n",
    "    description='dif',\n",
    "    layout=smallbtnlayout,\n",
    "    tooltip='differentiate',\n",
    ")\n",
    "int_btn = widgets.Button(\n",
    "    description=u'\\u222b',\n",
    "    layout=smallbtnlayout,\n",
    "    tooltip='integrate',\n",
    ")\n",
    "intlim_btn = widgets.Button(\n",
    "    description=u'\\u222b\\u00b9\\u2092',\n",
    "    layout=smallbtnlayout,\n",
    "    tooltip='integrate within limits'\n",
    ")"
   ]
  },
  {
   "cell_type": "markdown",
   "metadata": {
    "extensions": {
     "jupyter_dashboards": {
      "version": 1,
      "views": {
       "grid_default": {
        "col": 4,
        "height": 4,
        "hidden": true,
        "row": 4,
        "width": 4
       },
       "report_default": {}
      }
     }
    }
   },
   "source": [
    "<a name=\"IntElemMat\"></a>\n",
    "### Matrices\n",
    "[Overview](#Overview)"
   ]
  },
  {
   "cell_type": "code",
   "execution_count": 13,
   "metadata": {
    "collapsed": true,
    "extensions": {
     "jupyter_dashboards": {
      "version": 1,
      "views": {
       "grid_default": {
        "hidden": true
       },
       "report_default": {}
      }
     }
    }
   },
   "outputs": [],
   "source": [
    "# Vectors and Matrices\n",
    "\n",
    "m_0_0 = widgets.Text(value='', layout=mclayout)\n",
    "m_0_1 = widgets.Text(value='', layout=mclayout)\n",
    "m_0_2 = widgets.Text(value='', layout=mclayout)\n",
    "m_0_3 = widgets.Text(value='', layout=mclayout)\n",
    "m_0_4 = widgets.Text(value='', layout=mclayout)\n",
    "\n",
    "m_0 = [m_0_0, m_0_1, m_0_2, m_0_3, m_0_4]\n",
    "\n",
    "m_1_0 = widgets.Text(value='', layout=mclayout)\n",
    "m_1_1 = widgets.Text(value='', layout=mclayout)\n",
    "m_1_2 = widgets.Text(value='', layout=mclayout)\n",
    "m_1_3 = widgets.Text(value='', layout=mclayout)\n",
    "m_1_4 = widgets.Text(value='', layout=mclayout)\n",
    "\n",
    "m_1 = [m_1_0, m_1_1, m_1_2, m_1_3, m_1_4]\n",
    "\n",
    "m_2_0 = widgets.Text(value='', layout=mclayout)\n",
    "m_2_1 = widgets.Text(value='', layout=mclayout)\n",
    "m_2_2 = widgets.Text(value='', layout=mclayout)\n",
    "m_2_3 = widgets.Text(value='', layout=mclayout)\n",
    "m_2_4 = widgets.Text(value='', layout=mclayout)\n",
    "\n",
    "m_2 = [m_2_0, m_2_1, m_2_2, m_2_3, m_2_4]\n",
    "\n",
    "m_3_0 = widgets.Text(value='', layout=mclayout)\n",
    "m_3_1 = widgets.Text(value='', layout=mclayout)\n",
    "m_3_2 = widgets.Text(value='', layout=mclayout)\n",
    "m_3_3 = widgets.Text(value='', layout=mclayout)\n",
    "m_3_4 = widgets.Text(value='', layout=mclayout)\n",
    "\n",
    "m_3 = [m_3_0, m_3_1, m_3_2, m_3_3, m_3_4]\n",
    "\n",
    "m_4_0 = widgets.Text(value='', layout=mclayout)\n",
    "m_4_1 = widgets.Text(value='', layout=mclayout)\n",
    "m_4_2 = widgets.Text(value='', layout=mclayout)\n",
    "m_4_3 = widgets.Text(value='', layout=mclayout)\n",
    "m_4_4 = widgets.Text(value='', layout=mclayout)\n",
    "\n",
    "m_4 = [m_4_0, m_4_1, m_4_2, m_4_3, m_4_4]\n",
    "\n",
    "matrixinput = [m_0, m_1, m_2, m_3, m_4]\n",
    "\n",
    "readmatrix_btn = widgets.Button(\n",
    "    description=u'\\u2397',\n",
    "    layout=tinybtnlayout,\n",
    "    tooltip='Read Matrix'\n",
    ")\n",
    "addmatrix_btn = widgets.Button(\n",
    "    description=u'\\u2397+',\n",
    "    layout=tinybtnlayout,\n",
    "    tooltip='Add Matrix'\n",
    ")\n",
    "normmatrix_btn = widgets.Button(\n",
    "    description='Nrm',\n",
    "    layout=smallbtnlayout,\n",
    "    tooltip='Normalize Matrix'\n",
    ")\n",
    "detmatrix_btn = widgets.Button(\n",
    "    description='det',\n",
    "    layout=smallbtnlayout,\n",
    "    tooltip='Determinant'\n",
    ")\n",
    "subsmat_btn = widgets.Button(\n",
    "    description=u'\\u2398',\n",
    "    layout=tinybtnlayout,\n",
    "    tooltip='Substitute active Equation by Matrix',\n",
    ")\n",
    "invmat_btn = widgets.Button(\n",
    "    description=u'A\\u207a\\u00b9',\n",
    "    layout=tinybtnlayout,\n",
    "    tooltip='Invert Matrix',\n",
    ")\n",
    "transmat_btn = widgets.Button(\n",
    "    description='T',\n",
    "    layout=tinybtnlayout,\n",
    "    tooltip='Transpose Matrix'\n",
    ")\n",
    "dotprod_btn = widgets.Button(\n",
    "    description=u'\\u2299',\n",
    "    layout=tinybtnlayout,\n",
    "    tooltip='Dot product',\n",
    ")\n",
    "crossprod_btn = widgets.Button(\n",
    "    description=u'\\u2297',\n",
    "    layout=tinybtnlayout,\n",
    "    tooltip='Cross product',\n",
    ")\n",
    "dia_btn = widgets.Button(\n",
    "    description=u'\\u22f1',\n",
    "    layout=tinybtnlayout,\n",
    "    tooltip='Diagonalize matrix',\n",
    ")\n",
    "eigenval_btn = widgets.Button(\n",
    "    description='Eval',\n",
    "    layout=smallbtnlayout,\n",
    "    tooltip='Eigenvalues',\n",
    ")\n",
    "eigenvec_btn = widgets.Button(\n",
    "    description='Evec',\n",
    "    layout=smallbtnlayout,\n",
    "    tooltip='Eigenvectors',\n",
    ")\n",
    "\n",
    "readmatrix_btn.on_click(matrixexpr)\n",
    "addmatrix_btn.on_click(matrixadd)\n",
    "normmatrix_btn.on_click(matrixnorm)\n",
    "detmatrix_btn.on_click(matrixdet)\n",
    "subsmat_btn.on_click(matrixsub)\n",
    "invmat_btn.on_click(matrixinv)\n",
    "transmat_btn.on_click(matrixtrans)\n",
    "dotprod_btn.on_click(dotproduct)\n",
    "crossprod_btn.on_click(crossproduct)\n",
    "dia_btn.on_click(eigenvalues)\n",
    "eigenvec_btn.on_click(eigenvectors)\n",
    "eigenval_btn.on_click(eigenvalues)"
   ]
  },
  {
   "cell_type": "code",
   "execution_count": 14,
   "metadata": {
    "collapsed": true,
    "extensions": {
     "jupyter_dashboards": {
      "version": 1,
      "views": {
       "grid_default": {
        "hidden": true
       },
       "report_default": {
        "hidden": true
       }
      }
     }
    }
   },
   "outputs": [],
   "source": [
    "setactive_btn.on_click(setactive)\n",
    "send_btn.on_click(readexpr)\n",
    "add_btn.on_click(addexpr)\n",
    "multdif_input.observe(setmultdif, 'value')\n",
    "xpoint_input.observe(setpoint, 'value')\n",
    "save_btn.on_click(savefig)\n",
    "plotline_btn.on_click(plotline)\n",
    "clearfig_btn.on_click(clearfig)\n",
    "clearhist_btn.on_click(clear_history)\n",
    "active_dropdown.observe(setactivegraph, 'value')\n",
    "\n",
    "x0_input.observe(setnx, 'value')\n",
    "n0_input.observe(setnx, 'value')\n",
    "x1_input.observe(setnx, 'value')\n",
    "n1_input.observe(setnx, 'value')\n",
    "\n",
    "expand_btn.on_click(expand)\n",
    "simp_btn.on_click(simplify)\n",
    "solv_btn.on_click(solve)\n",
    "n_btn.on_click(numval)\n",
    "collect_btn.on_click(collect)\n",
    "fac_btn.on_click(factor)\n",
    "sum_btn.on_click(summation)\n",
    "prod_btn.on_click(product)\n",
    "subs_btn.on_click(substitute)\n",
    "subsxy_btn.on_click(substitutexy)\n",
    "\n",
    "expandcomp_btn.on_click(expandcomp)\n",
    "rewritecomp_btn.on_click(rewritecomp)\n",
    "re_btn.on_click(getre)\n",
    "im_btn.on_click(getim)\n",
    "\n",
    "expandseries_btn.on_click(expandseries)\n",
    "dif_btn.on_click(derivative)\n",
    "int_btn.on_click(integrate)\n",
    "intlim_btn.on_click(integratelim)\n",
    "lim_btn.on_click(limit)\n",
    "\n",
    "difint_input.observe(set_vardif, 'value')\n",
    "ilim_min_input.observe(setilim, 'value')\n",
    "ilim_max_input.observe(setilim, 'value')\n"
   ]
  },
  {
   "cell_type": "markdown",
   "metadata": {
    "extensions": {
     "jupyter_dashboards": {
      "version": 1,
      "views": {
       "grid_default": {
        "col": 4,
        "height": 4,
        "hidden": true,
        "row": 0,
        "width": 4
       },
       "report_default": {}
      }
     }
    }
   },
   "source": [
    "<a name=\"IntElemGraph2D\"></a>\n",
    "## 2D Graphs\n",
    "[Overview](#Overview)"
   ]
  },
  {
   "cell_type": "code",
   "execution_count": 15,
   "metadata": {
    "collapsed": true,
    "extensions": {
     "jupyter_dashboards": {
      "version": 1,
      "views": {
       "grid_default": {
        "hidden": true
       },
       "report_default": {}
      }
     }
    }
   },
   "outputs": [],
   "source": [
    "# interactive graph elements\n",
    "\n",
    "title_label_input = widgets.Text(\n",
    "    value='Title',\n",
    "    description='Title:'\n",
    ")\n",
    "x_label_input = widgets.Text(\n",
    "    value='X',\n",
    "    description='X-Label:',\n",
    "    disabled=False)\n",
    "y_label_input = widgets.Text(\n",
    "    value='Y',\n",
    "    description='Y-Label:'\n",
    ")\n",
    "x_steps_input = widgets.Text(\n",
    "    value='100',\n",
    "    layout=numberinputlayout,\n",
    "    style=descrstyle,\n",
    "    description='data points:'\n",
    ")\n",
    "x_min_input = widgets.Text(\n",
    "    value='-1',\n",
    "    layout=numberinputlayout,\n",
    "    style=descrstyle,\n",
    "    description='x min:'\n",
    ")\n",
    "x_max_input = widgets.Text(\n",
    "    value='1',\n",
    "    layout=numberinputlayout,\n",
    "    style=descrstyle,\n",
    "    description='x max:'\n",
    ")\n",
    "ltol_input = widgets.Text(\n",
    "    value='-100',\n",
    "    layout=numberinputlayout,\n",
    "    style=descrstyle,\n",
    "    description='y min:'\n",
    ")\n",
    "utol_input = widgets.Text(\n",
    "    value='100',\n",
    "    layout=numberinputlayout,\n",
    "    style=descrstyle,\n",
    "    description='y max:'\n",
    ")\n",
    "pi_bool_input = widgets.Checkbox(\n",
    "    value=False,\n",
    "    description='Multiples of Pi'\n",
    ")\n",
    "x_grid_input = widgets.Checkbox(\n",
    "    value=False,\n",
    "    description='X Grid'\n",
    ")\n",
    "y_grid_input = widgets.Checkbox(\n",
    "    value=False,\n",
    "    description='Y Grid'\n",
    ")\n",
    "axes0_input = widgets.Checkbox(\n",
    "    value=False,\n",
    "    description='Axes'\n",
    ")\n",
    "savetex_btn = widgets.Button(\n",
    "    description='TeX',\n",
    "    layout=smallbtnlayout,\n",
    "    tooltip='Save ',\n",
    ")\n",
    "tex_btn = widgets.Button(\n",
    "    description='TeX',\n",
    "    layout=smallbtnlayout,\n",
    "    tooltip='LaTeX String',\n",
    ")\n",
    "opfig_btn = widgets.Button(\n",
    "    description='MPL',\n",
    "    layout=smallbtnlayout,\n",
    "    tooltip='Output Graph',\n",
    ")\n",
    "savesvg_btn = widgets.Button(\n",
    "    description='SVG',\n",
    "    layout=smallbtnlayout,\n",
    "    tooltip='Save Fig as SVG',\n",
    ")\n",
    "savepng_btn = widgets.Button(\n",
    "    description='PNG',\n",
    "    layout=smallbtnlayout,\n",
    "    tooltip='Save Fig as PNG',\n",
    ")\n",
    "\n",
    "savetex_btn.on_click(save_history)\n",
    "tex_btn.on_click(output_latex)\n",
    "opfig_btn.on_click(mplgraph)\n",
    "savesvg_btn.on_click(savesvg)\n",
    "savepng_btn.on_click(savepng)\n",
    "title_label_input.observe(updategraph, 'value')\n",
    "x_label_input.observe(updategraph, 'value')\n",
    "y_label_input.observe(updategraph, 'value')\n",
    "x_steps_input.observe(updategraph, 'value')\n",
    "x_min_input.observe(updategraph, 'value')\n",
    "x_max_input.observe(updategraph, 'value')\n",
    "pi_bool_input.observe(updategraph, 'value')\n",
    "x_grid_input.observe(updategraph, 'value')\n",
    "y_grid_input.observe(updategraph, 'value')\n",
    "axes0_input.observe(updategraph, 'value')\n",
    "utol_input.observe(settol, 'value')\n",
    "ltol_input.observe(settol, 'value')"
   ]
  },
  {
   "cell_type": "markdown",
   "metadata": {
    "extensions": {
     "jupyter_dashboards": {
      "version": 1,
      "views": {
       "grid_default": {
        "col": 0,
        "height": 4,
        "hidden": true,
        "row": 20,
        "width": 4
       },
       "report_default": {}
      }
     }
    }
   },
   "source": [
    "<a name=\"Layout\"></a>\n",
    "# Layout\n",
    "[Overview](#Overview)"
   ]
  },
  {
   "cell_type": "code",
   "execution_count": 16,
   "metadata": {
    "extensions": {
     "jupyter_dashboards": {
      "version": 1,
      "views": {
       "grid_default": {
        "col": 0,
        "height": 3,
        "hidden": false,
        "row": 0,
        "width": 12
       },
       "report_default": {
        "hidden": false
       }
      }
     }
    },
    "scrolled": false
   },
   "outputs": [
    {
     "data": {
      "application/vnd.jupyter.widget-view+json": {
       "model_id": "05589c21f10e4531a99febe3ba216871",
       "version_major": 2,
       "version_minor": 0
      },
      "text/html": [
       "<p>Failed to display Jupyter Widget of type <code>HBox</code>.</p>\n",
       "<p>\n",
       "  If you're reading this message in the Jupyter Notebook or JupyterLab Notebook, it may mean\n",
       "  that the widgets JavaScript is still loading. If this message persists, it\n",
       "  likely means that the widgets JavaScript library is either not installed or\n",
       "  not enabled. See the <a href=\"https://ipywidgets.readthedocs.io/en/stable/user_install.html\">Jupyter\n",
       "  Widgets Documentation</a> for setup instructions.\n",
       "</p>\n",
       "<p>\n",
       "  If you're reading this message in another frontend (for example, a static\n",
       "  rendering on GitHub or <a href=\"https://nbviewer.jupyter.org/\">NBViewer</a>),\n",
       "  it may mean that your frontend doesn't currently support widgets.\n",
       "</p>\n"
      ],
      "text/plain": [
       "HBox(children=(VBox(children=(HTMLMath(value='Equations<br>', layout=Layout(max_height='450px', min_width='700px', overflow_y='scroll'), placeholder='Equations'), HBox(children=(Button(description='clear', layout=Layout(width='50px'), style=ButtonStyle(), tooltip='clear History'), Dropdown(description='Use Graph:', options=('fig1', 'fig2', 'fig3'), style=DescriptionStyle(description_width='initial'), value='fig1'), Button(description='clear', layout=Layout(width='50px'), style=ButtonStyle(), tooltip='clear choosen Figure'), Button(description='TeX', layout=Layout(width='50px'), style=ButtonStyle(), tooltip='Save '), Button(description='Plot', layout=Layout(width='50px'), style=ButtonStyle(), tooltip='Plot Line'), Button(description='Save', layout=Layout(width='50px'), style=ButtonStyle(), tooltip='Save Fig as PNG'))), HBox(children=(VBox(children=(HBox(children=(Label(value='Eq 0:', layout=Layout(width='50px')), Button(description='⎗', layout=Layout(width='25px'), style=ButtonStyle(), tooltip='activate equation 1'), Button(description='⎘', layout=Layout(width='25px'), style=ButtonStyle(), tooltip='Substitute into equation 1'))), Label(value='')), layout=Layout(border='1px solid #666666', flex='1 1 auto', height='auto', width='auto')), VBox(children=(HBox(children=(Label(value='Eq 1:', layout=Layout(width='50px')), Button(description='⎗', layout=Layout(width='25px'), style=ButtonStyle(), tooltip='activate equation 2'), Button(description='⎘', layout=Layout(width='25px'), style=ButtonStyle(), tooltip='Substitute into equation 2'))), Label(value='')), layout=Layout(border='1px dashed #999999', flex='1 1 auto', height='auto', width='auto')), VBox(children=(HBox(children=(Label(value='Eq 2:', layout=Layout(width='50px')), Button(description='⎗', layout=Layout(width='25px'), style=ButtonStyle(), tooltip='activate equation 3'), Button(description='⎘', layout=Layout(width='25px'), style=ButtonStyle(), tooltip='Substitute into equation 3'))), Label(value='')), layout=Layout(border='1px dashed #999999', flex='1 1 auto', height='auto', width='auto')))), Tab(children=(VBox(children=(HBox(children=(VBox(children=(HBox(children=(Text(value='', layout=Layout(height='25px', margin='1px', padding='1px', width='25px')), Text(value='', layout=Layout(height='25px', margin='1px', padding='1px', width='25px')), Text(value='', layout=Layout(height='25px', margin='1px', padding='1px', width='25px')), Text(value='', layout=Layout(height='25px', margin='1px', padding='1px', width='25px')), Text(value='', layout=Layout(height='25px', margin='1px', padding='1px', width='25px'))), layout=Layout(height='30px')), HBox(children=(Text(value='', layout=Layout(height='25px', margin='1px', padding='1px', width='25px')), Text(value='', layout=Layout(height='25px', margin='1px', padding='1px', width='25px')), Text(value='', layout=Layout(height='25px', margin='1px', padding='1px', width='25px')), Text(value='', layout=Layout(height='25px', margin='1px', padding='1px', width='25px')), Text(value='', layout=Layout(height='25px', margin='1px', padding='1px', width='25px'))), layout=Layout(height='30px')), HBox(children=(Text(value='', layout=Layout(height='25px', margin='1px', padding='1px', width='25px')), Text(value='', layout=Layout(height='25px', margin='1px', padding='1px', width='25px')), Text(value='', layout=Layout(height='25px', margin='1px', padding='1px', width='25px')), Text(value='', layout=Layout(height='25px', margin='1px', padding='1px', width='25px')), Text(value='', layout=Layout(height='25px', margin='1px', padding='1px', width='25px'))), layout=Layout(height='30px')), HBox(children=(Text(value='', layout=Layout(height='25px', margin='1px', padding='1px', width='25px')), Text(value='', layout=Layout(height='25px', margin='1px', padding='1px', width='25px')), Text(value='', layout=Layout(height='25px', margin='1px', padding='1px', width='25px')), Text(value='', layout=Layout(height='25px', margin='1px', padding='1px', width='25px')), Text(value='', layout=Layout(height='25px', margin='1px', padding='1px', width='25px'))), layout=Layout(height='30px')), HBox(children=(Text(value='', layout=Layout(height='25px', margin='1px', padding='1px', width='25px')), Text(value='', layout=Layout(height='25px', margin='1px', padding='1px', width='25px')), Text(value='', layout=Layout(height='25px', margin='1px', padding='1px', width='25px')), Text(value='', layout=Layout(height='25px', margin='1px', padding='1px', width='25px')), Text(value='', layout=Layout(height='25px', margin='1px', padding='1px', width='25px'))), layout=Layout(height='30px'))), layout=Layout(width='150px')), VBox(children=(HBox(children=(Button(description='Nrm', layout=Layout(width='50px'), style=ButtonStyle(), tooltip='Normalize Matrix'), Button(description='A⁺¹', layout=Layout(width='25px'), style=ButtonStyle(), tooltip='Invert Matrix'), Button(description='T', layout=Layout(width='25px'), style=ButtonStyle(), tooltip='Transpose Matrix'))), HBox(children=(Button(description='⊙', layout=Layout(width='25px'), style=ButtonStyle(), tooltip='Dot product'), Button(description='⊗', layout=Layout(width='25px'), style=ButtonStyle(), tooltip='Cross product'), Button(description='⎗+', layout=Layout(width='25px'), style=ButtonStyle(), tooltip='Add Matrix'), Button(description='det', layout=Layout(width='50px'), style=ButtonStyle(), tooltip='Determinant'))), HBox(children=(Button(description='Evec', layout=Layout(width='50px'), style=ButtonStyle(), tooltip='Eigenvectors'), Button(description='Eval', layout=Layout(width='50px'), style=ButtonStyle(), tooltip='Eigenvalues'), Button(description='⋱', layout=Layout(width='25px'), style=ButtonStyle(), tooltip='Diagonalize matrix'))), HBox(children=(Button(description='⎘', layout=Layout(width='25px'), style=ButtonStyle(), tooltip='Substitute active Equation by Matrix'), Button(description='⎗', layout=Layout(width='25px'), style=ButtonStyle(), tooltip='Read Matrix'))))), VBox(children=(HBox(children=(Label(value='Expression ⮧', layout=Layout(margin='2px', padding='2px', width='100px')), Dropdown(layout=Layout(margin='2px', padding='2px', width='75px'), options=(1,), value=1), Button(description='⮧', layout=Layout(width='25px'), style=ButtonStyle(), tooltip='Use selected Equation'), Button(description='⎗', layout=Layout(width='25px'), style=ButtonStyle(), tooltip='Use Equation'), Button(description='+ ⎗', layout=Layout(width='50px'), style=ButtonStyle(), tooltip='Add Equation'))), HBox(children=(Textarea(value='x'), Button(description='⎘', layout=Layout(width='25px'), style=ButtonStyle(), tooltip='Substitute active Equation by Input'))), HBox(children=(Text(value='x', description='x₀', layout=Layout(height='30px', margin='1px', padding='1px', width='65px'), style=DescriptionStyle(description_width='initial')), Text(value='0', description='n₀', layout=Layout(height='30px', margin='1px', padding='1px', width='65px'), style=DescriptionStyle(description_width='initial')), Text(value='y', description='x₁', layout=Layout(height='30px', margin='1px', padding='1px', width='65px'), style=DescriptionStyle(description_width='initial')), Text(value='0', description='n₁', layout=Layout(height='30px', margin='1px', padding='1px', width='65px'), style=DescriptionStyle(description_width='initial')), Text(value='x', description='d', layout=Layout(height='30px', margin='1px', padding='1px', width='65px'), style=DescriptionStyle(description_width='initial')))))), VBox(children=(HBox(children=(Button(description='Simp', layout=Layout(width='50px'), style=ButtonStyle(), tooltip='Simplify Equation'), Button(description='Exp', layout=Layout(width='50px'), style=ButtonStyle(), tooltip='Expand Equation'), Button(description='Col', layout=Layout(width='50px'), style=ButtonStyle(), tooltip='Collect Equation'), Button(description='Fact', layout=Layout(width='50px'), style=ButtonStyle(), tooltip='Factor Equation'))), HBox(children=(Button(description='Solv', layout=Layout(width='50px'), style=ButtonStyle(), tooltip='Solve Equation for d'), Button(description='Num', layout=Layout(width='50px'), style=ButtonStyle(), tooltip='Get numerical value'))), HBox(children=(Button(description='RW ℂ', layout=Layout(width='75px'), style=ButtonStyle(), tooltip='Rewrite Complex'), Button(description='Exp ℂ', layout=Layout(width='75px'), style=ButtonStyle(), tooltip='Expand Complex'), Button(description='ℜ', layout=Layout(width='25px'), style=ButtonStyle(), tooltip='Real part'), Button(description='ℑ', layout=Layout(width='25px'), style=ButtonStyle(), tooltip='Imaginary part'))), HBox(children=(Button(description='⎘ x x', layout=Layout(width='25px'), style=ButtonStyle(), tooltip='Substitute x and x by n and n'), Button(description='∐ⁿ¹ₙₒ', layout=Layout(width='75px'), style=ButtonStyle(), tooltip='Product'), Button(description='∑ⁿ¹ₙₒ', layout=Layout(width='75px'), style=ButtonStyle(), tooltip='Summation'))))))), HBox(children=(Text(value='0', description='Xval:', layout=Layout(width='100px'), style=DescriptionStyle(description_width='initial')), Button(description='lim', layout=Layout(width='50px'), style=ButtonStyle(), tooltip='Limit at point'), Button(description='Exp S', layout=Layout(width='75px'), style=ButtonStyle(), tooltip='Expand Series Equation'), Text(value='1', description='Mult:', layout=Layout(width='100px'), style=DescriptionStyle(description_width='initial')), Button(description='dif', layout=Layout(width='50px'), style=ButtonStyle(), tooltip='differentiate'), Text(value='-oo', description='Lmin:', layout=Layout(width='100px'), style=DescriptionStyle(description_width='initial')), Text(value='oo', description='Lmax:', layout=Layout(width='100px'), style=DescriptionStyle(description_width='initial')), Button(description='∫', layout=Layout(width='50px'), style=ButtonStyle(), tooltip='integrate'), Button(description='∫¹ₒ', layout=Layout(width='50px'), style=ButtonStyle(), tooltip='integrate within limits'))), Label(value=''))), VBox(children=(HBox(children=(Text(value='X', description='X-Label:'), Text(value='-1', description='x min:', layout=Layout(width='100px'), style=DescriptionStyle(description_width='initial')), Text(value='1', description='x max:', layout=Layout(width='100px'), style=DescriptionStyle(description_width='initial')), Text(value='100', description='data points:', layout=Layout(width='100px'), style=DescriptionStyle(description_width='initial')))), HBox(children=(Text(value='Y', description='Y-Label:'), Text(value='100', description='y max:', layout=Layout(width='100px'), style=DescriptionStyle(description_width='initial')), Text(value='-100', description='y min:', layout=Layout(width='100px'), style=DescriptionStyle(description_width='initial')))), HBox(children=(Text(value='Title', description='Title:'), Checkbox(value=False, description='X Grid'), Checkbox(value=False, description='Y Grid'), Checkbox(value=False, description='Axes')))))), _titles={'0': 'Calculation', '1': '2D Graph Settings'})), layout=Layout(width='50%')), VBox(children=(Figure(fig_margin={'top': 60, 'bottom': 60, 'left': 60, 'right': 60}, layout=Layout(min_width='125px'), scale_x=LinearScale(allow_padding=False, max=1.0, min=0.0), scale_y=LinearScale(allow_padding=False, max=1.0, min=0.0), title='Graph 1'), Toolbar(figure=Figure(fig_margin={'top': 60, 'bottom': 60, 'left': 60, 'right': 60}, layout=Layout(min_width='125px'), scale_x=LinearScale(allow_padding=False, max=1.0, min=0.0), scale_y=LinearScale(allow_padding=False, max=1.0, min=0.0), title='Graph 1')), Tab(children=(VBox(children=(Figure(fig_margin={'top': 60, 'bottom': 60, 'left': 60, 'right': 60}, layout=Layout(min_width='125px'), scale_x=LinearScale(allow_padding=False, max=1.0, min=0.0), scale_y=LinearScale(allow_padding=False, max=1.0, min=0.0), title='Graph 2'), Toolbar(figure=Figure(fig_margin={'top': 60, 'bottom': 60, 'left': 60, 'right': 60}, layout=Layout(min_width='125px'), scale_x=LinearScale(allow_padding=False, max=1.0, min=0.0), scale_y=LinearScale(allow_padding=False, max=1.0, min=0.0), title='Graph 2')), Figure(fig_margin={'top': 60, 'bottom': 60, 'left': 60, 'right': 60}, layout=Layout(min_width='125px'), scale_x=LinearScale(allow_padding=False, max=1.0, min=0.0), scale_y=LinearScale(allow_padding=False, max=1.0, min=0.0), title='Graph 3'), Toolbar(figure=Figure(fig_margin={'top': 60, 'bottom': 60, 'left': 60, 'right': 60}, layout=Layout(min_width='125px'), scale_x=LinearScale(allow_padding=False, max=1.0, min=0.0), scale_y=LinearScale(allow_padding=False, max=1.0, min=0.0), title='Graph 3')))), VBox(), VBox(), VBox(children=(HBox(children=(Button(description='TeX', layout=Layout(width='50px'), style=ButtonStyle(), tooltip='LaTeX String'), Label(value=''))), HBox(children=(Button(description='MPL', layout=Layout(width='50px'), style=ButtonStyle(), tooltip='Output Graph'), Button(description='SVG', layout=Layout(width='50px'), style=ButtonStyle(), tooltip='Save Fig as SVG'), Button(description='PNG', layout=Layout(width='50px'), style=ButtonStyle(), tooltip='Save Fig as PNG'))), Output()))), _titles={'0': '2D Graphs', '1': '3D Graph', '2': 'Vectors', '3': 'Output'})), layout=Layout(width='50%'))), layout=Layout(width='100%'))"
      ]
     },
     "metadata": {},
     "output_type": "display_data"
    }
   ],
   "source": [
    "# graphs\n",
    "fig_array = []\n",
    "for i in range(3):\n",
    "    newplot = makeplot()\n",
    "    fig_array.append(newplot)\n",
    "    \n",
    "# history area\n",
    "eqchoice = widgets.HBox([clearhist_btn, active_dropdown, clearfig_btn, savetex_btn, plotline_btn, save_btn])\n",
    "    \n",
    "# vector and matrix input\n",
    "\n",
    "matrixbox = widgets.VBox(layout= widgets.Layout(width='150px'))\n",
    "matrixarray = []\n",
    "for m_row in matrixinput:\n",
    "    matrixrow = widgets.HBox(layout= widgets.Layout(height='30px'))\n",
    "    matrixrow.children = [m_cell for m_cell in m_row]\n",
    "    matrixarray.append(matrixrow)\n",
    "\n",
    "matrixbox.children = matrixarray\n",
    "\n",
    "matrixop_hbox0 = widgets.HBox([normmatrix_btn, invmat_btn, transmat_btn])\n",
    "matrixop_hbox1 = widgets.HBox([dotprod_btn, crossprod_btn, addmatrix_btn, detmatrix_btn])\n",
    "matrixop_hbox2 = widgets.HBox([eigenvec_btn, eigenval_btn, dia_btn])\n",
    "matrixop_hbox3 = widgets.HBox([subsmat_btn, readmatrix_btn])\n",
    "matrixop_vbox = widgets.VBox([matrixop_hbox0, matrixop_hbox1, matrixop_hbox2, matrixop_hbox3])\n",
    "\n",
    "# expression output\n",
    "\n",
    "eq0_hbox = widgets.HBox([eq_0_label, acteq0_btn, sub0_btn])\n",
    "eq1_hbox = widgets.HBox([eq_1_label, acteq1_btn, sub1_btn])\n",
    "eq2_hbox = widgets.HBox([eq_2_label, acteq2_btn, sub2_btn])\n",
    "\n",
    "expr_0_box.children = [eq0_hbox, activeexprlist[0][1]]\n",
    "expr_1_box.children = [eq1_hbox, activeexprlist[1][1]]\n",
    "expr_2_box.children = [eq2_hbox, activeexprlist[2][1]]\n",
    "\n",
    "# expression input\n",
    "expr_hbox0 = widgets.HBox([expr_label, eq_dropdown, setactive_btn, send_btn, add_btn])\n",
    "expr_hbox1 = widgets.HBox([x0_input, n0_input, x1_input, n1_input, difint_input])\n",
    "expr_vbox = widgets.VBox([expr_hbox0, widgets.HBox([expr_input, subs_btn]), expr_hbox1])\n",
    "\n",
    "# operations \n",
    "op_hbox0 = widgets.HBox([simp_btn, expand_btn, collect_btn, fac_btn])\n",
    "op_hbox1 = widgets.HBox([solv_btn, n_btn])\n",
    "op_hbox2 = widgets.HBox([rewritecomp_btn, expandcomp_btn, re_btn, im_btn])\n",
    "op_hbox3 = widgets.HBox([subsxy_btn, prod_btn, sum_btn])\n",
    "op_vbox = widgets.VBox([op_hbox0, op_hbox1, op_hbox2, op_hbox3])\n",
    "\n",
    "calculus_box = widgets.HBox([xpoint_input, lim_btn, expandseries_btn,  multdif_input, dif_btn, ilim_min_input, ilim_max_input, int_btn, intlim_btn]) \n",
    "\n",
    "input_box = widgets.HBox([matrixbox, matrixop_vbox, expr_vbox, op_vbox])\n",
    "\n",
    "calculation_box = widgets.VBox([input_box, calculus_box, error_out])\n",
    "axes_box = widgets.VBox([widgets.HBox([x_label_input, x_min_input, x_max_input, x_steps_input]),\\\n",
    "                         widgets.HBox([y_label_input, utol_input, ltol_input]),\\\n",
    "                         widgets.HBox([title_label_input, x_grid_input, y_grid_input, axes0_input])])\n",
    "input_tab = widgets.Tab([calculation_box, axes_box])\n",
    "input_tab.set_title(0, 'Calculation')\n",
    "input_tab.set_title(1, '2D Graph Settings')\n",
    "left_box = widgets.VBox(layout= widgets.Layout(width='50%'))\n",
    "left_box.children = [history_list, eqchoice, widgets.HBox([expr_0_box, expr_1_box, expr_2_box]), input_tab]\n",
    "\n",
    "tb1 = bqp.Toolbar(figure=fig1)\n",
    "tb2 = bqp.Toolbar(figure=fig2)\n",
    "tb3 = bqp.Toolbar(figure=fig3)\n",
    "fig_vbox = widgets.VBox([fig2, tb2, fig3, tb3])\n",
    "fig3d_vbox = widgets.VBox([])\n",
    "vector_vbox = widgets.VBox([])\n",
    "tex_output =  widgets.HBox([tex_btn, latex_out])\n",
    "figoutcontroll = widgets.HBox([opfig_btn, savesvg_btn, savepng_btn])\n",
    "output_vbox = widgets.VBox([tex_output, figoutcontroll, outputfig])\n",
    "\n",
    "viz_tab = widgets.Tab([fig_vbox, fig3d_vbox, vector_vbox, output_vbox])\n",
    "viz_tab.set_title(0, '2D Graphs')\n",
    "viz_tab.set_title(1, '3D Graph')\n",
    "viz_tab.set_title(2, 'Vectors')\n",
    "viz_tab.set_title(3, 'Output')\n",
    "viz_vbox = widgets.VBox(layout= widgets.Layout(width='50%'))\n",
    "viz_vbox.children = [fig1, tb1, viz_tab]\n",
    "\n",
    "gui = widgets.HBox(layout= widgets.Layout(width='100%'))\n",
    "gui.children=[left_box, viz_vbox]\n",
    "gui"
   ]
  },
  {
   "cell_type": "code",
   "execution_count": null,
   "metadata": {
    "collapsed": true,
    "extensions": {
     "jupyter_dashboards": {
      "version": 1,
      "views": {
       "grid_default": {
        "col": 8,
        "height": 4,
        "hidden": true,
        "row": 0,
        "width": 4
       },
       "report_default": {
        "hidden": false
       }
      }
     }
    },
    "scrolled": true
   },
   "outputs": [],
   "source": []
  },
  {
   "cell_type": "code",
   "execution_count": null,
   "metadata": {
    "collapsed": true,
    "extensions": {
     "jupyter_dashboards": {
      "version": 1,
      "views": {
       "grid_default": {
        "hidden": true
       },
       "report_default": {}
      }
     }
    }
   },
   "outputs": [],
   "source": []
  },
  {
   "cell_type": "code",
   "execution_count": null,
   "metadata": {
    "collapsed": true,
    "extensions": {
     "jupyter_dashboards": {
      "version": 1,
      "views": {
       "grid_default": {
        "hidden": true
       },
       "report_default": {}
      }
     }
    }
   },
   "outputs": [],
   "source": []
  },
  {
   "cell_type": "code",
   "execution_count": null,
   "metadata": {
    "collapsed": true,
    "extensions": {
     "jupyter_dashboards": {
      "version": 1,
      "views": {
       "grid_default": {
        "hidden": true
       },
       "report_default": {}
      }
     }
    }
   },
   "outputs": [],
   "source": []
  },
  {
   "cell_type": "code",
   "execution_count": null,
   "metadata": {
    "collapsed": true,
    "extensions": {
     "jupyter_dashboards": {
      "version": 1,
      "views": {
       "grid_default": {
        "hidden": true
       },
       "report_default": {}
      }
     }
    }
   },
   "outputs": [],
   "source": []
  }
 ],
 "metadata": {
  "extensions": {
   "jupyter_dashboards": {
    "activeView": "grid_default",
    "version": 1,
    "views": {
     "grid_default": {
      "cellMargin": 10,
      "defaultCellHeight": 20,
      "maxColumns": 12,
      "name": "grid",
      "type": "grid"
     },
     "report_default": {
      "name": "report",
      "type": "report"
     }
    }
   }
  },
  "kernelspec": {
   "display_name": "Python 3",
   "language": "python",
   "name": "python3"
  },
  "language_info": {
   "codemirror_mode": {
    "name": "ipython",
    "version": 3
   },
   "file_extension": ".py",
   "mimetype": "text/x-python",
   "name": "python",
   "nbconvert_exporter": "python",
   "pygments_lexer": "ipython3",
   "version": "3.6.3"
  }
 },
 "nbformat": 4,
 "nbformat_minor": 2
}
