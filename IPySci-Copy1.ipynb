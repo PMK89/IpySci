{
 "cells": [
  {
   "cell_type": "markdown",
   "metadata": {},
   "source": [
    " <a name=\"Overview\"></a>\n",
    "# Overview\n",
    "\n",
    "[Global Imports](#GlobImp)\n",
    "\n",
    "[Global Classes](#GlobClas)\n",
    "\n",
    "[Global Variables and Functions](#GlobVarFunc)\n",
    "\n",
    "[Mathematical Functions](#MathFunc)\n",
    "\n",
    "[Graphical Output](#GraphOut)\n",
    "\n",
    "[Interactive Elements](#IntElem)\n",
    "\n",
    "[Layout](#Layout)"
   ]
  },
  {
   "cell_type": "markdown",
   "metadata": {},
   "source": [
    "<a name=\"GlobImp\"></a>\n",
    "# Global Imports"
   ]
  },
  {
   "cell_type": "code",
   "execution_count": 1,
   "metadata": {
    "collapsed": true,
    "extensions": {
     "jupyter_dashboards": {
      "version": 1,
      "views": {
       "grid_default": {
        "hidden": true
       },
       "report_default": {
        "hidden": true
       }
      }
     }
    }
   },
   "outputs": [],
   "source": [
    "%matplotlib inline\n",
    "import numpy as np\n",
    "import sympy as sp\n",
    "import matplotlib.pyplot as plt\n",
    "import bqplot as bqp\n",
    "import ipywidgets as widgets\n",
    "plt.style.use('ggplot')\n",
    "sp.init_printing()\n",
    "x, y, z, t = sp.symbols(\"x y z t\")\n",
    "\n",
    "\n",
    "\n",
    "# plot variables, can be changed interactively\n",
    "\n",
    "x_min = -1\n",
    "x_max = 1\n",
    "x_steps = 100\n",
    "x_multi = 1.0\n",
    "pi_bool = False\n",
    "x_label = 'X'\n",
    "y_label = 'Y'\n",
    "title_label = 'Title'\n",
    "isexpr = False\n",
    "x_data = np.linspace(x_min, x_max, x_steps)\n",
    "y_data = np.sin(x_data)\n",
    "\n",
    "x_sc = bqp.LinearScale(min=x_min, max=x_max)\n",
    "y_sc = bqp.LinearScale()\n",
    "\n",
    "ax_x = bqp.Axis(label=x_label, scale=x_sc, grid_lines='solid')\n",
    "ax_y = bqp.Axis(label=y_label, scale=y_sc, orientation='vertical', grid_lines='solid')\n",
    "\n",
    "line = bqp.Lines(x=x_data, y=y_data, scales={'x': x_sc, 'y': y_sc})\n",
    "fig = bqp.Figure(axes=[ax_x, ax_y], marks=[line], title=title_label)\n"
   ]
  },
  {
   "cell_type": "markdown",
   "metadata": {},
   "source": [
    " <a name=\"GlobClas\"></a>\n",
    "# Global Classes \n",
    "[Overview](#Overview)"
   ]
  },
  {
   "cell_type": "code",
   "execution_count": 2,
   "metadata": {
    "collapsed": true
   },
   "outputs": [],
   "source": [
    "# graphing classes\n",
    "\n",
    "# line class\n",
    "class is_line:\n",
    "    def __init__(self, x_data, y_data, x_min, x_max, x_log, y_log):\n",
    "        self.x_data = x_data\n",
    "        self.y_data = y_data\n",
    "        self.x_log = x_log\n",
    "        self.y_log = y_log\n",
    "        if x_log:\n",
    "            self.x_sc = bqp.LogScale(min=x_min, max=x_max)\n",
    "        else:\n",
    "            self.x_sc = bqp.LinearScale(min=x_min, max=x_max)\n",
    "        if y_log:\n",
    "            self.y_sc = bqp.LogScale(min=x_min, max=x_max)\n",
    "        else:\n",
    "            self.y_sc = bqp.LinearScale(min=x_min, max=x_max)\n",
    "            \n",
    "# graph class\n",
    "class is_graph:\n",
    "    def __init__(self, x_label='X', y_label='Y', title_label='Title'):\n",
    "        self.x_label = x_label\n",
    "        self.y_label = y_label\n",
    "        self.title_label = title_label\n",
    "        self.lines = []\n",
    "        \n",
    "    def addline(self, x_data, y_data, x_min=-1, x_max=1, x_log=False, y_log=False):\n",
    "        self.lines.append(is_line(x_data, y_data, x_min, x_max, x_log, y_log))"
   ]
  },
  {
   "cell_type": "markdown",
   "metadata": {},
   "source": [
    "<a name=\"GlobVarFunc\"></a>\n",
    "# Global Variables and Functions \n",
    "[Overview](#Overview)"
   ]
  },
  {
   "cell_type": "code",
   "execution_count": 3,
   "metadata": {
    "extensions": {
     "jupyter_dashboards": {
      "version": 1,
      "views": {
       "grid_default": {
        "col": 7,
        "height": 4,
        "hidden": false,
        "row": 0,
        "width": 4
       },
       "report_default": {}
      }
     }
    }
   },
   "outputs": [
    {
     "data": {
      "application/vnd.jupyter.widget-view+json": {
       "model_id": "7ca2faee96d24f2da935e98dd0803fb7",
       "version_major": 2,
       "version_minor": 0
      },
      "text/html": [
       "<p>Failed to display Jupyter Widget of type <code>VBox</code>.</p>\n",
       "<p>\n",
       "  If you're reading this message in the Jupyter Notebook or JupyterLab Notebook, it may mean\n",
       "  that the widgets JavaScript is still loading. If this message persists, it\n",
       "  likely means that the widgets JavaScript library is either not installed or\n",
       "  not enabled. See the <a href=\"https://ipywidgets.readthedocs.io/en/stable/user_install.html\">Jupyter\n",
       "  Widgets Documentation</a> for setup instructions.\n",
       "</p>\n",
       "<p>\n",
       "  If you're reading this message in another frontend (for example, a static\n",
       "  rendering on GitHub or <a href=\"https://nbviewer.jupyter.org/\">NBViewer</a>),\n",
       "  it may mean that your frontend doesn't currently support widgets.\n",
       "</p>\n"
      ],
      "text/plain": [
       "VBox()"
      ]
     },
     "metadata": {},
     "output_type": "display_data"
    }
   ],
   "source": [
    "#global variables\n",
    "expr = x\n",
    "expr_str = str(expr)\n",
    "expr_array = []\n",
    "history_array = []\n",
    "plot_array = []\n",
    "\n",
    "#makes a numerical computation of sympy equation\n",
    "def npfy(x_, expr_):\n",
    "    f = sp.lambdify(x_, expr_, 'numpy')\n",
    "    y_data = f(x_data)\n",
    "    return y_data\n",
    "\n",
    "#shows the equation\n",
    "history_vbox = widgets.VBox(history_array)\n",
    "display(history_vbox)\n",
    "def update_history():\n",
    "    global expr_array\n",
    "    global history_array\n",
    "    global history_vbox\n",
    "    history_array = []\n",
    "    history_vbox.close()\n",
    "    style = {'description_width': 'initial'}\n",
    "    layout = widgets.Layout(display='inline-flex')\n",
    "    option_array = []\n",
    "    for idx, expr_ in enumerate(expr_array):\n",
    "        equation = widgets.Label(value=r'\\(' + sp.latex(expr_) + '\\)', style=style, layout=layout)\n",
    "        index = widgets.Label(value=str(idx))\n",
    "        hexp_hbox = widgets.HBox([index, equation])\n",
    "        history_array.append(hexp_hbox)\n",
    "        option_array.append(idx)\n",
    "    history_vbox = widgets.VBox(history_array)\n",
    "    eq_dropdown.options = option_array\n",
    "    display(history_vbox)\n",
    "    return history_array\n",
    "\n",
    "#sets choosen expresion active\n",
    "def setactive(self):\n",
    "    global expr\n",
    "    global expr_str\n",
    "    pos = eq_dropdown.value\n",
    "    expr = expr_array[pos]\n",
    "    expr_str = str(expr)\n",
    "    expr_input.value = expr_str\n",
    "\n",
    "# make a new plot\n",
    "def newplot(self):\n",
    "    global x_data\n",
    "    global y_data\n",
    "    pos = eq_dropdown.value\n",
    "    ax_x.label = x_label_input.value\n",
    "    ax_y.label = y_label_input.value\n",
    "    x_steps = int(x_steps_input.value)\n",
    "    pi_bool = pi_bool_input.value\n",
    "    title_label = title_label_input.value\n",
    "    x_multi = int(x_multi_input.value)\n",
    "    if pi_bool:\n",
    "        x_min = int(x_min_input.value) * x_multi * pi\n",
    "        x_max = int(x_max_input.value) * x_multi * pi\n",
    "    else:\n",
    "        x_min = int(x_min_input.value) * x_multi\n",
    "        x_max = int(x_max_input.value) * x_multi\n",
    "    x_data = np.linspace(x_min, x_max, x_steps)\n",
    "    y_data = npfy(x, expr_array[pos])\n",
    "    x_sc.max = x_max\n",
    "    x_sc.min = x_min\n",
    "    ax_x.scale = x_sc\n",
    "    line.x = x_data\n",
    "    line.y = y_data\n",
    "    line.scales = {'x': x_sc, 'y': y_sc}\n",
    "    fig.axes = [ax_x, ax_y]\n",
    "    fig.marks = [line]\n",
    "    fig.title = title_label\n",
    "    \n",
    "# inserts a new line into the plot\n",
    "def plotline(self):\n",
    "    global fig\n",
    "    pos = eq_dropdown.value    \n",
    "    y_data1 = npfy(x, expr_array[pos])\n",
    "    line1 = bqp.Lines(x=x_data, y=y_data1, scales={'x': x_sc, 'y': y_sc})\n",
    "    fucking_list = fig.marks\n",
    "    fucking_list.append(line1)\n",
    "    fig.marks = fucking_list"
   ]
  },
  {
   "cell_type": "markdown",
   "metadata": {},
   "source": [
    "Mathematical Functions"
   ]
  },
  {
   "cell_type": "code",
   "execution_count": 4,
   "metadata": {
    "collapsed": true,
    "extensions": {
     "jupyter_dashboards": {
      "version": 1,
      "views": {
       "grid_default": {
        "hidden": true
       },
       "report_default": {
        "hidden": true
       }
      }
     }
    }
   },
   "outputs": [],
   "source": [
    "#reads and validates user input\n",
    "def readexpr(change):\n",
    "    global expr_str\n",
    "    global expr\n",
    "    global expr_array\n",
    "    if expr_input.value is not '' and expr_input.value is not None:\n",
    "        expr = sp.sympify(expr_input.value)\n",
    "        expr_str = str(expr)\n",
    "        eq_out0.value = r'\\(' + sp.latex(expr) + '\\)'\n",
    "        expr_array_append(expr)\n",
    "        return expr\n",
    "        \"\"\"\n",
    "        try:\n",
    "            expr = sp.sympify(expr_input.value)\n",
    "            expr_str = str(expr)\n",
    "            eq_out0.value = r'\\(' + sp.latex(expr) + '\\)'\n",
    "            expr_array_append(expr)\n",
    "            return expr\n",
    "        except:\n",
    "            eq_out0.value = r'Invalid Expression!'\n",
    "            return 'Invalid Expression!'\n",
    "        \"\"\"\n",
    "\n",
    "#sets element from history active\n",
    "def globaluse(x):\n",
    "    global expr_str\n",
    "    global expr\n",
    "    global expr_array\n",
    "    print('test:', x)\n",
    "\n",
    "#appends expression array and updates output\n",
    "def expr_array_append(expr0):\n",
    "    global expr_array\n",
    "    if len(expr_array) > 0:\n",
    "        if expr_array[-1] is not expr0:\n",
    "            expr_array.append(expr0)\n",
    "    else:\n",
    "        expr_array.append(expr)\n",
    "    update_history()"
   ]
  },
  {
   "cell_type": "markdown",
   "metadata": {
    "extensions": {
     "jupyter_dashboards": {
      "version": 1,
      "views": {
       "grid_default": {
        "col": 0,
        "height": 4,
        "hidden": true,
        "row": 0,
        "width": 4
       },
       "report_default": {
        "hidden": false
       }
      }
     }
    }
   },
   "source": [
    "<a name=\"MathFunc\"></a>\n",
    "# Mathematical Functions \n",
    "[Overview](#Overview)"
   ]
  },
  {
   "cell_type": "code",
   "execution_count": 5,
   "metadata": {
    "collapsed": true,
    "extensions": {
     "jupyter_dashboards": {
      "version": 1,
      "views": {
       "grid_default": {
        "hidden": true
       },
       "report_default": {
        "hidden": true
       }
      }
     }
    }
   },
   "outputs": [],
   "source": [
    "# simplify equation\n",
    "def simplify(self):\n",
    "    sexpr = sp.simplify(expr)\n",
    "    eq_out1.value = r'\\(' + sp.latex(sexpr) + '\\)'\n",
    "    expr_array_append(sexpr)\n",
    "\n",
    "# expands equation\n",
    "def expand(self):\n",
    "    eexpr = sp.expand(expr)\n",
    "    eq_out1.value = r'\\(' + sp.latex(eexpr) + '\\)'\n",
    "    expr_array_append(eexpr)\n",
    "        \n",
    "# derivatives\n",
    "def derivative(xyz):\n",
    "    if xyz is 'x':                \n",
    "        exprdif = sp.diff(expr, x)\n",
    "    elif xyz is 'y':\n",
    "        exprdif = sp.diff(expr, y)\n",
    "    elif xyz is 'z':\n",
    "        exprdif = sp.diff(expr, z)\n",
    "    elif xyz is 't':\n",
    "        exprdif = sp.diff(expr, t)\n",
    "    else:\n",
    "        exprdif = r'Invalid Differentition parameter!'\n",
    "    eq_out1.value = r'\\(' + sp.latex(exprdif) + '\\)'\n",
    "    expr_array_append(exprdif)\n",
    "\n",
    "def derix(self):\n",
    "    derivative('x')\n",
    "    x\n",
    "def deriy(self):\n",
    "    derivative('y')\n",
    "    \n",
    "def deriz(self):\n",
    "    derivative('z')\n",
    "    \n",
    "def derit(self):\n",
    "    derivative('t')\n",
    "    \n",
    "# integrals\n",
    "def integrate(self):\n",
    "    iexpr = sp.integrate(expr)\n",
    "    eq_out1.value = r'\\(' + sp.latex(iexpr) + '\\)'\n",
    "    expr_array_append(iexpr)\n"
   ]
  },
  {
   "cell_type": "markdown",
   "metadata": {},
   "source": [
    "<a name=\"GraphOut\"></a>\n",
    "# Graphical Output\n",
    "[Overview](#Overview)"
   ]
  },
  {
   "cell_type": "code",
   "execution_count": 6,
   "metadata": {
    "collapsed": true,
    "extensions": {
     "jupyter_dashboards": {
      "version": 1,
      "views": {
       "grid_default": {
        "hidden": true
       },
       "report_default": {}
      }
     }
    }
   },
   "outputs": [],
   "source": [
    "# updates plot when changes are done\n",
    "def update(change):\n",
    "    global x_data\n",
    "    global y_data\n",
    "    ax_x.label = x_label_input.value\n",
    "    ax_y.label = y_label_input.value\n",
    "    x_steps = int(x_steps_input.value)\n",
    "    pi_bool = pi_bool_input.value\n",
    "    title_label = title_label_input.value\n",
    "    x_multi = int(x_multi_input.value)\n",
    "    if pi_bool:\n",
    "        x_min = int(x_min_input.value) * x_multi * pi\n",
    "        x_max = int(x_max_input.value) * x_multi * pi\n",
    "    else:\n",
    "        x_min = int(x_min_input.value) * x_multi\n",
    "        x_max = int(x_max_input.value) * x_multi\n",
    "    x_data = np.linspace(x_min, x_max, x_steps)\n",
    "    y_data = npfy(x, expr)\n",
    "    x_sc.max = x_max\n",
    "    x_sc.min = x_min\n",
    "    ax_x.scale = x_sc\n",
    "    line.x = x_data\n",
    "    line.y = y_data\n",
    "    line.scales = {'x': x_sc, 'y': y_sc}\n",
    "    fig.axes = [ax_x, ax_y]\n",
    "    fig.marks = [line]\n",
    "    fig.title = title_label"
   ]
  },
  {
   "cell_type": "markdown",
   "metadata": {},
   "source": [
    "<a name=\"IntElem\"></a>\n",
    "# Interactive Elements \n",
    "[Overview](#Overview)"
   ]
  },
  {
   "cell_type": "code",
   "execution_count": 7,
   "metadata": {
    "collapsed": true,
    "extensions": {
     "jupyter_dashboards": {
      "version": 1,
      "views": {
       "grid_default": {
        "hidden": true
       },
       "report_default": {
        "hidden": true
       }
      }
     }
    }
   },
   "outputs": [],
   "source": [
    "# interactive elements\n",
    "\n",
    "#text elements\n",
    "expr_input = widgets.Text(\n",
    "    value=expr_str,\n",
    "    description='Expression:',\n",
    "    disabled=False\n",
    ")\n",
    "eq_dropdown = widgets.Dropdown(\n",
    "    options=[0],\n",
    "    value=0,\n",
    "    description='Use:'\n",
    ")\n",
    "\n",
    "#buttons\n",
    "send_btn = widgets.Button(\n",
    "    description='Expr',\n",
    "    tooltip='Use Equation',\n",
    "    icon='check'\n",
    ")\n",
    "simp_btn = widgets.Button(\n",
    "    description='simplify',\n",
    "    tooltip='Simplify Equation',\n",
    ")\n",
    "expand_btn = widgets.Button(\n",
    "    description='Expand',\n",
    "    tooltip='Expand Equation',\n",
    ")\n",
    "setactive_btn = widgets.Button(\n",
    "    description='Activate',\n",
    "    tooltip='Activate Equation',\n",
    ")\n",
    "plotline_btn = widgets.Button(\n",
    "    description='Plot',\n",
    "    tooltip='Plot Line',\n",
    ")\n",
    "newplot_btn = widgets.Button(\n",
    "    description='New Plot',\n",
    "    tooltip='New Plot',\n",
    ")\n",
    "difx_btn = widgets.Button(\n",
    "    description='dx',\n",
    "    tooltip='diff x',\n",
    ")\n",
    "dify_btn = widgets.Button(\n",
    "    description='dy',\n",
    "    tooltip='diff y',\n",
    ")\n",
    "difz_btn = widgets.Button(\n",
    "    description='dz',\n",
    "    tooltip='diff z',\n",
    ")\n",
    "#output\n",
    "eq_out0 = widgets.Label(value='')\n",
    "eq_out1 = widgets.Label(value='')\n",
    "eq_out2 = widgets.Label(value='')\n",
    "\n",
    "newplot_btn.on_click(newplot)\n",
    "setactive_btn.on_click(setactive)\n",
    "plotline_btn.on_click(plotline)\n",
    "eqchoice = widgets.HBox([eq_dropdown, setactive_btn, plotline_btn, newplot_btn])\n"
   ]
  },
  {
   "cell_type": "code",
   "execution_count": 8,
   "metadata": {
    "collapsed": true,
    "extensions": {
     "jupyter_dashboards": {
      "version": 1,
      "views": {
       "grid_default": {
        "hidden": true
       },
       "report_default": {}
      }
     }
    }
   },
   "outputs": [],
   "source": [
    "# interactive elements\n",
    "title_label_input = widgets.Text(\n",
    "    value='Title',\n",
    "    description='Title:'\n",
    ")\n",
    "x_label_input = widgets.Text(\n",
    "    value='X',\n",
    "    description='X-Label:',\n",
    "    disabled=False)\n",
    "y_label_input = widgets.Text(\n",
    "    value='Y',\n",
    "    description='Y-Label:'\n",
    ")\n",
    "x_steps_input = widgets.Text(\n",
    "    value='100',\n",
    "    description='data points:'\n",
    ")\n",
    "x_min_input = widgets.Text(\n",
    "    value='-1',\n",
    "    description='x min:'\n",
    ")\n",
    "x_max_input = widgets.Text(\n",
    "    value='1',\n",
    "    description='x max:'\n",
    ")\n",
    "x_multi_input = widgets.Text(\n",
    "    value='1',\n",
    "    description='X Multiplier:'\n",
    ")\n",
    "\n",
    "pi_bool_input = widgets.Checkbox(value=False, description='Multiples of Pi')\n",
    "\n",
    "title_label_input.observe(update, 'value')\n",
    "x_label_input.observe(update, 'value')\n",
    "y_label_input.observe(update, 'value')\n",
    "x_steps_input.observe(update, 'value')\n",
    "x_min_input.observe(update, 'value')\n",
    "x_max_input.observe(update, 'value')\n",
    "x_multi_input.observe(update, 'value')\n",
    "pi_bool_input.observe(update, 'value')\n"
   ]
  },
  {
   "cell_type": "markdown",
   "metadata": {},
   "source": [
    "<a name=\"Layout\"></a>\n",
    "# Layout\n",
    "[Overview](#Overview)"
   ]
  },
  {
   "cell_type": "code",
   "execution_count": 9,
   "metadata": {
    "extensions": {
     "jupyter_dashboards": {
      "version": 1,
      "views": {
       "grid_default": {
        "col": 0,
        "height": 2,
        "hidden": false,
        "row": 0,
        "width": 7
       },
       "report_default": {
        "hidden": false
       }
      }
     }
    }
   },
   "outputs": [
    {
     "data": {
      "application/vnd.jupyter.widget-view+json": {
       "model_id": "19b6275da6934981b86dc36c0dab5396",
       "version_major": 2,
       "version_minor": 0
      },
      "text/html": [
       "<p>Failed to display Jupyter Widget of type <code>VBox</code>.</p>\n",
       "<p>\n",
       "  If you're reading this message in the Jupyter Notebook or JupyterLab Notebook, it may mean\n",
       "  that the widgets JavaScript is still loading. If this message persists, it\n",
       "  likely means that the widgets JavaScript library is either not installed or\n",
       "  not enabled. See the <a href=\"https://ipywidgets.readthedocs.io/en/stable/user_install.html\">Jupyter\n",
       "  Widgets Documentation</a> for setup instructions.\n",
       "</p>\n",
       "<p>\n",
       "  If you're reading this message in another frontend (for example, a static\n",
       "  rendering on GitHub or <a href=\"https://nbviewer.jupyter.org/\">NBViewer</a>),\n",
       "  it may mean that your frontend doesn't currently support widgets.\n",
       "</p>\n"
      ],
      "text/plain": [
       "VBox(children=(HBox(children=(Text(value='x', description='Expression:'), Button(description='Expr', icon='check', style=ButtonStyle(), tooltip='Use Equation'), Button(description='simplify', style=ButtonStyle(), tooltip='Simplify Equation'), Button(description='Expand', style=ButtonStyle(), tooltip='Expand Equation'), Button(description='dx', style=ButtonStyle(), tooltip='diff x'))), Label(value=''), Label(value=''), HBox(children=(Dropdown(description='Use:', options=(0,), value=0), Button(description='Activate', style=ButtonStyle(), tooltip='Activate Equation'), Button(description='Plot', style=ButtonStyle(), tooltip='Plot Line'), Button(description='New Plot', style=ButtonStyle(), tooltip='New Plot'))), VBox(), Figure(axes=[Axis(label='X', scale=LinearScale(max=1.0, min=-1.0), side='bottom'), Axis(label='Y', orientation='vertical', scale=LinearScale(), side='left')], fig_margin={'top': 60, 'bottom': 60, 'left': 60, 'right': 60}, layout=Layout(min_width='125px'), marks=[Lines(colors=['#1f77b4', '#ff7f0e', '#2ca02c', '#d62728', '#9467bd', '#8c564b', '#e377c2', '#7f7f7f', '#bcbd22', '#17becf'], interactions={'hover': 'tooltip'}, scales={'x': LinearScale(max=1.0, min=-1.0), 'y': LinearScale()}, scales_metadata={'x': {'orientation': 'horizontal', 'dimension': 'x'}, 'y': {'orientation': 'vertical', 'dimension': 'y'}, 'color': {'dimension': 'color'}}, tooltip_style={'opacity': 0.9}, x=array([-1.        , -0.97979798, -0.95959596, -0.93939394, -0.91919192,\n",
       "       -0.8989899 , -0.87878788, -0.85858586, -0.83838384, -0.81818182,\n",
       "       -0.7979798 , -0.77777778, -0.75757576, -0.73737374, -0.71717172,\n",
       "       -0.6969697 , -0.67676768, -0.65656566, -0.63636364, -0.61616162,\n",
       "       -0.5959596 , -0.57575758, -0.55555556, -0.53535354, -0.51515152,\n",
       "       -0.49494949, -0.47474747, -0.45454545, -0.43434343, -0.41414141,\n",
       "       -0.39393939, -0.37373737, -0.35353535, -0.33333333, -0.31313131,\n",
       "       -0.29292929, -0.27272727, -0.25252525, -0.23232323, -0.21212121,\n",
       "       -0.19191919, -0.17171717, -0.15151515, -0.13131313, -0.11111111,\n",
       "       -0.09090909, -0.07070707, -0.05050505, -0.03030303, -0.01010101,\n",
       "        0.01010101,  0.03030303,  0.05050505,  0.07070707,  0.09090909,\n",
       "        0.11111111,  0.13131313,  0.15151515,  0.17171717,  0.19191919,\n",
       "        0.21212121,  0.23232323,  0.25252525,  0.27272727,  0.29292929,\n",
       "        0.31313131,  0.33333333,  0.35353535,  0.37373737,  0.39393939,\n",
       "        0.41414141,  0.43434343,  0.45454545,  0.47474747,  0.49494949,\n",
       "        0.51515152,  0.53535354,  0.55555556,  0.57575758,  0.5959596 ,\n",
       "        0.61616162,  0.63636364,  0.65656566,  0.67676768,  0.6969697 ,\n",
       "        0.71717172,  0.73737374,  0.75757576,  0.77777778,  0.7979798 ,\n",
       "        0.81818182,  0.83838384,  0.85858586,  0.87878788,  0.8989899 ,\n",
       "        0.91919192,  0.93939394,  0.95959596,  0.97979798,  1.        ]), y=array([-0.84147098, -0.83038482, -0.81895978, -0.8072005 , -0.79511181,\n",
       "       -0.78269862, -0.76996601, -0.75691917, -0.74356342, -0.72990422,\n",
       "       -0.71594714, -0.70169788, -0.68716224, -0.67234618, -0.65725572,\n",
       "       -0.64189703, -0.62627638, -0.61040014, -0.59427479, -0.57790691,\n",
       "       -0.56130318, -0.54447039, -0.52741539, -0.51014514, -0.49266671,\n",
       "       -0.47498721, -0.45711386, -0.43905397, -0.42081489, -0.40240408,\n",
       "       -0.38382904, -0.36509735, -0.34621667, -0.3271947 , -0.30803919,\n",
       "       -0.28875797, -0.26935891, -0.24984992, -0.23023896, -0.21053404,\n",
       "       -0.1907432 , -0.17087452, -0.1509361 , -0.13093608, -0.11088263,\n",
       "       -0.09078392, -0.07064817, -0.05048358, -0.03029839, -0.01010084,\n",
       "        0.01010084,  0.03029839,  0.05048358,  0.07064817,  0.09078392,\n",
       "        0.11088263,  0.13093608,  0.1509361 ,  0.17087452,  0.1907432 ,\n",
       "        0.21053404,  0.23023896,  0.24984992,  0.26935891,  0.28875797,\n",
       "        0.30803919,  0.3271947 ,  0.34621667,  0.36509735,  0.38382904,\n",
       "        0.40240408,  0.42081489,  0.43905397,  0.45711386,  0.47498721,\n",
       "        0.49266671,  0.51014514,  0.52741539,  0.54447039,  0.56130318,\n",
       "        0.57790691,  0.59427479,  0.61040014,  0.62627638,  0.64189703,\n",
       "        0.65725572,  0.67234618,  0.68716224,  0.70169788,  0.71594714,\n",
       "        0.72990422,  0.74356342,  0.75691917,  0.76996601,  0.78269862,\n",
       "        0.79511181,  0.8072005 ,  0.81895978,  0.83038482,  0.84147098]))], scale_x=LinearScale(allow_padding=False, max=1.0, min=0.0), scale_y=LinearScale(allow_padding=False, max=1.0, min=0.0), title='Title')))"
      ]
     },
     "metadata": {},
     "output_type": "display_data"
    },
    {
     "data": {
      "application/vnd.jupyter.widget-view+json": {
       "model_id": "6ca2cbdbb8894ce992be95a784b02654",
       "version_major": 2,
       "version_minor": 0
      },
      "text/html": [
       "<p>Failed to display Jupyter Widget of type <code>VBox</code>.</p>\n",
       "<p>\n",
       "  If you're reading this message in the Jupyter Notebook or JupyterLab Notebook, it may mean\n",
       "  that the widgets JavaScript is still loading. If this message persists, it\n",
       "  likely means that the widgets JavaScript library is either not installed or\n",
       "  not enabled. See the <a href=\"https://ipywidgets.readthedocs.io/en/stable/user_install.html\">Jupyter\n",
       "  Widgets Documentation</a> for setup instructions.\n",
       "</p>\n",
       "<p>\n",
       "  If you're reading this message in another frontend (for example, a static\n",
       "  rendering on GitHub or <a href=\"https://nbviewer.jupyter.org/\">NBViewer</a>),\n",
       "  it may mean that your frontend doesn't currently support widgets.\n",
       "</p>\n"
      ],
      "text/plain": [
       "VBox(children=(HBox(children=(Label(value='0'), Label(value='\\\\(x\\\\)', layout=Layout(display='inline-flex'), style=DescriptionStyle(description_width='initial')))),))"
      ]
     },
     "metadata": {},
     "output_type": "display_data"
    },
    {
     "data": {
      "application/vnd.jupyter.widget-view+json": {
       "model_id": "347c1bebe1ac4092805c19c1be61d98c",
       "version_major": 2,
       "version_minor": 0
      },
      "text/html": [
       "<p>Failed to display Jupyter Widget of type <code>VBox</code>.</p>\n",
       "<p>\n",
       "  If you're reading this message in the Jupyter Notebook or JupyterLab Notebook, it may mean\n",
       "  that the widgets JavaScript is still loading. If this message persists, it\n",
       "  likely means that the widgets JavaScript library is either not installed or\n",
       "  not enabled. See the <a href=\"https://ipywidgets.readthedocs.io/en/stable/user_install.html\">Jupyter\n",
       "  Widgets Documentation</a> for setup instructions.\n",
       "</p>\n",
       "<p>\n",
       "  If you're reading this message in another frontend (for example, a static\n",
       "  rendering on GitHub or <a href=\"https://nbviewer.jupyter.org/\">NBViewer</a>),\n",
       "  it may mean that your frontend doesn't currently support widgets.\n",
       "</p>\n"
      ],
      "text/plain": [
       "VBox(children=(HBox(children=(Label(value='0'), Label(value='\\\\(x\\\\)', layout=Layout(display='inline-flex'), style=DescriptionStyle(description_width='initial')))),))"
      ]
     },
     "metadata": {},
     "output_type": "display_data"
    },
    {
     "data": {
      "application/vnd.jupyter.widget-view+json": {
       "model_id": "4fa16b054bc34fd38047ec776e083a2e",
       "version_major": 2,
       "version_minor": 0
      },
      "text/html": [
       "<p>Failed to display Jupyter Widget of type <code>VBox</code>.</p>\n",
       "<p>\n",
       "  If you're reading this message in the Jupyter Notebook or JupyterLab Notebook, it may mean\n",
       "  that the widgets JavaScript is still loading. If this message persists, it\n",
       "  likely means that the widgets JavaScript library is either not installed or\n",
       "  not enabled. See the <a href=\"https://ipywidgets.readthedocs.io/en/stable/user_install.html\">Jupyter\n",
       "  Widgets Documentation</a> for setup instructions.\n",
       "</p>\n",
       "<p>\n",
       "  If you're reading this message in another frontend (for example, a static\n",
       "  rendering on GitHub or <a href=\"https://nbviewer.jupyter.org/\">NBViewer</a>),\n",
       "  it may mean that your frontend doesn't currently support widgets.\n",
       "</p>\n"
      ],
      "text/plain": [
       "VBox(children=(HBox(children=(Label(value='0'), Label(value='\\\\(x\\\\)', layout=Layout(display='inline-flex'), style=DescriptionStyle(description_width='initial')))),))"
      ]
     },
     "metadata": {},
     "output_type": "display_data"
    },
    {
     "data": {
      "application/vnd.jupyter.widget-view+json": {
       "model_id": "5e0393e485ac4a9e804017e1089bbfe9",
       "version_major": 2,
       "version_minor": 0
      },
      "text/html": [
       "<p>Failed to display Jupyter Widget of type <code>VBox</code>.</p>\n",
       "<p>\n",
       "  If you're reading this message in the Jupyter Notebook or JupyterLab Notebook, it may mean\n",
       "  that the widgets JavaScript is still loading. If this message persists, it\n",
       "  likely means that the widgets JavaScript library is either not installed or\n",
       "  not enabled. See the <a href=\"https://ipywidgets.readthedocs.io/en/stable/user_install.html\">Jupyter\n",
       "  Widgets Documentation</a> for setup instructions.\n",
       "</p>\n",
       "<p>\n",
       "  If you're reading this message in another frontend (for example, a static\n",
       "  rendering on GitHub or <a href=\"https://nbviewer.jupyter.org/\">NBViewer</a>),\n",
       "  it may mean that your frontend doesn't currently support widgets.\n",
       "</p>\n"
      ],
      "text/plain": [
       "VBox(children=(HBox(children=(Label(value='0'), Label(value='\\\\(x\\\\)', layout=Layout(display='inline-flex'), style=DescriptionStyle(description_width='initial')))), HBox(children=(Label(value='1'), Label(value='\\\\(\\\\sin^{3}{\\\\left (x + 2 \\\\right )}\\\\)', layout=Layout(display='inline-flex'), style=DescriptionStyle(description_width='initial'))))))"
      ]
     },
     "metadata": {},
     "output_type": "display_data"
    },
    {
     "data": {
      "application/vnd.jupyter.widget-view+json": {
       "model_id": "a3f5aaeb9b334fe1bc415a9302994b1f",
       "version_major": 2,
       "version_minor": 0
      },
      "text/html": [
       "<p>Failed to display Jupyter Widget of type <code>VBox</code>.</p>\n",
       "<p>\n",
       "  If you're reading this message in the Jupyter Notebook or JupyterLab Notebook, it may mean\n",
       "  that the widgets JavaScript is still loading. If this message persists, it\n",
       "  likely means that the widgets JavaScript library is either not installed or\n",
       "  not enabled. See the <a href=\"https://ipywidgets.readthedocs.io/en/stable/user_install.html\">Jupyter\n",
       "  Widgets Documentation</a> for setup instructions.\n",
       "</p>\n",
       "<p>\n",
       "  If you're reading this message in another frontend (for example, a static\n",
       "  rendering on GitHub or <a href=\"https://nbviewer.jupyter.org/\">NBViewer</a>),\n",
       "  it may mean that your frontend doesn't currently support widgets.\n",
       "</p>\n"
      ],
      "text/plain": [
       "VBox(children=(HBox(children=(Label(value='0'), Label(value='\\\\(x\\\\)', layout=Layout(display='inline-flex'), style=DescriptionStyle(description_width='initial')))), HBox(children=(Label(value='1'), Label(value='\\\\(\\\\sin^{3}{\\\\left (x + 2 \\\\right )}\\\\)', layout=Layout(display='inline-flex'), style=DescriptionStyle(description_width='initial'))))))"
      ]
     },
     "metadata": {},
     "output_type": "display_data"
    },
    {
     "data": {
      "application/vnd.jupyter.widget-view+json": {
       "model_id": "3eb7cf7f0fc24e26982a88d55a40dc8c",
       "version_major": 2,
       "version_minor": 0
      },
      "text/html": [
       "<p>Failed to display Jupyter Widget of type <code>VBox</code>.</p>\n",
       "<p>\n",
       "  If you're reading this message in the Jupyter Notebook or JupyterLab Notebook, it may mean\n",
       "  that the widgets JavaScript is still loading. If this message persists, it\n",
       "  likely means that the widgets JavaScript library is either not installed or\n",
       "  not enabled. See the <a href=\"https://ipywidgets.readthedocs.io/en/stable/user_install.html\">Jupyter\n",
       "  Widgets Documentation</a> for setup instructions.\n",
       "</p>\n",
       "<p>\n",
       "  If you're reading this message in another frontend (for example, a static\n",
       "  rendering on GitHub or <a href=\"https://nbviewer.jupyter.org/\">NBViewer</a>),\n",
       "  it may mean that your frontend doesn't currently support widgets.\n",
       "</p>\n"
      ],
      "text/plain": [
       "VBox(children=(HBox(children=(Label(value='0'), Label(value='\\\\(x\\\\)', layout=Layout(display='inline-flex'), style=DescriptionStyle(description_width='initial')))), HBox(children=(Label(value='1'), Label(value='\\\\(\\\\sin^{3}{\\\\left (x + 2 \\\\right )}\\\\)', layout=Layout(display='inline-flex'), style=DescriptionStyle(description_width='initial')))), HBox(children=(Label(value='2'), Label(value='\\\\(3 \\\\sin^{2}{\\\\left (x + 2 \\\\right )} \\\\cos{\\\\left (x + 2 \\\\right )}\\\\)', layout=Layout(display='inline-flex'), style=DescriptionStyle(description_width='initial'))))))"
      ]
     },
     "metadata": {},
     "output_type": "display_data"
    }
   ],
   "source": [
    "send_btn.on_click(readexpr)\n",
    "simp_btn.on_click(simplify)\n",
    "expand_btn.on_click(expand)\n",
    "difx_btn.on_click(derix)\n",
    "input_box = widgets.HBox([expr_input, send_btn, simp_btn, expand_btn, difx_btn])\n",
    "widgets.VBox([input_box, eq_out0, eq_out1, eqchoice, history_vbox, fig])\n"
   ]
  },
  {
   "cell_type": "code",
   "execution_count": 7,
   "metadata": {
    "extensions": {
     "jupyter_dashboards": {
      "version": 1,
      "views": {
       "grid_default": {
        "col": 8,
        "height": 4,
        "hidden": true,
        "row": 0,
        "width": 4
       },
       "report_default": {
        "hidden": false
       }
      }
     }
    },
    "scrolled": true
   },
   "outputs": [
    {
     "data": {
      "application/vnd.jupyter.widget-view+json": {
       "model_id": "290207fd76f34b018097909bf55a359b",
       "version_major": 2,
       "version_minor": 0
      },
      "text/html": [
       "<p>Failed to display Jupyter Widget of type <code>VBox</code>.</p>\n",
       "<p>\n",
       "  If you're reading this message in the Jupyter Notebook or JupyterLab Notebook, it may mean\n",
       "  that the widgets JavaScript is still loading. If this message persists, it\n",
       "  likely means that the widgets JavaScript library is either not installed or\n",
       "  not enabled. See the <a href=\"https://ipywidgets.readthedocs.io/en/stable/user_install.html\">Jupyter\n",
       "  Widgets Documentation</a> for setup instructions.\n",
       "</p>\n",
       "<p>\n",
       "  If you're reading this message in another frontend (for example, a static\n",
       "  rendering on GitHub or <a href=\"https://nbviewer.jupyter.org/\">NBViewer</a>),\n",
       "  it may mean that your frontend doesn't currently support widgets.\n",
       "</p>\n"
      ],
      "text/plain": [
       "VBox()"
      ]
     },
     "metadata": {},
     "output_type": "display_data"
    }
   ],
   "source": [
    "display(history_vbox)"
   ]
  },
  {
   "cell_type": "code",
   "execution_count": null,
   "metadata": {
    "collapsed": true,
    "extensions": {
     "jupyter_dashboards": {
      "version": 1,
      "views": {
       "grid_default": {
        "hidden": true
       },
       "report_default": {
        "hidden": true
       }
      }
     }
    }
   },
   "outputs": [],
   "source": []
  }
 ],
 "metadata": {
  "extensions": {
   "jupyter_dashboards": {
    "activeView": "grid_default",
    "version": 1,
    "views": {
     "grid_default": {
      "cellMargin": 10,
      "defaultCellHeight": 20,
      "maxColumns": 12,
      "name": "grid",
      "type": "grid"
     },
     "report_default": {
      "name": "report",
      "type": "report"
     }
    }
   }
  },
  "kernelspec": {
   "display_name": "Python 3",
   "language": "python",
   "name": "python3"
  },
  "language_info": {
   "codemirror_mode": {
    "name": "ipython",
    "version": 3
   },
   "file_extension": ".py",
   "mimetype": "text/x-python",
   "name": "python",
   "nbconvert_exporter": "python",
   "pygments_lexer": "ipython3",
   "version": "3.6.3"
  }
 },
 "nbformat": 4,
 "nbformat_minor": 2
}
